{
 "cells": [
  {
   "cell_type": "markdown",
   "id": "ca6b3acc-43af-4928-81c8-5d4e9eae7618",
   "metadata": {},
   "source": [
    "<a href=\"https://www.nvidia.com/dli\"> <img src=\"images/DLI_Header.png\" alt=\"Header\" style=\"width: 400px;\"/> </a>"
   ]
  },
  {
   "cell_type": "markdown",
   "id": "661bf3fc-9c36-4746-8de1-adab50f021d7",
   "metadata": {},
   "source": [
    "# Enhancing Data Science Outcomes With Efficient Workflow #"
   ]
  },
  {
   "cell_type": "markdown",
   "id": "19f9e914-8815-4144-9f8b-58c3d9cb0045",
   "metadata": {},
   "source": [
    "## 01 - Machine Learning Classification Task Primer ##\n",
    "This lab covers the machine learning model development step of the data science workflow. Model development involves model building, evaluation, fine-tuning, model selection, and model persistence. \n",
    "\n",
    "<p><img src='images/pipeline_overview_2.png' width=1080></p>\n",
    "\n",
    "**Table of Contents**\n",
    "<br>\n",
    "In this notebook, we will train a classification model and discuss model evaluation. This notebook covers the below sections: \n",
    "1. [Machine Learning Classification Task](#s1-1)\n",
    "2. [Model Development](#s1-2)\n",
    "    * [Random Forest](#s1-2.1)\n",
    "    * [Exercise #1 - Model Evaluation](#s1-e1)\n",
    "3. [Enhanced Model Evaluation](#s1-3)"
   ]
  },
  {
   "cell_type": "markdown",
   "id": "ba06fefe-92bd-4186-91fb-eabeb17119d4",
   "metadata": {},
   "source": [
    "<a name='s1-1'></a>\n",
    "## Machine Learning Classification ##\n",
    "Classification is a machine learning task that learns how to assign a class label to examples from a domain. Throughout the lab, we will focus on developing a binary classification model, which predicts a given input data as one of two classes. Classification requires a dataset with many examples of inputs and labels from which to train. As the size of the dataset grows, the computation and time required can become a bottleneck for model development. "
   ]
  },
  {
   "cell_type": "markdown",
   "id": "23fe1e86-796d-4c95-a62a-b0fdb77b28e2",
   "metadata": {},
   "source": [
    "<a name='s1-2'></a>\n",
    "## Model Development ##\n",
    "We will build a classification model to predict the binary outcome. We break down the procedure into the following steps: \n",
    "1. Load data\n",
    "2. Train model\n",
    "3. Evaluate\n",
    "\n",
    "We start by importing data. For this experiment, we will train a [RandomForestClassifier](https://scikit-learn.org/0.17/modules/generated/sklearn.ensemble.RandomForestClassifier.html#sklearn.ensemble.RandomForestClassifier) from [scikit-learn](https://scikit-learn.org/stable/). From the previous exercises, we wrote the processed data into 4 Parquet files. We will load these files in parallel with Dask. Since we are training with the CPU, we will load the data into the host memory with `dask.dataframe.read_parquet()`[[doc]](https://scikit-learn.org/stable/). For comparison, we start with using the original features only. W"
   ]
  },
  {
   "cell_type": "code",
   "execution_count": 1,
   "id": "2d1e23af-c524-474c-8009-17860ced4874",
   "metadata": {},
   "outputs": [],
   "source": [
    "# import dependencies\n",
    "import warnings\n",
    "warnings.filterwarnings('ignore')\n",
    "\n",
    "from sklearn.ensemble import RandomForestClassifier\n",
    "from sklearn.model_selection import train_test_split\n",
    "from sklearn.metrics import roc_curve, classification_report, precision_recall_curve, roc_auc_score, confusion_matrix, accuracy_score, f1_score\n",
    "\n",
    "import dask.dataframe as dd\n",
    "import matplotlib.pyplot as plt\n",
    "import time"
   ]
  },
  {
   "cell_type": "code",
   "execution_count": 2,
   "id": "ea2c9d20-fa24-4104-9fc7-3e45eed7b43a",
   "metadata": {},
   "outputs": [],
   "source": [
    "# specify features list\n",
    "features_list=['brand', 'cat_0', 'cat_1', 'cat_2', 'cat_3', \n",
    "               'price', 'ts_hour', 'ts_minute', 'ts_weekday']\n",
    "\n",
    "include=features_list+['target']\n",
    "\n",
    "# read data with Dask\n",
    "ddf=dd.read_parquet('processed_parquet', columns=include)"
   ]
  },
  {
   "cell_type": "code",
   "execution_count": 3,
   "id": "9d59fb18-f657-4218-b421-c241e6018670",
   "metadata": {
    "scrolled": true,
    "tags": []
   },
   "outputs": [
    {
     "data": {
      "image/png": "[encoded data removed]",
      "text/plain": [
       "<IPython.core.display.Image object>"
      ]
     },
     "execution_count": 3,
     "metadata": {},
     "output_type": "execute_result"
    }
   ],
   "source": [
    "# visualize graph\n",
    "ddf.visualize()"
   ]
  },
  {
   "cell_type": "markdown",
   "id": "9fff5abf-8838-4986-9771-8595a6a752d6",
   "metadata": {},
   "source": [
    "<p><img src='images/tip.png' width=720></p>\n",
    "Because the data is likely loaded multiple times during model development and fine-tuning, the Parquet file format offers better data loading performance overall than the CSV file. "
   ]
  },
  {
   "cell_type": "markdown",
   "id": "38b27115-e828-427b-a5d2-ea418afdf763",
   "metadata": {},
   "source": [
    "Next, we define the target and features. We will force the data to be loaded into memory with `.compute()`. Data needs to be split into a train and test set, which can be accomplished with `sklearn.model_selection.train_test_split()`[[doc]](https://scikit-learn.org/stable/modules/generated/sklearn.model_selection.train_test_split.html#sklearn.model_selection.train_test_split). The train-test split procedure gives us the ability to estimate the performance of machine learning algorithms when they are used to make predictions on data not used to train the model. It is considered a better evaluation. "
   ]
  },
  {
   "cell_type": "code",
   "execution_count": 6,
   "id": "4c6180f1-be62-4827-b86f-67036cd127d7",
   "metadata": {},
   "outputs": [],
   "source": [
    "# load data in memory\n",
    "X=ddf[features_list].compute()\n",
    "y=ddf['target'].compute()"
   ]
  },
  {
   "cell_type": "code",
   "execution_count": 7,
   "id": "efca7534-a270-4805-b601-175f67ff731c",
   "metadata": {},
   "outputs": [],
   "source": [
    "# split data into train and test sets\n",
    "X_train, X_test, y_train, y_test=train_test_split(X, y, random_state=42)"
   ]
  },
  {
   "cell_type": "markdown",
   "id": "4921eb77-95db-4339-91d4-87d81a2d0335",
   "metadata": {},
   "source": [
    "Next, we will define the classification model. "
   ]
  },
  {
   "cell_type": "markdown",
   "id": "f2082686-8469-41e8-b4dc-b8842b35501c",
   "metadata": {},
   "source": [
    "<a name='s1-2.1'></a>\n",
    "### Random Forest ###\n",
    "The **Random Forest** algorithm is a popular choice for classification and regression problems. It's an ensemble model that trains multiple decision trees and uses a consensus mechanism to make the final prediction. By having multiple trees trained on subsets of the data, it reduces the issue of overfitting with individual decision trees. \n",
    "\n",
    "Random forests use the techniques of bagging (bootstrap aggregation) and feature subsampling to make sure that no two resulting decision trees are the same. With bagging, each decision tree is trained upon a different sample of the original dataset. In the bootstrapped dataset, a given sample (row) of the training data can exist multiple times due to replacement. When the algorithm decides on a split during tree building, only a random sample of features (columns) is considered. Feature subsampling can highlight different aspects of the dataset that might go unnoticed if they are overpowered by more prominent features. \n",
    "\n",
    "<p><img src='images/random_forest.png' width=720></p>\n",
    "\n",
    "skikit-learn's `RandomForestClassifier()` supports a number of model parameters: \n",
    "* `n_estimators` (default=100): the number of trees in the forest\n",
    "* `max_depth` (default=None): the maximum depth of the tree\n",
    "* `min_samples_leaf` (default=1) and `min_samples_split` (default=2): the minimum number of samples required to be a leaf node and split. \n",
    "\n",
    "Though we are using the default parameters, we will work to optimize them in the following exercises. \n",
    "\n",
    "<p><img src='images/tip.png' width=720></p>\n",
    "\n",
    "Ensemble methods based on decision tress are popular because they produce good results and can be easily interpreted. "
   ]
  },
  {
   "cell_type": "code",
   "execution_count": 8,
   "id": "b61316a7-ebca-4eee-aba6-a0da42b49e1c",
   "metadata": {},
   "outputs": [],
   "source": [
    "# initialize classifier\n",
    "rf=RandomForestClassifier()"
   ]
  },
  {
   "cell_type": "code",
   "execution_count": 9,
   "id": "3cc26449-5233-4dad-8d11-4b024ab4acb4",
   "metadata": {
    "scrolled": true,
    "tags": []
   },
   "outputs": [
    {
     "name": "stdout",
     "output_type": "stream",
     "text": [
      "Training 1846272 samples took 4.89 minutes. \n"
     ]
    }
   ],
   "source": [
    "# train model\n",
    "start=time.time()\n",
    "rf.fit(X_train, y_train)\n",
    "elapsed_time=time.time()-start\n",
    "\n",
    "print(f'Training {len(X_train)} samples took {round(elapsed_time/60, 2)} minutes. ')"
   ]
  },
  {
   "cell_type": "markdown",
   "id": "a4c4505f-672f-4cfc-97a7-3971b71d7a6f",
   "metadata": {},
   "source": [
    "<p><img src='images/tip.png' width=720></p>\n",
    "\n",
    "The number of trees and training time are close to linearly correlated. Training 350 trees would likely take - "
   ]
  },
  {
   "cell_type": "code",
   "execution_count": 10,
   "id": "00eaddb2-f5f3-47d6-879d-dd2a37c8119f",
   "metadata": {
    "scrolled": true,
    "tags": []
   },
   "outputs": [
    {
     "name": "stdout",
     "output_type": "stream",
     "text": [
      "17.11 minutes\n"
     ]
    }
   ],
   "source": [
    "# estimate training time\n",
    "print(f'{round(elapsed_time/100/60*350, 2)} minutes')"
   ]
  },
  {
   "cell_type": "markdown",
   "id": "f4bb8632-5efb-4018-9e7c-9cd752d9477c",
   "metadata": {},
   "source": [
    "<a name='s1-e1'></a>\n",
    "### Exercise #1 - Model Evaluation ###\n",
    "Once the model has been fitted to the data, we need to evaluate model performance. In addition to model performance, inference performance is also an important consideration. We can use the `.score()`[[doc]](https://scikit-learn.org/stable/modules/generated/sklearn.dummy.DummyClassifier.html#sklearn.dummy.DummyClassifier.score) method to get the overall accuracy score of the model. In addition to model accuracy, we are also interested in the model inference performance, i.e., how many predictions can the model produce. \n",
    "\n",
    "**Instructions**: <br>\n",
    "* Modify the `<FIXME>`s only and execute the below cell to calculate the training and testing accuracy scores. \n",
    "* Execute the cell below to calculate the throughput. "
   ]
  },
  {
   "cell_type": "code",
   "execution_count": 11,
   "id": "2480ad43-bcd8-47d4-97cd-07352dc9e122",
   "metadata": {
    "tags": []
   },
   "outputs": [
    {
     "name": "stdout",
     "output_type": "stream",
     "text": [
      "Train score: 0.97 | Test score: 0.65\n"
     ]
    }
   ],
   "source": [
    "# evaluate model performance\n",
    "train_score=rf.score(X_train, y_train)\n",
    "test_score=rf.score(X_test, y_test)\n",
    "\n",
    "print(f'Train score: {round(train_score, 2)} | Test score: {round(test_score, 2)}')"
   ]
  },
  {
   "cell_type": "raw",
   "id": "f2c8dca8-c307-40e2-9b1e-748d48e8ba67",
   "metadata": {
    "tags": []
   },
   "source": [
    "train_score=rf.score(X_train, y_train)\n",
    "test_score=rf.score(X_test, y_test)\n",
    "\n",
    "print(f'Train score: {round(train_score, 2)} | Test score: {round(test_score, 2)}')"
   ]
  },
  {
   "cell_type": "markdown",
   "id": "3212fc59-e4ea-435e-99b2-5dfa4f94a268",
   "metadata": {},
   "source": [
    "Click ... to show **solution**."
   ]
  },
  {
   "cell_type": "code",
   "execution_count": 12,
   "id": "466042c5-4d67-4fd0-a4f5-6996af999be6",
   "metadata": {
    "scrolled": true,
    "tags": []
   },
   "outputs": [
    {
     "name": "stdout",
     "output_type": "stream",
     "text": [
      "Throughput is: 18297.27 per seconds. \n"
     ]
    }
   ],
   "source": [
    "# evaluate model inference performance\n",
    "start=time.time()\n",
    "prediction_test=rf.predict_proba(X_test)\n",
    "elapsed_time=time.time()-start\n",
    "\n",
    "throughput=round(len(X_test)/elapsed_time, 2)\n",
    "print(f'Throughput is: {throughput} per seconds. ')"
   ]
  },
  {
   "cell_type": "markdown",
   "id": "273d73f6-1043-4344-b427-f20f18515cb1",
   "metadata": {},
   "source": [
    "<a name='s1-3'></a>\n",
    "## Enhanced Model Evaluation ##\n",
    "Generally, the overall accuracy is not the best measure to determine the performance of classification models, particularly those that are trained with imbalanced or skewed datasets. We saw from the previous exercise that the model suffers from overfitting based on the accuracy score discrepancies between the train and test set. [Precision, recall, and F1 score](https://en.wikipedia.org/wiki/Precision_and_recall) are recommended alternatives to help select the right classification model. The f1 score is the weighted average of precision and recall. \n",
    "\n",
    "Furthermore, we can use the [AUC-ROC Curve](https://en.wikipedia.org/wiki/Receiver_operating_characteristic) to calculate the area under the receiver operating characteristic curve from prediction scores. It is used to measure how well a model is capable of distinguishing between classes. This can be done with the `.roc_auc_score()`[[doc]](https://scikit-learn.org/stable/modules/generated/sklearn.metrics.roc_auc_score.html)  function. "
   ]
  },
  {
   "cell_type": "code",
   "execution_count": 13,
   "id": "5349884f-4e0a-4918-a163-982099d19aa1",
   "metadata": {},
   "outputs": [],
   "source": [
    "# get probability of positive class\n",
    "prediction_proba=prediction_test[:, 1]\n",
    "\n",
    "# get prediction label if using best threshold\n",
    "threshold=0.5\n",
    "prediction_label=(prediction_proba >= threshold).astype('int64')"
   ]
  },
  {
   "cell_type": "code",
   "execution_count": 14,
   "id": "62f79929-e4d9-439c-a058-076ea402800e",
   "metadata": {
    "scrolled": true,
    "tags": []
   },
   "outputs": [
    {
     "name": "stdout",
     "output_type": "stream",
     "text": [
      "Classification Report: \n",
      "               precision    recall  f1-score   support\n",
      "\n",
      "           0       0.69      0.77      0.72    363564\n",
      "           1       0.59      0.49      0.54    251861\n",
      "\n",
      "    accuracy                           0.65    615425\n",
      "   macro avg       0.64      0.63      0.63    615425\n",
      "weighted avg       0.65      0.65      0.65    615425\n",
      "\n",
      "Confusion Matrix: \n",
      " [[278428  85136]\n",
      " [127638 124223]]\n"
     ]
    }
   ],
   "source": [
    "# generate classification report and confusion matrix\n",
    "print(\"Classification Report: \\n\", classification_report(y_test, prediction_label))\n",
    "print(\"Confusion Matrix: \\n\", confusion_matrix(y_test, prediction_label))"
   ]
  },
  {
   "cell_type": "code",
   "execution_count": 15,
   "id": "353997bd-2b97-441b-849b-766237a81ee3",
   "metadata": {
    "scrolled": true,
    "tags": []
   },
   "outputs": [
    {
     "name": "stdout",
     "output_type": "stream",
     "text": [
      "F1 Score is 0.54. \n",
      "Area Under the Receiver Operating Characteristic Curve is 0.71. \n"
     ]
    }
   ],
   "source": [
    "# calculate precision, recall, and f1 score\n",
    "precision, recall, thresholds=precision_recall_curve(y_test, prediction_proba)\n",
    "f1=f1_score(y_test, prediction_label)\n",
    "\n",
    "# calculate AUC ROC\n",
    "auc_roc=roc_auc_score(y_test, prediction_proba)\n",
    "\n",
    "print(f'F1 Score is {round(f1, 2)}. ')\n",
    "print(f'Area Under the Receiver Operating Characteristic Curve is {round(auc_roc, 2)}. ')"
   ]
  },
  {
   "cell_type": "code",
   "execution_count": 16,
   "id": "c361d0ee-df53-4cae-b6e7-71f241dd2465",
   "metadata": {
    "scrolled": true,
    "tags": []
   },
   "outputs": [
    {
     "data": {
      "image/png": "[encoded data removed]",
      "text/plain": [
       "<Figure size 640x480 with 1 Axes>"
      ]
     },
     "metadata": {},
     "output_type": "display_data"
    }
   ],
   "source": [
    "# calculate fpr and tpr using sklearn\n",
    "fpr, tpr, _=roc_curve(y_test, prediction_proba)\n",
    "\n",
    "# plot ROC\n",
    "plt.plot(fpr, tpr, label=f'ROC Curve (Area = {round(auc_roc, 2)})')\n",
    "plt.plot([0, 1], [0, 1], linestyle='--', label='ROC Random')\n",
    "plt.xlabel('False Positive Rate')\n",
    "plt.ylabel('True Positive Rate')\n",
    "plt.title('Receiver Operating Characteristic')\n",
    "plt.legend(loc='lower right')\n",
    "plt.show()"
   ]
  },
  {
   "cell_type": "markdown",
   "id": "2e9e7819-efcf-4255-bcb4-01a356398639",
   "metadata": {},
   "source": [
    "<p><img src='images/tip.png' width=720></p>\n",
    "\n",
    "When calculating various metrics, it's important to understand when `y_score` or `y_pred` should be used. They differ in that `y_score` is the probability estimates `y_pred` is the estimated target labels. "
   ]
  },
  {
   "cell_type": "code",
   "execution_count": 17,
   "id": "dec6bac8-b48f-438a-a357-b57b7efb5964",
   "metadata": {},
   "outputs": [
    {
     "data": {
      "text/plain": [
       "{'status': 'ok', 'restart': False}"
      ]
     },
     "execution_count": 17,
     "metadata": {},
     "output_type": "execute_result"
    }
   ],
   "source": [
    "# clean GPU memory\n",
    "import IPython\n",
    "app = IPython.Application.instance()\n",
    "app.kernel.do_shutdown(restart=False)"
   ]
  },
  {
   "cell_type": "markdown",
   "id": "58b0916b-3413-4822-a65c-e03c659222a7",
   "metadata": {},
   "source": [
    "This will serve as the baseline machine learning model. Going forward, we will work towards improving model performance and model inference performance. \n",
    "\n",
    "**Well Done!** Let's move to the [next notebook](2_02_accelerated_model_development.ipynb). "
   ]
  },
  {
   "cell_type": "markdown",
   "id": "85aff521-bafe-452e-98a3-5b4c2ba288d9",
   "metadata": {},
   "source": [
    "<a href=\"https://www.nvidia.com/dli\"> <img src=\"images/DLI_Header.png\" alt=\"Header\" style=\"width: 400px;\"/> </a>"
   ]
  }
 ],
 "metadata": {
  "kernelspec": {
   "display_name": "Python 3 (ipykernel)",
   "language": "python",
   "name": "python3"
  },
  "language_info": {
   "codemirror_mode": {
    "name": "ipython",
    "version": 3
   },
   "file_extension": ".py",
   "mimetype": "text/x-python",
   "name": "python",
   "nbconvert_exporter": "python",
   "pygments_lexer": "ipython3",
   "version": "3.9.15"
  }
 },
 "nbformat": 4,
 "nbformat_minor": 5
}

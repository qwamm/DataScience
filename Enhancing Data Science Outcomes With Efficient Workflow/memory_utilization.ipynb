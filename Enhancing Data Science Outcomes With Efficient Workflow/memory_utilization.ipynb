{
 "cells": [
  {
   "cell_type": "markdown",
   "id": "990e872a-38a9-4058-8004-69f23d6dfb44",
   "metadata": {},
   "source": [
    "<a href=\"https://www.nvidia.com/dli\"> <img src=\"images/DLI_Header.png\" alt=\"Header\" style=\"width: 400px;\"/> </a>"
   ]
  },
  {
   "cell_type": "markdown",
   "id": "7d627be1-3c91-4400-ac39-7fbcd5328f03",
   "metadata": {},
   "source": [
    "<a name='s1-2.2'></a>\n",
    "### Memory Utilization ###\n",
    "Memory utilization on a DataFrame depends largely on the date types for each column. \n",
    "\n",
    "<p><img src='images/dtypes.png' width=720></p>\n",
    "\n",
    "We can use `DataFrame.memory_usage()` to see the memory usage for each column (in bytes). Most of the common data types have a fixed size in memory, such as `int`, `float`, `datetime`, and `bool`. Memory usage for these data types is the respective memory requirement multiplied by the number of data points. For `string` data types, the memory usage reported is the number of data points times 8 bytes. This accounts for the 64-bit required for the pointer that points to an address in memory but doesn't include the memory used for the actual string values. The actual memory required for a `string` value is 49 bytes plus an additional byte for each character. The `deep` parameter provides a more accurate memory usage report that accounts for the system-level memory consumption of the contained `string` data type. \n",
    "\n",
    "Separately, we've provided a `dli_utils.make_decimal()` function to convert memory size into units based on powers of 2. In contrast to units based on powers of 10, this customary convention is commonly used to report memory capacity. More information about the two definitions can be found [here](https://en.wikipedia.org/wiki/Byte#Multiple-byte_units). "
   ]
  },
  {
   "cell_type": "code",
   "execution_count": null,
   "id": "2c081dcc-73db-465e-a449-f4fe5d2ef50b",
   "metadata": {
    "scrolled": true,
    "tags": []
   },
   "outputs": [],
   "source": [
    "# import dependencies\n",
    "import pandas as pd\n",
    "import sys\n",
    "import random\n",
    "\n",
    "# import utility\n",
    "from dli_utils import make_decimal\n",
    "\n",
    "# import data\n",
    "df=pd.read_csv('2020-Mar.csv')\n",
    "\n",
    "# preview DataFrame\n",
    "df.head()"
   ]
  },
  {
   "cell_type": "code",
   "execution_count": null,
   "id": "df5dd11c-e9b1-4de5-b81f-074023dd24d9",
   "metadata": {},
   "outputs": [],
   "source": [
    "# convert feature as datetime data type\n",
    "df['event_time']=pd.to_datetime(df['event_time'])"
   ]
  },
  {
   "cell_type": "code",
   "execution_count": null,
   "id": "613ad7f5-9ad0-4e16-b2f1-f14839e15104",
   "metadata": {
    "scrolled": true,
    "tags": []
   },
   "outputs": [],
   "source": [
    "# lists each column at 8 bytes/row\n",
    "memory_usage_df=df.memory_usage(index=False)\n",
    "memory_usage_df.name='memory_usage'\n",
    "dtypes_df=df.dtypes\n",
    "dtypes_df.name='dtype'\n",
    "\n",
    "# show each column uses roughly number of rows * 8 bytes\n",
    "# 8 bytes from 64-bit numerical data as well as 8 bytes to store a pointer for object data type\n",
    "byte_size=len(df) * 8 * len(df.columns)\n",
    "\n",
    "print(f'Total memory use is {byte_size} bytes or ~{make_decimal(byte_size)}.')\n",
    "\n",
    "pd.concat([memory_usage_df, dtypes_df], axis=1)"
   ]
  },
  {
   "cell_type": "code",
   "execution_count": null,
   "id": "4eda6318-b37e-4c21-90b3-2aa7b5dc3bb5",
   "metadata": {
    "scrolled": true,
    "tags": []
   },
   "outputs": [],
   "source": [
    "# lists each column's full memory usage\n",
    "memory_usage_df=df.memory_usage(deep=True, index=False)\n",
    "memory_usage_df.name='memory_usage'\n",
    "\n",
    "byte_size=memory_usage_df.sum()\n",
    "\n",
    "# show total memory usage\n",
    "print(f'Total memory use is {byte_size} bytes or ~{make_decimal(byte_size)}.')\n",
    "\n",
    "pd.concat([memory_usage_df, dtypes_df], axis=1)"
   ]
  },
  {
   "cell_type": "code",
   "execution_count": null,
   "id": "eba51237-01cc-4054-9976-a830d17ce517",
   "metadata": {
    "scrolled": true,
    "tags": []
   },
   "outputs": [],
   "source": [
    "# alternatively, use sys.getsizeof() instead\n",
    "byte_size=sys.getsizeof(df)\n",
    "\n",
    "print(f'Total memory use is {byte_size} bytes or ~{make_decimal(byte_size)}.')"
   ]
  },
  {
   "cell_type": "code",
   "execution_count": null,
   "id": "58768be7-bc1c-428a-b246-5f1178b0a239",
   "metadata": {},
   "outputs": [],
   "source": [
    "# check random string-typed column\n",
    "string_cols=[col for col in df.columns if df[col].dtype=='object' ]\n",
    "column_to_check=random.choice(string_cols)\n",
    "\n",
    "overhead=49\n",
    "pointer_size=8\n",
    "\n",
    "# nan==nan when value is not a number\n",
    "# nan uses 32 bytes of memory\n",
    "print(f'{column_to_check} column uses : {sum([(len(item)+overhead+pointer_size) if item==item else 32 for item in df[column_to_check].values])} bytes of memory.')"
   ]
  },
  {
   "cell_type": "markdown",
   "id": "b59c12bd-380e-4d0b-8cda-31d8eda747c7",
   "metadata": {},
   "source": [
    "<p><img src='images/tip.png' width=720></p>\n",
    "When Python stores a string, it actually uses memory for the overhead of the Python object, metadata about the string, and the string itself. The amount of memory usage we calculated includes temporary objects that get deallocated after the initial import. It's important to note that Python has memory optimization mechanics for strings such that when the same string is created multiple time, Python will cache or \"intern\" it in memory and reuse it for later string objects. "
   ]
  },
  {
   "cell_type": "markdown",
   "id": "465e14e1-fa35-4372-950d-5dae4f6ba0bc",
   "metadata": {},
   "source": [
    "<a href=\"https://www.nvidia.com/dli\"> <img src=\"images/DLI_Header.png\" alt=\"Header\" style=\"width: 400px;\"/> </a>"
   ]
  }
 ],
 "metadata": {
  "kernelspec": {
   "display_name": "Python 3 (ipykernel)",
   "language": "python",
   "name": "python3"
  },
  "language_info": {
   "codemirror_mode": {
    "name": "ipython",
    "version": 3
   },
   "file_extension": ".py",
   "mimetype": "text/x-python",
   "name": "python",
   "nbconvert_exporter": "python",
   "pygments_lexer": "ipython3",
   "version": "3.9.15"
  }
 },
 "nbformat": 4,
 "nbformat_minor": 5
}

{
 "cells": [
  {
   "cell_type": "markdown",
   "id": "cfe23db4-a87a-444e-8074-bd79d28c4560",
   "metadata": {},
   "source": [
    "<a href=\"https://www.nvidia.com/dli\"> <img src=\"images/DLI_Header.png\" alt=\"Header\" style=\"width: 400px;\"/> </a>"
   ]
  },
  {
   "cell_type": "markdown",
   "id": "919bc4a3-ca11-4330-9479-6bcd8420e00e",
   "metadata": {},
   "source": [
    "# Enhancing Data Science Outcomes With Efficient Workflow #"
   ]
  },
  {
   "cell_type": "markdown",
   "id": "e65cfc57-c86c-40d0-81a4-946554833619",
   "metadata": {},
   "source": [
    "## 03 - Model Tuning ##\n",
    "This lab covers the machine learning model development step of the data science workflow. Model development involves model building, evaluation, fine-tuning, model selection, and model persistence. \n",
    "\n",
    "<p><img src='images/pipeline_overview_2.png' width=1080></p>\n",
    "\n",
    "**Table of Contents**\n",
    "<br>\n",
    "In this notebook, we will perform model tuning. This notebook covers the below sections: \n",
    "1. [Feature Selection](#s3-1)\n",
    "    * [Exhaustive Feature Selection](#s3-1.1)\n",
    "2. [Hyperparameter Optimization](#s3-2)\n",
    "    * [Multiple Model Training in Parallel](#s3-2.1)"
   ]
  },
  {
   "cell_type": "markdown",
   "id": "e11e54a3-8d41-4c20-af54-80348018026d",
   "metadata": {},
   "source": [
    "Recall that distribution computing can help us scale data science in several dimensions: \n",
    "* When the challenge is memory bound, Dask offers the ability to work with larger datasets and thereby improving the performance and resilience of models\n",
    "    * Data parallelism\n",
    "* When the challenge is computing bound, GPU-accelerated machine learning algorithms can speed up computationally intensive workflows\n",
    "    * Task parallelism\n",
    "\n",
    "We will see both approaches used in this notebook. \n",
    "\n",
    "<p><img src='images/tip.png' width=720></p>\n",
    "\n",
    "Because there is a cost associated with distributing work and moving data from host to GPU, performance gains from GPU-acceleration will be diminished for small datasets. "
   ]
  },
  {
   "cell_type": "markdown",
   "id": "07eb5de8-823a-494f-b2f5-0e65f4027c2f",
   "metadata": {},
   "source": [
    "<a name='s3-1'></a>\n",
    "## Feature Selection ##\n",
    "With a tabular dataset, every column can be used as a feature, but not all of them are useful or relevant. Feature selection aims to exclude features that are redundant or irrelevant without incurring much loss of information. In other words, feature selection can help select a subset of features that contribute the most when it comes to model prediction. Some advantages of feature selection: \n",
    "1. results in pipelines that run faster by reducing training and inference time\n",
    "2. improves the generalization and reduces the chances of overfitting\n",
    "3. results in better performing model\n",
    "4. reduces model's complexity so it's easier to understand\n",
    "5. avoids the [curse of dimensionality](https://en.wikipedia.org/wiki/Curse_of_dimensionality)"
   ]
  },
  {
   "cell_type": "markdown",
   "id": "8defff61-4f49-420c-a565-0f4f9f6703cb",
   "metadata": {},
   "source": [
    "<a name='s3-1.1'></a>\n",
    "### Exhaustive Feature Selection ###\n",
    "One approach for feature selection tries to find a subset of features that yield the best performance by comparing models with different feature combinations. There are a few variations of this feature selection approach: \n",
    "* Exhaustive feature selection (EFS) - finds the subset of features by evaluating all feature combinations\n",
    "* Forward feature selection (FFS) - finds the best subset of features by adding one feature that best improves the model at each iteration\n",
    "* Sequential backward selection (SBS) or backward feature elimination - finds the best subset of features by removing one feature that has the least importance to the model at each iteration\n",
    "\n",
    "We will perform exhaustive feature selection by trying all combinations of features. By shortening the training process through GPU-acceleration, we can perform many experiments. "
   ]
  },
  {
   "cell_type": "code",
   "execution_count": 1,
   "id": "1ed5e7db-a9d8-467a-9919-2984f5bc1b76",
   "metadata": {
    "scrolled": true,
    "tags": []
   },
   "outputs": [
    {
     "name": "stderr",
     "output_type": "stream",
     "text": [
      "2025-01-14 18:21:17,673 - distributed.preloading - INFO - Creating preload: dask_cuda.initialize\n",
      "2025-01-14 18:21:17,673 - distributed.preloading - INFO - Import preload module: dask_cuda.initialize\n",
      "2025-01-14 18:21:17,704 - distributed.preloading - INFO - Creating preload: dask_cuda.initialize\n",
      "2025-01-14 18:21:17,704 - distributed.preloading - INFO - Import preload module: dask_cuda.initialize\n",
      "2025-01-14 18:21:17,706 - distributed.preloading - INFO - Creating preload: dask_cuda.initialize\n",
      "2025-01-14 18:21:17,706 - distributed.preloading - INFO - Import preload module: dask_cuda.initialize\n",
      "2025-01-14 18:21:17,706 - distributed.preloading - INFO - Creating preload: dask_cuda.initialize\n",
      "2025-01-14 18:21:17,706 - distributed.preloading - INFO - Import preload module: dask_cuda.initialize\n"
     ]
    }
   ],
   "source": [
    "# import dependencies\n",
    "import warnings\n",
    "warnings.filterwarnings('ignore')\n",
    "\n",
    "from dask.distributed import Client, wait\n",
    "from dask_cuda import LocalCUDACluster\n",
    "\n",
    "# instantiate a Client\n",
    "cluster=LocalCUDACluster()\n",
    "client=Client(cluster)"
   ]
  },
  {
   "cell_type": "code",
   "execution_count": 2,
   "id": "1aa3bcdb-d479-48aa-bee9-5b55c5484a35",
   "metadata": {
    "scrolled": true,
    "tags": []
   },
   "outputs": [
    {
     "name": "stdout",
     "output_type": "stream",
     "text": [
      "Dask dashboard (status) is accessible on http://100.28.222.12:8787/status\n",
      "Dask dashboard (gpu) is accessible on http://100.28.222.12:8787/gpu\n"
     ]
    }
   ],
   "source": [
    "# get the machine's external IP address\n",
    "from requests import get\n",
    "\n",
    "ip=get('https://api.ipify.org').content.decode('utf8')\n",
    "\n",
    "print(f'Dask dashboard (status) is accessible on http://{ip}:8787/status')\n",
    "print(f'Dask dashboard (gpu) is accessible on http://{ip}:8787/gpu')"
   ]
  },
  {
   "cell_type": "code",
   "execution_count": 3,
   "id": "66f360e8-00a6-4f69-9073-085b49635479",
   "metadata": {},
   "outputs": [],
   "source": [
    "# import dependencies\n",
    "from xgboost.dask import DaskXGBClassifier\n",
    "import xgboost\n",
    "from dask_ml.model_selection import train_test_split\n",
    "\n",
    "import dask_cudf\n",
    "import time\n",
    "import matplotlib.pyplot as plt\n",
    "import pickle\n",
    "import gc"
   ]
  },
  {
   "cell_type": "code",
   "execution_count": 4,
   "id": "fcda2cba-120d-4f2b-b57c-cbb2de796e4d",
   "metadata": {},
   "outputs": [],
   "source": [
    "# initializing list\n",
    "features_list=['brand', 'cat_0', 'cat_1', 'cat_2', 'cat_3', \n",
    "               'price', 'ts_hour', 'ts_minute', 'ts_weekday', \n",
    "               'brand_target_sum', 'brand_count', 'cat_0_target_sum', \n",
    "               'cat_0_count', 'cat_1_target_sum', 'cat_1_count', \n",
    "               'cat_2_target_sum', 'cat_2_count', 'cat_3_target_sum', \n",
    "               'cat_3_count', 'TE_brand_target', 'TE_cat_0_target', \n",
    "               'TE_cat_1_target', 'TE_cat_2_target', 'TE_cat_3_target', \n",
    "               'relative_price_product', 'relative_price_category']\n",
    "         \n",
    "include=features_list+['target']"
   ]
  },
  {
   "cell_type": "code",
   "execution_count": 5,
   "id": "0ebe4716-2098-44f8-9368-9cc1faa99efb",
   "metadata": {},
   "outputs": [
    {
     "name": "stdout",
     "output_type": "stream",
     "text": [
      "Total of 2461697 records split across 4 partitions. \n"
     ]
    }
   ],
   "source": [
    "# read data into Dask DataFrame\n",
    "parquet_dir='processed_parquet'\n",
    "ddf=dask_cudf.read_parquet(parquet_dir, columns=include)\n",
    "\n",
    "print(f'Total of {len(ddf)} records split across {ddf.npartitions} partitions. ')"
   ]
  },
  {
   "cell_type": "code",
   "execution_count": 6,
   "id": "9ed2a9a3-e452-496e-bf91-9f39be5a7ad7",
   "metadata": {
    "scrolled": true,
    "tags": []
   },
   "outputs": [],
   "source": [
    "# split data into train and test sets\n",
    "# since this data will be used multiple times, we cast it to float32 explicitly so \n",
    "# XGBoost doesn't have to do it each time\n",
    "y=ddf['target'].astype('float32')\n",
    "X=ddf[features_list].astype('float32')\n",
    "\n",
    "X_train, X_test, y_train, y_test=train_test_split(X, y, random_state=42)\n",
    "X_train, X_test, y_train, y_test=client.persist([X_train, X_test, y_train, y_test])\n",
    "wait([X_train, X_test, y_train, y_test])\n",
    "\n",
    "# create DaskDMatrix\n",
    "dtrain=xgboost.dask.DaskDMatrix(client, X_train, y_train) \n",
    "dtest=xgboost.dask.DaskDMatrix(client, X_test, y_test) "
   ]
  },
  {
   "cell_type": "code",
   "execution_count": 7,
   "id": "ea685475-54f7-47a5-abd1-5f75e8a612be",
   "metadata": {},
   "outputs": [],
   "source": [
    "# define function to train model\n",
    "def train_xgb_mgpu(columns): \n",
    "    # set train and test sets\n",
    "    X_train_subset=X_train[columns]\n",
    "    X_test_subset=X_test[columns]\n",
    "    client.persist([X_train_subset, X_test_subset])\n",
    "    wait([X_train_subset, X_test_subset])\n",
    "    \n",
    "    # create DaskDMatrix\n",
    "    dtrain_subset=xgboost.dask.DaskDMatrix(client, X_train_subset, y_train)\n",
    "    dtest_subset=xgboost.dask.DaskDMatrix(client, X_test_subset, y_test) \n",
    "    \n",
    "    # set model parameter\n",
    "    xgb_params={ \n",
    "        'eval_metric': ['auc'], \n",
    "        'objective': 'binary:logistic',\n",
    "        'tree_method': 'gpu_hist'\n",
    "    }\n",
    "    \n",
    "    # train the model\n",
    "    model=xgboost.dask.train(client, \n",
    "                         xgb_params, \n",
    "                         dtrain=dtrain_subset,\n",
    "                         evals=[(dtrain_subset, 'train'), (dtest_subset, 'valid')],\n",
    "                         num_boost_round=350,\n",
    "                         early_stopping_rounds=10, \n",
    "                         verbose_eval=False\n",
    "    )\n",
    "    return model"
   ]
  },
  {
   "cell_type": "code",
   "execution_count": 8,
   "id": "6d48dd8b-41a6-43ed-aa13-977cc63306e1",
   "metadata": {
    "scrolled": true,
    "tags": []
   },
   "outputs": [
    {
     "name": "stdout",
     "output_type": "stream",
     "text": [
      "0.0% complete | Training ['brand'].\r"
     ]
    },
    {
     "name": "stderr",
     "output_type": "stream",
     "text": [
      "[18:22:34] task [xgboost.dask-0]:tcp://127.0.0.1:46457 got new rank 0\n",
      "[18:22:34] task [xgboost.dask-1]:tcp://127.0.0.1:37723 got new rank 1\n",
      "[18:22:34] task [xgboost.dask-2]:tcp://127.0.0.1:37887 got new rank 2\n",
      "[18:22:34] task [xgboost.dask-3]:tcp://127.0.0.1:37815 got new rank 3\n"
     ]
    },
    {
     "name": "stdout",
     "output_type": "stream",
     "text": [
      "0.28% complete | Training ['cat_0'].\r"
     ]
    },
    {
     "name": "stderr",
     "output_type": "stream",
     "text": [
      "[18:22:35] task [xgboost.dask-0]:tcp://127.0.0.1:46457 got new rank 0\n",
      "[18:22:35] task [xgboost.dask-1]:tcp://127.0.0.1:37723 got new rank 1\n",
      "[18:22:35] task [xgboost.dask-2]:tcp://127.0.0.1:37887 got new rank 2\n",
      "[18:22:35] task [xgboost.dask-3]:tcp://127.0.0.1:37815 got new rank 3\n"
     ]
    },
    {
     "name": "stdout",
     "output_type": "stream",
     "text": [
      "0.57% complete | Training ['cat_1'].\r"
     ]
    },
    {
     "name": "stderr",
     "output_type": "stream",
     "text": [
      "[18:22:35] task [xgboost.dask-0]:tcp://127.0.0.1:46457 got new rank 0\n",
      "[18:22:35] task [xgboost.dask-1]:tcp://127.0.0.1:37723 got new rank 1\n",
      "[18:22:35] task [xgboost.dask-2]:tcp://127.0.0.1:37887 got new rank 2\n",
      "[18:22:35] task [xgboost.dask-3]:tcp://127.0.0.1:37815 got new rank 3\n"
     ]
    },
    {
     "name": "stdout",
     "output_type": "stream",
     "text": [
      "0.85% complete | Training ['cat_2'].\r"
     ]
    },
    {
     "name": "stderr",
     "output_type": "stream",
     "text": [
      "[18:22:36] task [xgboost.dask-0]:tcp://127.0.0.1:46457 got new rank 0\n",
      "[18:22:36] task [xgboost.dask-1]:tcp://127.0.0.1:37723 got new rank 1\n",
      "[18:22:36] task [xgboost.dask-2]:tcp://127.0.0.1:37887 got new rank 2\n",
      "[18:22:36] task [xgboost.dask-3]:tcp://127.0.0.1:37815 got new rank 3\n"
     ]
    },
    {
     "name": "stdout",
     "output_type": "stream",
     "text": [
      "1.14% complete | Training ['cat_3'].\r"
     ]
    },
    {
     "name": "stderr",
     "output_type": "stream",
     "text": [
      "[18:22:36] task [xgboost.dask-0]:tcp://127.0.0.1:46457 got new rank 0\n",
      "[18:22:36] task [xgboost.dask-1]:tcp://127.0.0.1:37723 got new rank 1\n",
      "[18:22:36] task [xgboost.dask-2]:tcp://127.0.0.1:37887 got new rank 2\n",
      "[18:22:36] task [xgboost.dask-3]:tcp://127.0.0.1:37815 got new rank 3\n"
     ]
    },
    {
     "name": "stdout",
     "output_type": "stream",
     "text": [
      "1.42% complete | Training ['price'].\r"
     ]
    },
    {
     "name": "stderr",
     "output_type": "stream",
     "text": [
      "[18:22:36] task [xgboost.dask-0]:tcp://127.0.0.1:46457 got new rank 0\n",
      "[18:22:36] task [xgboost.dask-1]:tcp://127.0.0.1:37723 got new rank 1\n",
      "[18:22:36] task [xgboost.dask-2]:tcp://127.0.0.1:37887 got new rank 2\n",
      "[18:22:36] task [xgboost.dask-3]:tcp://127.0.0.1:37815 got new rank 3\n"
     ]
    },
    {
     "name": "stdout",
     "output_type": "stream",
     "text": [
      "1.71% complete | Training ['ts_hour'].\r"
     ]
    },
    {
     "name": "stderr",
     "output_type": "stream",
     "text": [
      "[18:22:37] task [xgboost.dask-0]:tcp://127.0.0.1:46457 got new rank 0\n",
      "[18:22:37] task [xgboost.dask-1]:tcp://127.0.0.1:37723 got new rank 1\n",
      "[18:22:37] task [xgboost.dask-2]:tcp://127.0.0.1:37887 got new rank 2\n",
      "[18:22:37] task [xgboost.dask-3]:tcp://127.0.0.1:37815 got new rank 3\n"
     ]
    },
    {
     "name": "stdout",
     "output_type": "stream",
     "text": [
      "1.99% complete | Training ['ts_minute'].\r"
     ]
    },
    {
     "name": "stderr",
     "output_type": "stream",
     "text": [
      "[18:22:37] task [xgboost.dask-0]:tcp://127.0.0.1:46457 got new rank 0\n",
      "[18:22:37] task [xgboost.dask-1]:tcp://127.0.0.1:37723 got new rank 1\n",
      "[18:22:37] task [xgboost.dask-2]:tcp://127.0.0.1:37887 got new rank 2\n",
      "[18:22:37] task [xgboost.dask-3]:tcp://127.0.0.1:37815 got new rank 3\n"
     ]
    },
    {
     "name": "stdout",
     "output_type": "stream",
     "text": [
      "2.28% complete | Training ['ts_weekday'].\r"
     ]
    },
    {
     "name": "stderr",
     "output_type": "stream",
     "text": [
      "[18:22:38] task [xgboost.dask-0]:tcp://127.0.0.1:46457 got new rank 0\n",
      "[18:22:38] task [xgboost.dask-1]:tcp://127.0.0.1:37723 got new rank 1\n",
      "[18:22:38] task [xgboost.dask-2]:tcp://127.0.0.1:37887 got new rank 2\n",
      "[18:22:38] task [xgboost.dask-3]:tcp://127.0.0.1:37815 got new rank 3\n"
     ]
    },
    {
     "name": "stdout",
     "output_type": "stream",
     "text": [
      "2.56% complete | Training ['brand_target_sum'].\r"
     ]
    },
    {
     "name": "stderr",
     "output_type": "stream",
     "text": [
      "[18:22:38] task [xgboost.dask-0]:tcp://127.0.0.1:46457 got new rank 0\n",
      "[18:22:38] task [xgboost.dask-1]:tcp://127.0.0.1:37723 got new rank 1\n",
      "[18:22:38] task [xgboost.dask-2]:tcp://127.0.0.1:37887 got new rank 2\n",
      "[18:22:38] task [xgboost.dask-3]:tcp://127.0.0.1:37815 got new rank 3\n"
     ]
    },
    {
     "name": "stdout",
     "output_type": "stream",
     "text": [
      "2.85% complete | Training ['brand_count'].\r"
     ]
    },
    {
     "name": "stderr",
     "output_type": "stream",
     "text": [
      "[18:22:39] task [xgboost.dask-0]:tcp://127.0.0.1:46457 got new rank 0\n",
      "[18:22:39] task [xgboost.dask-1]:tcp://127.0.0.1:37723 got new rank 1\n",
      "[18:22:39] task [xgboost.dask-2]:tcp://127.0.0.1:37887 got new rank 2\n",
      "[18:22:39] task [xgboost.dask-3]:tcp://127.0.0.1:37815 got new rank 3\n"
     ]
    },
    {
     "name": "stdout",
     "output_type": "stream",
     "text": [
      "3.13% complete | Training ['cat_0_target_sum'].\r"
     ]
    },
    {
     "name": "stderr",
     "output_type": "stream",
     "text": [
      "[18:22:39] task [xgboost.dask-0]:tcp://127.0.0.1:46457 got new rank 0\n",
      "[18:22:39] task [xgboost.dask-1]:tcp://127.0.0.1:37723 got new rank 1\n",
      "[18:22:39] task [xgboost.dask-2]:tcp://127.0.0.1:37887 got new rank 2\n",
      "[18:22:39] task [xgboost.dask-3]:tcp://127.0.0.1:37815 got new rank 3\n"
     ]
    },
    {
     "name": "stdout",
     "output_type": "stream",
     "text": [
      "3.42% complete | Training ['cat_0_count'].\r"
     ]
    },
    {
     "name": "stderr",
     "output_type": "stream",
     "text": [
      "[18:22:40] task [xgboost.dask-0]:tcp://127.0.0.1:46457 got new rank 0\n",
      "[18:22:40] task [xgboost.dask-1]:tcp://127.0.0.1:37723 got new rank 1\n",
      "[18:22:40] task [xgboost.dask-2]:tcp://127.0.0.1:37887 got new rank 2\n",
      "[18:22:40] task [xgboost.dask-3]:tcp://127.0.0.1:37815 got new rank 3\n"
     ]
    },
    {
     "name": "stdout",
     "output_type": "stream",
     "text": [
      "3.7% complete | Training ['cat_1_target_sum'].\r"
     ]
    },
    {
     "name": "stderr",
     "output_type": "stream",
     "text": [
      "[18:22:40] task [xgboost.dask-0]:tcp://127.0.0.1:46457 got new rank 0\n",
      "[18:22:40] task [xgboost.dask-1]:tcp://127.0.0.1:37723 got new rank 1\n",
      "[18:22:40] task [xgboost.dask-2]:tcp://127.0.0.1:37887 got new rank 2\n",
      "[18:22:40] task [xgboost.dask-3]:tcp://127.0.0.1:37815 got new rank 3\n"
     ]
    },
    {
     "name": "stdout",
     "output_type": "stream",
     "text": [
      "3.99% complete | Training ['cat_1_count'].\r"
     ]
    },
    {
     "name": "stderr",
     "output_type": "stream",
     "text": [
      "[18:22:41] task [xgboost.dask-0]:tcp://127.0.0.1:46457 got new rank 0\n",
      "[18:22:41] task [xgboost.dask-1]:tcp://127.0.0.1:37723 got new rank 1\n",
      "[18:22:41] task [xgboost.dask-2]:tcp://127.0.0.1:37887 got new rank 2\n",
      "[18:22:41] task [xgboost.dask-3]:tcp://127.0.0.1:37815 got new rank 3\n"
     ]
    },
    {
     "name": "stdout",
     "output_type": "stream",
     "text": [
      "4.27% complete | Training ['cat_2_target_sum'].\r"
     ]
    },
    {
     "name": "stderr",
     "output_type": "stream",
     "text": [
      "[18:22:41] task [xgboost.dask-0]:tcp://127.0.0.1:46457 got new rank 0\n",
      "[18:22:41] task [xgboost.dask-1]:tcp://127.0.0.1:37723 got new rank 1\n",
      "[18:22:41] task [xgboost.dask-2]:tcp://127.0.0.1:37887 got new rank 2\n",
      "[18:22:41] task [xgboost.dask-3]:tcp://127.0.0.1:37815 got new rank 3\n"
     ]
    },
    {
     "name": "stdout",
     "output_type": "stream",
     "text": [
      "4.56% complete | Training ['cat_2_count'].\r"
     ]
    },
    {
     "name": "stderr",
     "output_type": "stream",
     "text": [
      "[18:22:42] task [xgboost.dask-0]:tcp://127.0.0.1:46457 got new rank 0\n",
      "[18:22:42] task [xgboost.dask-1]:tcp://127.0.0.1:37723 got new rank 1\n",
      "[18:22:42] task [xgboost.dask-2]:tcp://127.0.0.1:37887 got new rank 2\n",
      "[18:22:42] task [xgboost.dask-3]:tcp://127.0.0.1:37815 got new rank 3\n"
     ]
    },
    {
     "name": "stdout",
     "output_type": "stream",
     "text": [
      "4.84% complete | Training ['cat_3_target_sum'].\r"
     ]
    },
    {
     "name": "stderr",
     "output_type": "stream",
     "text": [
      "[18:22:42] task [xgboost.dask-0]:tcp://127.0.0.1:46457 got new rank 0\n",
      "[18:22:42] task [xgboost.dask-1]:tcp://127.0.0.1:37723 got new rank 1\n",
      "[18:22:42] task [xgboost.dask-2]:tcp://127.0.0.1:37887 got new rank 2\n",
      "[18:22:42] task [xgboost.dask-3]:tcp://127.0.0.1:37815 got new rank 3\n"
     ]
    },
    {
     "name": "stdout",
     "output_type": "stream",
     "text": [
      "5.13% complete | Training ['cat_3_count'].\r"
     ]
    },
    {
     "name": "stderr",
     "output_type": "stream",
     "text": [
      "[18:22:42] task [xgboost.dask-0]:tcp://127.0.0.1:46457 got new rank 0\n",
      "[18:22:42] task [xgboost.dask-1]:tcp://127.0.0.1:37723 got new rank 1\n",
      "[18:22:42] task [xgboost.dask-2]:tcp://127.0.0.1:37887 got new rank 2\n",
      "[18:22:42] task [xgboost.dask-3]:tcp://127.0.0.1:37815 got new rank 3\n"
     ]
    },
    {
     "name": "stdout",
     "output_type": "stream",
     "text": [
      "5.41% complete | Training ['TE_brand_target'].\r"
     ]
    },
    {
     "name": "stderr",
     "output_type": "stream",
     "text": [
      "[18:22:43] task [xgboost.dask-0]:tcp://127.0.0.1:46457 got new rank 0\n",
      "[18:22:43] task [xgboost.dask-1]:tcp://127.0.0.1:37723 got new rank 1\n",
      "[18:22:43] task [xgboost.dask-2]:tcp://127.0.0.1:37887 got new rank 2\n",
      "[18:22:43] task [xgboost.dask-3]:tcp://127.0.0.1:37815 got new rank 3\n"
     ]
    },
    {
     "name": "stdout",
     "output_type": "stream",
     "text": [
      "5.7% complete | Training ['TE_cat_0_target'].\r"
     ]
    },
    {
     "name": "stderr",
     "output_type": "stream",
     "text": [
      "[18:22:43] task [xgboost.dask-0]:tcp://127.0.0.1:46457 got new rank 0\n",
      "[18:22:43] task [xgboost.dask-1]:tcp://127.0.0.1:37723 got new rank 1\n",
      "[18:22:43] task [xgboost.dask-2]:tcp://127.0.0.1:37887 got new rank 2\n",
      "[18:22:43] task [xgboost.dask-3]:tcp://127.0.0.1:37815 got new rank 3\n"
     ]
    },
    {
     "name": "stdout",
     "output_type": "stream",
     "text": [
      "5.98% complete | Training ['TE_cat_1_target'].\r"
     ]
    },
    {
     "name": "stderr",
     "output_type": "stream",
     "text": [
      "[18:22:44] task [xgboost.dask-0]:tcp://127.0.0.1:46457 got new rank 0\n",
      "[18:22:44] task [xgboost.dask-1]:tcp://127.0.0.1:37723 got new rank 1\n",
      "[18:22:44] task [xgboost.dask-2]:tcp://127.0.0.1:37887 got new rank 2\n",
      "[18:22:44] task [xgboost.dask-3]:tcp://127.0.0.1:37815 got new rank 3\n"
     ]
    },
    {
     "name": "stdout",
     "output_type": "stream",
     "text": [
      "6.27% complete | Training ['TE_cat_2_target'].\r"
     ]
    },
    {
     "name": "stderr",
     "output_type": "stream",
     "text": [
      "[18:22:44] task [xgboost.dask-0]:tcp://127.0.0.1:46457 got new rank 0\n",
      "[18:22:44] task [xgboost.dask-1]:tcp://127.0.0.1:37723 got new rank 1\n",
      "[18:22:44] task [xgboost.dask-2]:tcp://127.0.0.1:37887 got new rank 2\n",
      "[18:22:44] task [xgboost.dask-3]:tcp://127.0.0.1:37815 got new rank 3\n"
     ]
    },
    {
     "name": "stdout",
     "output_type": "stream",
     "text": [
      "6.55% complete | Training ['TE_cat_3_target'].\r"
     ]
    },
    {
     "name": "stderr",
     "output_type": "stream",
     "text": [
      "[18:22:44] task [xgboost.dask-0]:tcp://127.0.0.1:46457 got new rank 0\n",
      "[18:22:44] task [xgboost.dask-1]:tcp://127.0.0.1:37723 got new rank 1\n",
      "[18:22:44] task [xgboost.dask-2]:tcp://127.0.0.1:37887 got new rank 2\n",
      "[18:22:44] task [xgboost.dask-3]:tcp://127.0.0.1:37815 got new rank 3\n"
     ]
    },
    {
     "name": "stdout",
     "output_type": "stream",
     "text": [
      "6.84% complete | Training ['relative_price_product'].\r"
     ]
    },
    {
     "name": "stderr",
     "output_type": "stream",
     "text": [
      "[18:22:45] task [xgboost.dask-0]:tcp://127.0.0.1:46457 got new rank 0\n",
      "[18:22:45] task [xgboost.dask-1]:tcp://127.0.0.1:37723 got new rank 1\n",
      "[18:22:45] task [xgboost.dask-2]:tcp://127.0.0.1:37887 got new rank 2\n",
      "[18:22:45] task [xgboost.dask-3]:tcp://127.0.0.1:37815 got new rank 3\n"
     ]
    },
    {
     "name": "stdout",
     "output_type": "stream",
     "text": [
      "7.12% complete | Training ['relative_price_category'].\r"
     ]
    },
    {
     "name": "stderr",
     "output_type": "stream",
     "text": [
      "[18:22:46] task [xgboost.dask-0]:tcp://127.0.0.1:46457 got new rank 0\n",
      "[18:22:46] task [xgboost.dask-1]:tcp://127.0.0.1:37723 got new rank 1\n",
      "[18:22:46] task [xgboost.dask-2]:tcp://127.0.0.1:37887 got new rank 2\n",
      "[18:22:46] task [xgboost.dask-3]:tcp://127.0.0.1:37815 got new rank 3\n"
     ]
    },
    {
     "name": "stdout",
     "output_type": "stream",
     "text": [
      "7.41% complete | Training ['TE_brand_target', 'cat_2'].\r"
     ]
    },
    {
     "name": "stderr",
     "output_type": "stream",
     "text": [
      "[18:22:46] task [xgboost.dask-0]:tcp://127.0.0.1:46457 got new rank 0\n",
      "[18:22:46] task [xgboost.dask-1]:tcp://127.0.0.1:37723 got new rank 1\n",
      "[18:22:46] task [xgboost.dask-2]:tcp://127.0.0.1:37887 got new rank 2\n",
      "[18:22:46] task [xgboost.dask-3]:tcp://127.0.0.1:37815 got new rank 3\n"
     ]
    },
    {
     "name": "stdout",
     "output_type": "stream",
     "text": [
      "7.69% complete | Training ['TE_brand_target', 'ts_weekday'].\r"
     ]
    },
    {
     "name": "stderr",
     "output_type": "stream",
     "text": [
      "[18:22:47] task [xgboost.dask-0]:tcp://127.0.0.1:46457 got new rank 0\n",
      "[18:22:47] task [xgboost.dask-1]:tcp://127.0.0.1:37723 got new rank 1\n",
      "[18:22:47] task [xgboost.dask-2]:tcp://127.0.0.1:37887 got new rank 2\n",
      "[18:22:47] task [xgboost.dask-3]:tcp://127.0.0.1:37815 got new rank 3\n"
     ]
    },
    {
     "name": "stdout",
     "output_type": "stream",
     "text": [
      "7.98% complete | Training ['TE_brand_target', 'brand'].\r"
     ]
    },
    {
     "name": "stderr",
     "output_type": "stream",
     "text": [
      "[18:22:48] task [xgboost.dask-0]:tcp://127.0.0.1:46457 got new rank 0\n",
      "[18:22:48] task [xgboost.dask-1]:tcp://127.0.0.1:37723 got new rank 1\n",
      "[18:22:48] task [xgboost.dask-2]:tcp://127.0.0.1:37887 got new rank 2\n",
      "[18:22:48] task [xgboost.dask-3]:tcp://127.0.0.1:37815 got new rank 3\n"
     ]
    },
    {
     "name": "stdout",
     "output_type": "stream",
     "text": [
      "8.26% complete | Training ['TE_brand_target', 'ts_minute'].\r"
     ]
    },
    {
     "name": "stderr",
     "output_type": "stream",
     "text": [
      "[18:22:48] task [xgboost.dask-0]:tcp://127.0.0.1:46457 got new rank 0\n",
      "[18:22:48] task [xgboost.dask-1]:tcp://127.0.0.1:37723 got new rank 1\n",
      "[18:22:48] task [xgboost.dask-2]:tcp://127.0.0.1:37887 got new rank 2\n",
      "[18:22:48] task [xgboost.dask-3]:tcp://127.0.0.1:37815 got new rank 3\n"
     ]
    },
    {
     "name": "stdout",
     "output_type": "stream",
     "text": [
      "8.55% complete | Training ['TE_brand_target', 'cat_0_count'].\r"
     ]
    },
    {
     "name": "stderr",
     "output_type": "stream",
     "text": [
      "[18:22:48] task [xgboost.dask-0]:tcp://127.0.0.1:46457 got new rank 0\n",
      "[18:22:48] task [xgboost.dask-1]:tcp://127.0.0.1:37723 got new rank 1\n",
      "[18:22:48] task [xgboost.dask-2]:tcp://127.0.0.1:37887 got new rank 2\n",
      "[18:22:48] task [xgboost.dask-3]:tcp://127.0.0.1:37815 got new rank 3\n"
     ]
    },
    {
     "name": "stdout",
     "output_type": "stream",
     "text": [
      "8.83% complete | Training ['TE_brand_target', 'cat_3'].\r"
     ]
    },
    {
     "name": "stderr",
     "output_type": "stream",
     "text": [
      "[18:22:49] task [xgboost.dask-0]:tcp://127.0.0.1:46457 got new rank 0\n",
      "[18:22:49] task [xgboost.dask-1]:tcp://127.0.0.1:37723 got new rank 1\n",
      "[18:22:49] task [xgboost.dask-2]:tcp://127.0.0.1:37887 got new rank 2\n",
      "[18:22:49] task [xgboost.dask-3]:tcp://127.0.0.1:37815 got new rank 3\n"
     ]
    },
    {
     "name": "stdout",
     "output_type": "stream",
     "text": [
      "9.12% complete | Training ['TE_brand_target', 'relative_price_product'].\r"
     ]
    },
    {
     "name": "stderr",
     "output_type": "stream",
     "text": [
      "[18:22:49] task [xgboost.dask-0]:tcp://127.0.0.1:46457 got new rank 0\n",
      "[18:22:49] task [xgboost.dask-1]:tcp://127.0.0.1:37723 got new rank 1\n",
      "[18:22:49] task [xgboost.dask-2]:tcp://127.0.0.1:37887 got new rank 2\n",
      "[18:22:49] task [xgboost.dask-3]:tcp://127.0.0.1:37815 got new rank 3\n"
     ]
    },
    {
     "name": "stdout",
     "output_type": "stream",
     "text": [
      "9.4% complete | Training ['TE_brand_target', 'TE_cat_2_target'].\r"
     ]
    },
    {
     "name": "stderr",
     "output_type": "stream",
     "text": [
      "[18:22:51] task [xgboost.dask-0]:tcp://127.0.0.1:46457 got new rank 0\n",
      "[18:22:51] task [xgboost.dask-1]:tcp://127.0.0.1:37723 got new rank 1\n",
      "[18:22:51] task [xgboost.dask-2]:tcp://127.0.0.1:37887 got new rank 2\n",
      "[18:22:51] task [xgboost.dask-3]:tcp://127.0.0.1:37815 got new rank 3\n"
     ]
    },
    {
     "name": "stdout",
     "output_type": "stream",
     "text": [
      "9.69% complete | Training ['TE_brand_target', 'cat_1_count'].\r"
     ]
    },
    {
     "name": "stderr",
     "output_type": "stream",
     "text": [
      "[18:22:51] task [xgboost.dask-0]:tcp://127.0.0.1:46457 got new rank 0\n",
      "[18:22:51] task [xgboost.dask-1]:tcp://127.0.0.1:37723 got new rank 1\n",
      "[18:22:51] task [xgboost.dask-2]:tcp://127.0.0.1:37887 got new rank 2\n",
      "[18:22:51] task [xgboost.dask-3]:tcp://127.0.0.1:37815 got new rank 3\n"
     ]
    },
    {
     "name": "stdout",
     "output_type": "stream",
     "text": [
      "9.97% complete | Training ['TE_brand_target', 'cat_3_count'].\r"
     ]
    },
    {
     "name": "stderr",
     "output_type": "stream",
     "text": [
      "[18:22:52] task [xgboost.dask-0]:tcp://127.0.0.1:46457 got new rank 0\n",
      "[18:22:52] task [xgboost.dask-1]:tcp://127.0.0.1:37723 got new rank 1\n",
      "[18:22:52] task [xgboost.dask-2]:tcp://127.0.0.1:37887 got new rank 2\n",
      "[18:22:52] task [xgboost.dask-3]:tcp://127.0.0.1:37815 got new rank 3\n"
     ]
    },
    {
     "name": "stdout",
     "output_type": "stream",
     "text": [
      "10.26% complete | Training ['TE_brand_target', 'cat_0'].\r"
     ]
    },
    {
     "name": "stderr",
     "output_type": "stream",
     "text": [
      "[18:22:53] task [xgboost.dask-0]:tcp://127.0.0.1:46457 got new rank 0\n",
      "[18:22:53] task [xgboost.dask-1]:tcp://127.0.0.1:37723 got new rank 1\n",
      "[18:22:53] task [xgboost.dask-2]:tcp://127.0.0.1:37887 got new rank 2\n",
      "[18:22:53] task [xgboost.dask-3]:tcp://127.0.0.1:37815 got new rank 3\n"
     ]
    },
    {
     "name": "stdout",
     "output_type": "stream",
     "text": [
      "10.54% complete | Training ['TE_brand_target', 'TE_cat_0_target'].\r"
     ]
    },
    {
     "name": "stderr",
     "output_type": "stream",
     "text": [
      "[18:22:53] task [xgboost.dask-0]:tcp://127.0.0.1:46457 got new rank 0\n",
      "[18:22:53] task [xgboost.dask-1]:tcp://127.0.0.1:37723 got new rank 1\n",
      "[18:22:53] task [xgboost.dask-2]:tcp://127.0.0.1:37887 got new rank 2\n",
      "[18:22:53] task [xgboost.dask-3]:tcp://127.0.0.1:37815 got new rank 3\n"
     ]
    },
    {
     "name": "stdout",
     "output_type": "stream",
     "text": [
      "10.83% complete | Training ['TE_brand_target', 'brand_count'].\r"
     ]
    },
    {
     "name": "stderr",
     "output_type": "stream",
     "text": [
      "[18:22:54] task [xgboost.dask-0]:tcp://127.0.0.1:46457 got new rank 0\n",
      "[18:22:54] task [xgboost.dask-1]:tcp://127.0.0.1:37723 got new rank 1\n",
      "[18:22:54] task [xgboost.dask-2]:tcp://127.0.0.1:37887 got new rank 2\n",
      "[18:22:54] task [xgboost.dask-3]:tcp://127.0.0.1:37815 got new rank 3\n"
     ]
    },
    {
     "name": "stdout",
     "output_type": "stream",
     "text": [
      "11.11% complete | Training ['TE_brand_target', 'brand_target_sum'].\r"
     ]
    },
    {
     "name": "stderr",
     "output_type": "stream",
     "text": [
      "[18:22:54] task [xgboost.dask-0]:tcp://127.0.0.1:46457 got new rank 0\n",
      "[18:22:54] task [xgboost.dask-1]:tcp://127.0.0.1:37723 got new rank 1\n",
      "[18:22:54] task [xgboost.dask-2]:tcp://127.0.0.1:37887 got new rank 2\n",
      "[18:22:54] task [xgboost.dask-3]:tcp://127.0.0.1:37815 got new rank 3\n"
     ]
    },
    {
     "name": "stdout",
     "output_type": "stream",
     "text": [
      "11.4% complete | Training ['TE_brand_target', 'cat_2_count'].\r"
     ]
    },
    {
     "name": "stderr",
     "output_type": "stream",
     "text": [
      "[18:22:55] task [xgboost.dask-0]:tcp://127.0.0.1:46457 got new rank 0\n",
      "[18:22:55] task [xgboost.dask-1]:tcp://127.0.0.1:37723 got new rank 1\n",
      "[18:22:55] task [xgboost.dask-2]:tcp://127.0.0.1:37887 got new rank 2\n",
      "[18:22:55] task [xgboost.dask-3]:tcp://127.0.0.1:37815 got new rank 3\n"
     ]
    },
    {
     "name": "stdout",
     "output_type": "stream",
     "text": [
      "11.68% complete | Training ['TE_brand_target', 'cat_0_target_sum'].\r"
     ]
    },
    {
     "name": "stderr",
     "output_type": "stream",
     "text": [
      "[18:22:55] task [xgboost.dask-0]:tcp://127.0.0.1:46457 got new rank 0\n",
      "[18:22:55] task [xgboost.dask-1]:tcp://127.0.0.1:37723 got new rank 1\n",
      "[18:22:55] task [xgboost.dask-2]:tcp://127.0.0.1:37887 got new rank 2\n",
      "[18:22:55] task [xgboost.dask-3]:tcp://127.0.0.1:37815 got new rank 3\n"
     ]
    },
    {
     "name": "stdout",
     "output_type": "stream",
     "text": [
      "11.97% complete | Training ['TE_brand_target', 'cat_2_target_sum'].\r"
     ]
    },
    {
     "name": "stderr",
     "output_type": "stream",
     "text": [
      "[18:22:56] task [xgboost.dask-0]:tcp://127.0.0.1:46457 got new rank 0\n",
      "[18:22:56] task [xgboost.dask-1]:tcp://127.0.0.1:37723 got new rank 1\n",
      "[18:22:56] task [xgboost.dask-2]:tcp://127.0.0.1:37887 got new rank 2\n",
      "[18:22:56] task [xgboost.dask-3]:tcp://127.0.0.1:37815 got new rank 3\n"
     ]
    },
    {
     "name": "stdout",
     "output_type": "stream",
     "text": [
      "12.25% complete | Training ['TE_brand_target', 'relative_price_category'].\r"
     ]
    },
    {
     "name": "stderr",
     "output_type": "stream",
     "text": [
      "[18:22:57] task [xgboost.dask-0]:tcp://127.0.0.1:46457 got new rank 0\n",
      "[18:22:57] task [xgboost.dask-1]:tcp://127.0.0.1:37723 got new rank 1\n",
      "[18:22:57] task [xgboost.dask-2]:tcp://127.0.0.1:37887 got new rank 2\n",
      "[18:22:57] task [xgboost.dask-3]:tcp://127.0.0.1:37815 got new rank 3\n"
     ]
    },
    {
     "name": "stdout",
     "output_type": "stream",
     "text": [
      "12.54% complete | Training ['TE_brand_target', 'cat_3_target_sum'].\r"
     ]
    },
    {
     "name": "stderr",
     "output_type": "stream",
     "text": [
      "[18:22:58] task [xgboost.dask-0]:tcp://127.0.0.1:46457 got new rank 0\n",
      "[18:22:58] task [xgboost.dask-1]:tcp://127.0.0.1:37723 got new rank 1\n",
      "[18:22:58] task [xgboost.dask-2]:tcp://127.0.0.1:37887 got new rank 2\n",
      "[18:22:58] task [xgboost.dask-3]:tcp://127.0.0.1:37815 got new rank 3\n"
     ]
    },
    {
     "name": "stdout",
     "output_type": "stream",
     "text": [
      "12.82% complete | Training ['TE_brand_target', 'TE_cat_1_target'].\r"
     ]
    },
    {
     "name": "stderr",
     "output_type": "stream",
     "text": [
      "[18:22:59] task [xgboost.dask-0]:tcp://127.0.0.1:46457 got new rank 0\n",
      "[18:22:59] task [xgboost.dask-1]:tcp://127.0.0.1:37723 got new rank 1\n",
      "[18:22:59] task [xgboost.dask-2]:tcp://127.0.0.1:37887 got new rank 2\n",
      "[18:22:59] task [xgboost.dask-3]:tcp://127.0.0.1:37815 got new rank 3\n"
     ]
    },
    {
     "name": "stdout",
     "output_type": "stream",
     "text": [
      "13.11% complete | Training ['TE_brand_target', 'cat_1_target_sum'].\r"
     ]
    },
    {
     "name": "stderr",
     "output_type": "stream",
     "text": [
      "[18:22:59] task [xgboost.dask-0]:tcp://127.0.0.1:46457 got new rank 0\n",
      "[18:22:59] task [xgboost.dask-1]:tcp://127.0.0.1:37723 got new rank 1\n",
      "[18:22:59] task [xgboost.dask-2]:tcp://127.0.0.1:37887 got new rank 2\n",
      "[18:22:59] task [xgboost.dask-3]:tcp://127.0.0.1:37815 got new rank 3\n"
     ]
    },
    {
     "name": "stdout",
     "output_type": "stream",
     "text": [
      "13.39% complete | Training ['TE_brand_target', 'cat_1'].\r"
     ]
    },
    {
     "name": "stderr",
     "output_type": "stream",
     "text": [
      "[18:23:00] task [xgboost.dask-0]:tcp://127.0.0.1:46457 got new rank 0\n",
      "[18:23:00] task [xgboost.dask-1]:tcp://127.0.0.1:37723 got new rank 1\n",
      "[18:23:00] task [xgboost.dask-2]:tcp://127.0.0.1:37887 got new rank 2\n",
      "[18:23:00] task [xgboost.dask-3]:tcp://127.0.0.1:37815 got new rank 3\n"
     ]
    },
    {
     "name": "stdout",
     "output_type": "stream",
     "text": [
      "13.68% complete | Training ['TE_brand_target', 'ts_hour'].\r"
     ]
    },
    {
     "name": "stderr",
     "output_type": "stream",
     "text": [
      "[18:23:01] task [xgboost.dask-0]:tcp://127.0.0.1:46457 got new rank 0\n",
      "[18:23:01] task [xgboost.dask-1]:tcp://127.0.0.1:37723 got new rank 1\n",
      "[18:23:01] task [xgboost.dask-2]:tcp://127.0.0.1:37887 got new rank 2\n",
      "[18:23:01] task [xgboost.dask-3]:tcp://127.0.0.1:37815 got new rank 3\n"
     ]
    },
    {
     "name": "stdout",
     "output_type": "stream",
     "text": [
      "13.96% complete | Training ['TE_brand_target', 'price'].\r"
     ]
    },
    {
     "name": "stderr",
     "output_type": "stream",
     "text": [
      "[18:23:02] task [xgboost.dask-0]:tcp://127.0.0.1:46457 got new rank 0\n",
      "[18:23:02] task [xgboost.dask-1]:tcp://127.0.0.1:37723 got new rank 1\n",
      "[18:23:02] task [xgboost.dask-2]:tcp://127.0.0.1:37887 got new rank 2\n",
      "[18:23:02] task [xgboost.dask-3]:tcp://127.0.0.1:37815 got new rank 3\n"
     ]
    },
    {
     "name": "stdout",
     "output_type": "stream",
     "text": [
      "14.25% complete | Training ['TE_brand_target', 'TE_cat_3_target'].\r"
     ]
    },
    {
     "name": "stderr",
     "output_type": "stream",
     "text": [
      "[18:23:03] task [xgboost.dask-0]:tcp://127.0.0.1:46457 got new rank 0\n",
      "[18:23:03] task [xgboost.dask-1]:tcp://127.0.0.1:37723 got new rank 1\n",
      "[18:23:03] task [xgboost.dask-2]:tcp://127.0.0.1:37887 got new rank 2\n",
      "[18:23:03] task [xgboost.dask-3]:tcp://127.0.0.1:37815 got new rank 3\n"
     ]
    },
    {
     "name": "stdout",
     "output_type": "stream",
     "text": [
      "14.53% complete | Training ['TE_brand_target', 'price', 'cat_2'].\r"
     ]
    },
    {
     "name": "stderr",
     "output_type": "stream",
     "text": [
      "[18:23:03] task [xgboost.dask-0]:tcp://127.0.0.1:46457 got new rank 0\n",
      "[18:23:03] task [xgboost.dask-1]:tcp://127.0.0.1:37723 got new rank 1\n",
      "[18:23:03] task [xgboost.dask-2]:tcp://127.0.0.1:37887 got new rank 2\n",
      "[18:23:03] task [xgboost.dask-3]:tcp://127.0.0.1:37815 got new rank 3\n"
     ]
    },
    {
     "name": "stdout",
     "output_type": "stream",
     "text": [
      "14.81% complete | Training ['TE_brand_target', 'price', 'ts_weekday'].\r"
     ]
    },
    {
     "name": "stderr",
     "output_type": "stream",
     "text": [
      "[18:23:05] task [xgboost.dask-0]:tcp://127.0.0.1:46457 got new rank 0\n",
      "[18:23:05] task [xgboost.dask-1]:tcp://127.0.0.1:37723 got new rank 1\n",
      "[18:23:05] task [xgboost.dask-2]:tcp://127.0.0.1:37887 got new rank 2\n",
      "[18:23:05] task [xgboost.dask-3]:tcp://127.0.0.1:37815 got new rank 3\n"
     ]
    },
    {
     "name": "stdout",
     "output_type": "stream",
     "text": [
      "15.1% complete | Training ['TE_brand_target', 'price', 'brand'].\r"
     ]
    },
    {
     "name": "stderr",
     "output_type": "stream",
     "text": [
      "[18:23:07] task [xgboost.dask-0]:tcp://127.0.0.1:46457 got new rank 0\n",
      "[18:23:07] task [xgboost.dask-1]:tcp://127.0.0.1:37723 got new rank 1\n",
      "[18:23:07] task [xgboost.dask-2]:tcp://127.0.0.1:37887 got new rank 2\n",
      "[18:23:07] task [xgboost.dask-3]:tcp://127.0.0.1:37815 got new rank 3\n"
     ]
    },
    {
     "name": "stdout",
     "output_type": "stream",
     "text": [
      "15.38% complete | Training ['TE_brand_target', 'price', 'ts_minute'].\r"
     ]
    },
    {
     "name": "stderr",
     "output_type": "stream",
     "text": [
      "[18:23:09] task [xgboost.dask-0]:tcp://127.0.0.1:46457 got new rank 0\n",
      "[18:23:09] task [xgboost.dask-1]:tcp://127.0.0.1:37723 got new rank 1\n",
      "[18:23:09] task [xgboost.dask-2]:tcp://127.0.0.1:37887 got new rank 2\n",
      "[18:23:09] task [xgboost.dask-3]:tcp://127.0.0.1:37815 got new rank 3\n"
     ]
    },
    {
     "name": "stdout",
     "output_type": "stream",
     "text": [
      "15.67% complete | Training ['TE_brand_target', 'price', 'cat_0_count'].\r"
     ]
    },
    {
     "name": "stderr",
     "output_type": "stream",
     "text": [
      "[18:23:10] task [xgboost.dask-0]:tcp://127.0.0.1:46457 got new rank 0\n",
      "[18:23:10] task [xgboost.dask-1]:tcp://127.0.0.1:37723 got new rank 1\n",
      "[18:23:10] task [xgboost.dask-2]:tcp://127.0.0.1:37887 got new rank 2\n",
      "[18:23:10] task [xgboost.dask-3]:tcp://127.0.0.1:37815 got new rank 3\n"
     ]
    },
    {
     "name": "stdout",
     "output_type": "stream",
     "text": [
      "15.95% complete | Training ['TE_brand_target', 'price', 'cat_3'].\r"
     ]
    },
    {
     "name": "stderr",
     "output_type": "stream",
     "text": [
      "[18:23:11] task [xgboost.dask-0]:tcp://127.0.0.1:46457 got new rank 0\n",
      "[18:23:11] task [xgboost.dask-1]:tcp://127.0.0.1:37723 got new rank 1\n",
      "[18:23:11] task [xgboost.dask-2]:tcp://127.0.0.1:37887 got new rank 2\n",
      "[18:23:11] task [xgboost.dask-3]:tcp://127.0.0.1:37815 got new rank 3\n"
     ]
    },
    {
     "name": "stdout",
     "output_type": "stream",
     "text": [
      "16.24% complete | Training ['TE_brand_target', 'price', 'relative_price_product'].\r"
     ]
    },
    {
     "name": "stderr",
     "output_type": "stream",
     "text": [
      "[18:23:13] task [xgboost.dask-0]:tcp://127.0.0.1:46457 got new rank 0\n",
      "[18:23:13] task [xgboost.dask-1]:tcp://127.0.0.1:37723 got new rank 1\n",
      "[18:23:13] task [xgboost.dask-2]:tcp://127.0.0.1:37887 got new rank 2\n",
      "[18:23:13] task [xgboost.dask-3]:tcp://127.0.0.1:37815 got new rank 3\n"
     ]
    },
    {
     "name": "stdout",
     "output_type": "stream",
     "text": [
      "16.52% complete | Training ['TE_brand_target', 'price', 'TE_cat_2_target'].\r"
     ]
    },
    {
     "name": "stderr",
     "output_type": "stream",
     "text": [
      "[18:23:15] task [xgboost.dask-0]:tcp://127.0.0.1:46457 got new rank 0\n",
      "[18:23:15] task [xgboost.dask-1]:tcp://127.0.0.1:37723 got new rank 1\n",
      "[18:23:15] task [xgboost.dask-2]:tcp://127.0.0.1:37887 got new rank 2\n",
      "[18:23:15] task [xgboost.dask-3]:tcp://127.0.0.1:37815 got new rank 3\n"
     ]
    },
    {
     "name": "stdout",
     "output_type": "stream",
     "text": [
      "16.81% complete | Training ['TE_brand_target', 'price', 'cat_1_count'].\r"
     ]
    },
    {
     "name": "stderr",
     "output_type": "stream",
     "text": [
      "[18:23:17] task [xgboost.dask-0]:tcp://127.0.0.1:46457 got new rank 0\n",
      "[18:23:17] task [xgboost.dask-1]:tcp://127.0.0.1:37723 got new rank 1\n",
      "[18:23:17] task [xgboost.dask-2]:tcp://127.0.0.1:37887 got new rank 2\n",
      "[18:23:17] task [xgboost.dask-3]:tcp://127.0.0.1:37815 got new rank 3\n"
     ]
    },
    {
     "name": "stdout",
     "output_type": "stream",
     "text": [
      "17.09% complete | Training ['TE_brand_target', 'price', 'cat_3_count'].\r"
     ]
    },
    {
     "name": "stderr",
     "output_type": "stream",
     "text": [
      "[18:23:19] task [xgboost.dask-0]:tcp://127.0.0.1:46457 got new rank 0\n",
      "[18:23:19] task [xgboost.dask-1]:tcp://127.0.0.1:37723 got new rank 1\n",
      "[18:23:19] task [xgboost.dask-2]:tcp://127.0.0.1:37887 got new rank 2\n",
      "[18:23:19] task [xgboost.dask-3]:tcp://127.0.0.1:37815 got new rank 3\n"
     ]
    },
    {
     "name": "stdout",
     "output_type": "stream",
     "text": [
      "17.38% complete | Training ['TE_brand_target', 'price', 'cat_0'].\r"
     ]
    },
    {
     "name": "stderr",
     "output_type": "stream",
     "text": [
      "[18:23:20] task [xgboost.dask-0]:tcp://127.0.0.1:46457 got new rank 0\n",
      "[18:23:20] task [xgboost.dask-1]:tcp://127.0.0.1:37723 got new rank 1\n",
      "[18:23:20] task [xgboost.dask-2]:tcp://127.0.0.1:37887 got new rank 2\n",
      "[18:23:20] task [xgboost.dask-3]:tcp://127.0.0.1:37815 got new rank 3\n"
     ]
    },
    {
     "name": "stdout",
     "output_type": "stream",
     "text": [
      "17.66% complete | Training ['TE_brand_target', 'price', 'TE_cat_0_target'].\r"
     ]
    },
    {
     "name": "stderr",
     "output_type": "stream",
     "text": [
      "[18:23:22] task [xgboost.dask-0]:tcp://127.0.0.1:46457 got new rank 0\n",
      "[18:23:22] task [xgboost.dask-1]:tcp://127.0.0.1:37723 got new rank 1\n",
      "[18:23:22] task [xgboost.dask-2]:tcp://127.0.0.1:37887 got new rank 2\n",
      "[18:23:22] task [xgboost.dask-3]:tcp://127.0.0.1:37815 got new rank 3\n"
     ]
    },
    {
     "name": "stdout",
     "output_type": "stream",
     "text": [
      "17.95% complete | Training ['TE_brand_target', 'price', 'brand_count'].\r"
     ]
    },
    {
     "name": "stderr",
     "output_type": "stream",
     "text": [
      "[18:23:23] task [xgboost.dask-0]:tcp://127.0.0.1:46457 got new rank 0\n",
      "[18:23:23] task [xgboost.dask-1]:tcp://127.0.0.1:37723 got new rank 1\n",
      "[18:23:23] task [xgboost.dask-2]:tcp://127.0.0.1:37887 got new rank 2\n",
      "[18:23:23] task [xgboost.dask-3]:tcp://127.0.0.1:37815 got new rank 3\n"
     ]
    },
    {
     "name": "stdout",
     "output_type": "stream",
     "text": [
      "18.23% complete | Training ['TE_brand_target', 'price', 'brand_target_sum'].\r"
     ]
    },
    {
     "name": "stderr",
     "output_type": "stream",
     "text": [
      "[18:23:25] task [xgboost.dask-0]:tcp://127.0.0.1:46457 got new rank 0\n",
      "[18:23:25] task [xgboost.dask-1]:tcp://127.0.0.1:37723 got new rank 1\n",
      "[18:23:25] task [xgboost.dask-2]:tcp://127.0.0.1:37887 got new rank 2\n",
      "[18:23:25] task [xgboost.dask-3]:tcp://127.0.0.1:37815 got new rank 3\n"
     ]
    },
    {
     "name": "stdout",
     "output_type": "stream",
     "text": [
      "18.52% complete | Training ['TE_brand_target', 'price', 'cat_2_count'].\r"
     ]
    },
    {
     "name": "stderr",
     "output_type": "stream",
     "text": [
      "[18:23:27] task [xgboost.dask-0]:tcp://127.0.0.1:46457 got new rank 0\n",
      "[18:23:27] task [xgboost.dask-1]:tcp://127.0.0.1:37723 got new rank 1\n",
      "[18:23:27] task [xgboost.dask-2]:tcp://127.0.0.1:37887 got new rank 2\n",
      "[18:23:27] task [xgboost.dask-3]:tcp://127.0.0.1:37815 got new rank 3\n"
     ]
    },
    {
     "name": "stdout",
     "output_type": "stream",
     "text": [
      "18.8% complete | Training ['TE_brand_target', 'price', 'cat_0_target_sum'].\r"
     ]
    },
    {
     "name": "stderr",
     "output_type": "stream",
     "text": [
      "[18:23:28] task [xgboost.dask-0]:tcp://127.0.0.1:46457 got new rank 0\n",
      "[18:23:28] task [xgboost.dask-1]:tcp://127.0.0.1:37723 got new rank 1\n",
      "[18:23:28] task [xgboost.dask-2]:tcp://127.0.0.1:37887 got new rank 2\n",
      "[18:23:28] task [xgboost.dask-3]:tcp://127.0.0.1:37815 got new rank 3\n"
     ]
    },
    {
     "name": "stdout",
     "output_type": "stream",
     "text": [
      "19.09% complete | Training ['TE_brand_target', 'price', 'cat_2_target_sum'].\r"
     ]
    },
    {
     "name": "stderr",
     "output_type": "stream",
     "text": [
      "[18:23:30] task [xgboost.dask-0]:tcp://127.0.0.1:46457 got new rank 0\n",
      "[18:23:30] task [xgboost.dask-1]:tcp://127.0.0.1:37723 got new rank 1\n",
      "[18:23:30] task [xgboost.dask-2]:tcp://127.0.0.1:37887 got new rank 2\n",
      "[18:23:30] task [xgboost.dask-3]:tcp://127.0.0.1:37815 got new rank 3\n"
     ]
    },
    {
     "name": "stdout",
     "output_type": "stream",
     "text": [
      "19.37% complete | Training ['TE_brand_target', 'price', 'relative_price_category'].\r"
     ]
    },
    {
     "name": "stderr",
     "output_type": "stream",
     "text": [
      "[18:23:32] task [xgboost.dask-0]:tcp://127.0.0.1:46457 got new rank 0\n",
      "[18:23:32] task [xgboost.dask-1]:tcp://127.0.0.1:37723 got new rank 1\n",
      "[18:23:32] task [xgboost.dask-2]:tcp://127.0.0.1:37887 got new rank 2\n",
      "[18:23:32] task [xgboost.dask-3]:tcp://127.0.0.1:37815 got new rank 3\n"
     ]
    },
    {
     "name": "stdout",
     "output_type": "stream",
     "text": [
      "19.66% complete | Training ['TE_brand_target', 'price', 'cat_3_target_sum'].\r"
     ]
    },
    {
     "name": "stderr",
     "output_type": "stream",
     "text": [
      "[18:23:34] task [xgboost.dask-0]:tcp://127.0.0.1:46457 got new rank 0\n",
      "[18:23:34] task [xgboost.dask-1]:tcp://127.0.0.1:37723 got new rank 1\n",
      "[18:23:34] task [xgboost.dask-2]:tcp://127.0.0.1:37887 got new rank 2\n",
      "[18:23:34] task [xgboost.dask-3]:tcp://127.0.0.1:37815 got new rank 3\n"
     ]
    },
    {
     "name": "stdout",
     "output_type": "stream",
     "text": [
      "19.94% complete | Training ['TE_brand_target', 'price', 'TE_cat_1_target'].\r"
     ]
    },
    {
     "name": "stderr",
     "output_type": "stream",
     "text": [
      "[18:23:35] task [xgboost.dask-0]:tcp://127.0.0.1:46457 got new rank 0\n",
      "[18:23:35] task [xgboost.dask-1]:tcp://127.0.0.1:37723 got new rank 1\n",
      "[18:23:35] task [xgboost.dask-2]:tcp://127.0.0.1:37887 got new rank 2\n",
      "[18:23:35] task [xgboost.dask-3]:tcp://127.0.0.1:37815 got new rank 3\n"
     ]
    },
    {
     "name": "stdout",
     "output_type": "stream",
     "text": [
      "20.23% complete | Training ['TE_brand_target', 'price', 'cat_1_target_sum'].\r"
     ]
    },
    {
     "name": "stderr",
     "output_type": "stream",
     "text": [
      "[18:23:37] task [xgboost.dask-0]:tcp://127.0.0.1:46457 got new rank 0\n",
      "[18:23:37] task [xgboost.dask-1]:tcp://127.0.0.1:37723 got new rank 1\n",
      "[18:23:37] task [xgboost.dask-2]:tcp://127.0.0.1:37887 got new rank 2\n",
      "[18:23:37] task [xgboost.dask-3]:tcp://127.0.0.1:37815 got new rank 3\n"
     ]
    },
    {
     "name": "stdout",
     "output_type": "stream",
     "text": [
      "20.51% complete | Training ['TE_brand_target', 'price', 'cat_1'].\r"
     ]
    },
    {
     "name": "stderr",
     "output_type": "stream",
     "text": [
      "[18:23:39] task [xgboost.dask-0]:tcp://127.0.0.1:46457 got new rank 0\n",
      "[18:23:39] task [xgboost.dask-1]:tcp://127.0.0.1:37723 got new rank 1\n",
      "[18:23:39] task [xgboost.dask-2]:tcp://127.0.0.1:37887 got new rank 2\n",
      "[18:23:39] task [xgboost.dask-3]:tcp://127.0.0.1:37815 got new rank 3\n"
     ]
    },
    {
     "name": "stdout",
     "output_type": "stream",
     "text": [
      "20.8% complete | Training ['TE_brand_target', 'price', 'ts_hour'].\r"
     ]
    },
    {
     "name": "stderr",
     "output_type": "stream",
     "text": [
      "[18:23:40] task [xgboost.dask-0]:tcp://127.0.0.1:46457 got new rank 0\n",
      "[18:23:40] task [xgboost.dask-1]:tcp://127.0.0.1:37723 got new rank 1\n",
      "[18:23:40] task [xgboost.dask-2]:tcp://127.0.0.1:37887 got new rank 2\n",
      "[18:23:40] task [xgboost.dask-3]:tcp://127.0.0.1:37815 got new rank 3\n"
     ]
    },
    {
     "name": "stdout",
     "output_type": "stream",
     "text": [
      "21.08% complete | Training ['TE_brand_target', 'price', 'TE_cat_3_target'].\r"
     ]
    },
    {
     "name": "stderr",
     "output_type": "stream",
     "text": [
      "[18:23:43] task [xgboost.dask-0]:tcp://127.0.0.1:46457 got new rank 0\n",
      "[18:23:43] task [xgboost.dask-1]:tcp://127.0.0.1:37723 got new rank 1\n",
      "[18:23:43] task [xgboost.dask-2]:tcp://127.0.0.1:37887 got new rank 2\n",
      "[18:23:43] task [xgboost.dask-3]:tcp://127.0.0.1:37815 got new rank 3\n"
     ]
    },
    {
     "name": "stdout",
     "output_type": "stream",
     "text": [
      "21.37% complete | Training ['TE_brand_target', 'price', 'relative_price_product', 'cat_2'].\r"
     ]
    },
    {
     "name": "stderr",
     "output_type": "stream",
     "text": [
      "[18:23:44] task [xgboost.dask-0]:tcp://127.0.0.1:46457 got new rank 0\n",
      "[18:23:44] task [xgboost.dask-1]:tcp://127.0.0.1:37723 got new rank 1\n",
      "[18:23:44] task [xgboost.dask-2]:tcp://127.0.0.1:37887 got new rank 2\n",
      "[18:23:44] task [xgboost.dask-3]:tcp://127.0.0.1:37815 got new rank 3\n"
     ]
    },
    {
     "name": "stdout",
     "output_type": "stream",
     "text": [
      "21.65% complete | Training ['TE_brand_target', 'price', 'relative_price_product', 'ts_weekday'].\r"
     ]
    },
    {
     "name": "stderr",
     "output_type": "stream",
     "text": [
      "[18:23:47] task [xgboost.dask-0]:tcp://127.0.0.1:46457 got new rank 0\n",
      "[18:23:47] task [xgboost.dask-1]:tcp://127.0.0.1:37723 got new rank 1\n",
      "[18:23:47] task [xgboost.dask-2]:tcp://127.0.0.1:37887 got new rank 2\n",
      "[18:23:47] task [xgboost.dask-3]:tcp://127.0.0.1:37815 got new rank 3\n"
     ]
    },
    {
     "name": "stdout",
     "output_type": "stream",
     "text": [
      "21.94% complete | Training ['TE_brand_target', 'price', 'relative_price_product', 'brand'].\r"
     ]
    },
    {
     "name": "stderr",
     "output_type": "stream",
     "text": [
      "[18:23:49] task [xgboost.dask-0]:tcp://127.0.0.1:46457 got new rank 0\n",
      "[18:23:49] task [xgboost.dask-1]:tcp://127.0.0.1:37723 got new rank 1\n",
      "[18:23:49] task [xgboost.dask-2]:tcp://127.0.0.1:37887 got new rank 2\n",
      "[18:23:49] task [xgboost.dask-3]:tcp://127.0.0.1:37815 got new rank 3\n"
     ]
    },
    {
     "name": "stdout",
     "output_type": "stream",
     "text": [
      "22.22% complete | Training ['TE_brand_target', 'price', 'relative_price_product', 'ts_minute'].\r"
     ]
    },
    {
     "name": "stderr",
     "output_type": "stream",
     "text": [
      "[18:23:51] task [xgboost.dask-0]:tcp://127.0.0.1:46457 got new rank 0\n",
      "[18:23:51] task [xgboost.dask-1]:tcp://127.0.0.1:37723 got new rank 1\n",
      "[18:23:51] task [xgboost.dask-2]:tcp://127.0.0.1:37887 got new rank 2\n",
      "[18:23:51] task [xgboost.dask-3]:tcp://127.0.0.1:37815 got new rank 3\n"
     ]
    },
    {
     "name": "stdout",
     "output_type": "stream",
     "text": [
      "22.51% complete | Training ['TE_brand_target', 'price', 'relative_price_product', 'cat_0_count'].\r"
     ]
    },
    {
     "name": "stderr",
     "output_type": "stream",
     "text": [
      "[18:23:53] task [xgboost.dask-0]:tcp://127.0.0.1:46457 got new rank 0\n",
      "[18:23:53] task [xgboost.dask-1]:tcp://127.0.0.1:37723 got new rank 1\n",
      "[18:23:53] task [xgboost.dask-2]:tcp://127.0.0.1:37887 got new rank 2\n",
      "[18:23:53] task [xgboost.dask-3]:tcp://127.0.0.1:37815 got new rank 3\n"
     ]
    },
    {
     "name": "stdout",
     "output_type": "stream",
     "text": [
      "22.79% complete | Training ['TE_brand_target', 'price', 'relative_price_product', 'cat_3'].\r"
     ]
    },
    {
     "name": "stderr",
     "output_type": "stream",
     "text": [
      "[18:23:56] task [xgboost.dask-0]:tcp://127.0.0.1:46457 got new rank 0\n",
      "[18:23:56] task [xgboost.dask-1]:tcp://127.0.0.1:37723 got new rank 1\n",
      "[18:23:56] task [xgboost.dask-2]:tcp://127.0.0.1:37887 got new rank 2\n",
      "[18:23:56] task [xgboost.dask-3]:tcp://127.0.0.1:37815 got new rank 3\n"
     ]
    },
    {
     "name": "stdout",
     "output_type": "stream",
     "text": [
      "23.08% complete | Training ['TE_brand_target', 'price', 'relative_price_product', 'TE_cat_2_target'].\r"
     ]
    },
    {
     "name": "stderr",
     "output_type": "stream",
     "text": [
      "[18:23:58] task [xgboost.dask-0]:tcp://127.0.0.1:46457 got new rank 0\n",
      "[18:23:58] task [xgboost.dask-1]:tcp://127.0.0.1:37723 got new rank 1\n",
      "[18:23:58] task [xgboost.dask-2]:tcp://127.0.0.1:37887 got new rank 2\n",
      "[18:23:58] task [xgboost.dask-3]:tcp://127.0.0.1:37815 got new rank 3\n"
     ]
    },
    {
     "name": "stdout",
     "output_type": "stream",
     "text": [
      "23.36% complete | Training ['TE_brand_target', 'price', 'relative_price_product', 'cat_1_count'].\r"
     ]
    },
    {
     "name": "stderr",
     "output_type": "stream",
     "text": [
      "[18:24:00] task [xgboost.dask-0]:tcp://127.0.0.1:46457 got new rank 0\n",
      "[18:24:00] task [xgboost.dask-1]:tcp://127.0.0.1:37723 got new rank 1\n",
      "[18:24:00] task [xgboost.dask-2]:tcp://127.0.0.1:37887 got new rank 2\n",
      "[18:24:00] task [xgboost.dask-3]:tcp://127.0.0.1:37815 got new rank 3\n"
     ]
    },
    {
     "name": "stdout",
     "output_type": "stream",
     "text": [
      "23.65% complete | Training ['TE_brand_target', 'price', 'relative_price_product', 'cat_3_count'].\r"
     ]
    },
    {
     "name": "stderr",
     "output_type": "stream",
     "text": [
      "[18:24:02] task [xgboost.dask-0]:tcp://127.0.0.1:46457 got new rank 0\n",
      "[18:24:02] task [xgboost.dask-1]:tcp://127.0.0.1:37723 got new rank 1\n",
      "[18:24:02] task [xgboost.dask-2]:tcp://127.0.0.1:37887 got new rank 2\n",
      "[18:24:02] task [xgboost.dask-3]:tcp://127.0.0.1:37815 got new rank 3\n"
     ]
    },
    {
     "name": "stdout",
     "output_type": "stream",
     "text": [
      "23.93% complete | Training ['TE_brand_target', 'price', 'relative_price_product', 'cat_0'].\r"
     ]
    },
    {
     "name": "stderr",
     "output_type": "stream",
     "text": [
      "[18:24:04] task [xgboost.dask-0]:tcp://127.0.0.1:46457 got new rank 0\n",
      "[18:24:04] task [xgboost.dask-1]:tcp://127.0.0.1:37723 got new rank 1\n",
      "[18:24:04] task [xgboost.dask-2]:tcp://127.0.0.1:37887 got new rank 2\n",
      "[18:24:04] task [xgboost.dask-3]:tcp://127.0.0.1:37815 got new rank 3\n"
     ]
    },
    {
     "name": "stdout",
     "output_type": "stream",
     "text": [
      "24.22% complete | Training ['TE_brand_target', 'price', 'relative_price_product', 'TE_cat_0_target'].\r"
     ]
    },
    {
     "name": "stderr",
     "output_type": "stream",
     "text": [
      "[18:24:07] task [xgboost.dask-0]:tcp://127.0.0.1:46457 got new rank 0\n",
      "[18:24:07] task [xgboost.dask-1]:tcp://127.0.0.1:37723 got new rank 1\n",
      "[18:24:07] task [xgboost.dask-2]:tcp://127.0.0.1:37887 got new rank 2\n",
      "[18:24:07] task [xgboost.dask-3]:tcp://127.0.0.1:37815 got new rank 3\n"
     ]
    },
    {
     "name": "stdout",
     "output_type": "stream",
     "text": [
      "24.5% complete | Training ['TE_brand_target', 'price', 'relative_price_product', 'brand_count'].\r"
     ]
    },
    {
     "name": "stderr",
     "output_type": "stream",
     "text": [
      "[18:24:09] task [xgboost.dask-0]:tcp://127.0.0.1:46457 got new rank 0\n",
      "[18:24:09] task [xgboost.dask-1]:tcp://127.0.0.1:37723 got new rank 1\n",
      "[18:24:09] task [xgboost.dask-2]:tcp://127.0.0.1:37887 got new rank 2\n",
      "[18:24:09] task [xgboost.dask-3]:tcp://127.0.0.1:37815 got new rank 3\n"
     ]
    },
    {
     "name": "stdout",
     "output_type": "stream",
     "text": [
      "24.79% complete | Training ['TE_brand_target', 'price', 'relative_price_product', 'brand_target_sum'].\r"
     ]
    },
    {
     "name": "stderr",
     "output_type": "stream",
     "text": [
      "[18:24:11] task [xgboost.dask-0]:tcp://127.0.0.1:46457 got new rank 0\n",
      "[18:24:11] task [xgboost.dask-1]:tcp://127.0.0.1:37723 got new rank 1\n",
      "[18:24:11] task [xgboost.dask-2]:tcp://127.0.0.1:37887 got new rank 2\n",
      "[18:24:11] task [xgboost.dask-3]:tcp://127.0.0.1:37815 got new rank 3\n"
     ]
    },
    {
     "name": "stdout",
     "output_type": "stream",
     "text": [
      "25.07% complete | Training ['TE_brand_target', 'price', 'relative_price_product', 'cat_2_count'].\r"
     ]
    },
    {
     "name": "stderr",
     "output_type": "stream",
     "text": [
      "[18:24:13] task [xgboost.dask-0]:tcp://127.0.0.1:46457 got new rank 0\n",
      "[18:24:13] task [xgboost.dask-1]:tcp://127.0.0.1:37723 got new rank 1\n",
      "[18:24:13] task [xgboost.dask-2]:tcp://127.0.0.1:37887 got new rank 2\n",
      "[18:24:13] task [xgboost.dask-3]:tcp://127.0.0.1:37815 got new rank 3\n"
     ]
    },
    {
     "name": "stdout",
     "output_type": "stream",
     "text": [
      "25.36% complete | Training ['TE_brand_target', 'price', 'relative_price_product', 'cat_0_target_sum'].\r"
     ]
    },
    {
     "name": "stderr",
     "output_type": "stream",
     "text": [
      "[18:24:16] task [xgboost.dask-0]:tcp://127.0.0.1:46457 got new rank 0\n",
      "[18:24:16] task [xgboost.dask-1]:tcp://127.0.0.1:37723 got new rank 1\n",
      "[18:24:16] task [xgboost.dask-2]:tcp://127.0.0.1:37887 got new rank 2\n",
      "[18:24:16] task [xgboost.dask-3]:tcp://127.0.0.1:37815 got new rank 3\n"
     ]
    },
    {
     "name": "stdout",
     "output_type": "stream",
     "text": [
      "25.64% complete | Training ['TE_brand_target', 'price', 'relative_price_product', 'cat_2_target_sum'].\r"
     ]
    },
    {
     "name": "stderr",
     "output_type": "stream",
     "text": [
      "[18:24:18] task [xgboost.dask-0]:tcp://127.0.0.1:46457 got new rank 0\n",
      "[18:24:18] task [xgboost.dask-1]:tcp://127.0.0.1:37723 got new rank 1\n",
      "[18:24:18] task [xgboost.dask-2]:tcp://127.0.0.1:37887 got new rank 2\n",
      "[18:24:18] task [xgboost.dask-3]:tcp://127.0.0.1:37815 got new rank 3\n"
     ]
    },
    {
     "name": "stdout",
     "output_type": "stream",
     "text": [
      "25.93% complete | Training ['TE_brand_target', 'price', 'relative_price_product', 'relative_price_category'].\r"
     ]
    },
    {
     "name": "stderr",
     "output_type": "stream",
     "text": [
      "[18:24:20] task [xgboost.dask-0]:tcp://127.0.0.1:46457 got new rank 0\n",
      "[18:24:20] task [xgboost.dask-1]:tcp://127.0.0.1:37723 got new rank 1\n",
      "[18:24:20] task [xgboost.dask-2]:tcp://127.0.0.1:37887 got new rank 2\n",
      "[18:24:20] task [xgboost.dask-3]:tcp://127.0.0.1:37815 got new rank 3\n"
     ]
    },
    {
     "name": "stdout",
     "output_type": "stream",
     "text": [
      "26.21% complete | Training ['TE_brand_target', 'price', 'relative_price_product', 'cat_3_target_sum'].\r"
     ]
    },
    {
     "name": "stderr",
     "output_type": "stream",
     "text": [
      "[18:24:22] task [xgboost.dask-0]:tcp://127.0.0.1:46457 got new rank 0\n",
      "[18:24:22] task [xgboost.dask-1]:tcp://127.0.0.1:37723 got new rank 1\n",
      "[18:24:22] task [xgboost.dask-2]:tcp://127.0.0.1:37887 got new rank 2\n",
      "[18:24:22] task [xgboost.dask-3]:tcp://127.0.0.1:37815 got new rank 3\n"
     ]
    },
    {
     "name": "stdout",
     "output_type": "stream",
     "text": [
      "26.5% complete | Training ['TE_brand_target', 'price', 'relative_price_product', 'TE_cat_1_target'].\r"
     ]
    },
    {
     "name": "stderr",
     "output_type": "stream",
     "text": [
      "[18:24:25] task [xgboost.dask-0]:tcp://127.0.0.1:46457 got new rank 0\n",
      "[18:24:25] task [xgboost.dask-1]:tcp://127.0.0.1:37723 got new rank 1\n",
      "[18:24:25] task [xgboost.dask-2]:tcp://127.0.0.1:37887 got new rank 2\n",
      "[18:24:25] task [xgboost.dask-3]:tcp://127.0.0.1:37815 got new rank 3\n"
     ]
    },
    {
     "name": "stdout",
     "output_type": "stream",
     "text": [
      "26.78% complete | Training ['TE_brand_target', 'price', 'relative_price_product', 'cat_1_target_sum'].\r"
     ]
    },
    {
     "name": "stderr",
     "output_type": "stream",
     "text": [
      "[18:24:27] task [xgboost.dask-0]:tcp://127.0.0.1:46457 got new rank 0\n",
      "[18:24:27] task [xgboost.dask-1]:tcp://127.0.0.1:37723 got new rank 1\n",
      "[18:24:27] task [xgboost.dask-2]:tcp://127.0.0.1:37887 got new rank 2\n",
      "[18:24:27] task [xgboost.dask-3]:tcp://127.0.0.1:37815 got new rank 3\n"
     ]
    },
    {
     "name": "stdout",
     "output_type": "stream",
     "text": [
      "27.07% complete | Training ['TE_brand_target', 'price', 'relative_price_product', 'cat_1'].\r"
     ]
    },
    {
     "name": "stderr",
     "output_type": "stream",
     "text": [
      "[18:24:29] task [xgboost.dask-0]:tcp://127.0.0.1:46457 got new rank 0\n",
      "[18:24:29] task [xgboost.dask-1]:tcp://127.0.0.1:37723 got new rank 1\n",
      "[18:24:29] task [xgboost.dask-2]:tcp://127.0.0.1:37887 got new rank 2\n",
      "[18:24:29] task [xgboost.dask-3]:tcp://127.0.0.1:37815 got new rank 3\n"
     ]
    },
    {
     "name": "stdout",
     "output_type": "stream",
     "text": [
      "27.35% complete | Training ['TE_brand_target', 'price', 'relative_price_product', 'ts_hour'].\r"
     ]
    },
    {
     "name": "stderr",
     "output_type": "stream",
     "text": [
      "[18:24:31] task [xgboost.dask-0]:tcp://127.0.0.1:46457 got new rank 0\n",
      "[18:24:31] task [xgboost.dask-1]:tcp://127.0.0.1:37723 got new rank 1\n",
      "[18:24:31] task [xgboost.dask-2]:tcp://127.0.0.1:37887 got new rank 2\n",
      "[18:24:31] task [xgboost.dask-3]:tcp://127.0.0.1:37815 got new rank 3\n"
     ]
    },
    {
     "name": "stdout",
     "output_type": "stream",
     "text": [
      "27.64% complete | Training ['TE_brand_target', 'price', 'relative_price_product', 'TE_cat_3_target'].\r"
     ]
    },
    {
     "name": "stderr",
     "output_type": "stream",
     "text": [
      "[18:24:33] task [xgboost.dask-0]:tcp://127.0.0.1:46457 got new rank 0\n",
      "[18:24:33] task [xgboost.dask-1]:tcp://127.0.0.1:37723 got new rank 1\n",
      "[18:24:33] task [xgboost.dask-2]:tcp://127.0.0.1:37887 got new rank 2\n",
      "[18:24:33] task [xgboost.dask-3]:tcp://127.0.0.1:37815 got new rank 3\n"
     ]
    },
    {
     "name": "stdout",
     "output_type": "stream",
     "text": [
      "27.92% complete | Training ['TE_brand_target', 'price', 'relative_price_product', 'ts_hour', 'cat_2'].\r"
     ]
    },
    {
     "name": "stderr",
     "output_type": "stream",
     "text": [
      "[18:24:35] task [xgboost.dask-0]:tcp://127.0.0.1:46457 got new rank 0\n",
      "[18:24:35] task [xgboost.dask-1]:tcp://127.0.0.1:37723 got new rank 1\n",
      "[18:24:35] task [xgboost.dask-2]:tcp://127.0.0.1:37887 got new rank 2\n",
      "[18:24:35] task [xgboost.dask-3]:tcp://127.0.0.1:37815 got new rank 3\n"
     ]
    },
    {
     "name": "stdout",
     "output_type": "stream",
     "text": [
      "28.21% complete | Training ['TE_brand_target', 'price', 'relative_price_product', 'ts_hour', 'ts_weekday'].\r"
     ]
    },
    {
     "name": "stderr",
     "output_type": "stream",
     "text": [
      "[18:24:37] task [xgboost.dask-0]:tcp://127.0.0.1:46457 got new rank 0\n",
      "[18:24:37] task [xgboost.dask-1]:tcp://127.0.0.1:37723 got new rank 1\n",
      "[18:24:37] task [xgboost.dask-2]:tcp://127.0.0.1:37887 got new rank 2\n",
      "[18:24:37] task [xgboost.dask-3]:tcp://127.0.0.1:37815 got new rank 3\n"
     ]
    },
    {
     "name": "stdout",
     "output_type": "stream",
     "text": [
      "28.49% complete | Training ['TE_brand_target', 'price', 'relative_price_product', 'ts_hour', 'brand'].\r"
     ]
    },
    {
     "name": "stderr",
     "output_type": "stream",
     "text": [
      "[18:24:40] task [xgboost.dask-0]:tcp://127.0.0.1:46457 got new rank 0\n",
      "[18:24:40] task [xgboost.dask-1]:tcp://127.0.0.1:37723 got new rank 1\n",
      "[18:24:40] task [xgboost.dask-2]:tcp://127.0.0.1:37887 got new rank 2\n",
      "[18:24:40] task [xgboost.dask-3]:tcp://127.0.0.1:37815 got new rank 3\n"
     ]
    },
    {
     "name": "stdout",
     "output_type": "stream",
     "text": [
      "28.77% complete | Training ['TE_brand_target', 'price', 'relative_price_product', 'ts_hour', 'ts_minute'].\r"
     ]
    },
    {
     "name": "stderr",
     "output_type": "stream",
     "text": [
      "[18:24:42] task [xgboost.dask-0]:tcp://127.0.0.1:46457 got new rank 0\n",
      "[18:24:42] task [xgboost.dask-1]:tcp://127.0.0.1:37723 got new rank 1\n",
      "[18:24:42] task [xgboost.dask-2]:tcp://127.0.0.1:37887 got new rank 2\n",
      "[18:24:42] task [xgboost.dask-3]:tcp://127.0.0.1:37815 got new rank 3\n"
     ]
    },
    {
     "name": "stdout",
     "output_type": "stream",
     "text": [
      "29.06% complete | Training ['TE_brand_target', 'price', 'relative_price_product', 'ts_hour', 'cat_0_count'].\r"
     ]
    },
    {
     "name": "stderr",
     "output_type": "stream",
     "text": [
      "[18:24:44] task [xgboost.dask-0]:tcp://127.0.0.1:46457 got new rank 0\n",
      "[18:24:44] task [xgboost.dask-1]:tcp://127.0.0.1:37723 got new rank 1\n",
      "[18:24:44] task [xgboost.dask-2]:tcp://127.0.0.1:37887 got new rank 2\n",
      "[18:24:44] task [xgboost.dask-3]:tcp://127.0.0.1:37815 got new rank 3\n"
     ]
    },
    {
     "name": "stdout",
     "output_type": "stream",
     "text": [
      "29.34% complete | Training ['TE_brand_target', 'price', 'relative_price_product', 'ts_hour', 'cat_3'].\r"
     ]
    },
    {
     "name": "stderr",
     "output_type": "stream",
     "text": [
      "[18:24:47] task [xgboost.dask-0]:tcp://127.0.0.1:46457 got new rank 0\n",
      "[18:24:47] task [xgboost.dask-1]:tcp://127.0.0.1:37723 got new rank 1\n",
      "[18:24:47] task [xgboost.dask-2]:tcp://127.0.0.1:37887 got new rank 2\n",
      "[18:24:47] task [xgboost.dask-3]:tcp://127.0.0.1:37815 got new rank 3\n"
     ]
    },
    {
     "name": "stdout",
     "output_type": "stream",
     "text": [
      "29.63% complete | Training ['TE_brand_target', 'price', 'relative_price_product', 'ts_hour', 'TE_cat_2_target'].\r"
     ]
    },
    {
     "name": "stderr",
     "output_type": "stream",
     "text": [
      "[18:24:49] task [xgboost.dask-0]:tcp://127.0.0.1:46457 got new rank 0\n",
      "[18:24:49] task [xgboost.dask-1]:tcp://127.0.0.1:37723 got new rank 1\n",
      "[18:24:49] task [xgboost.dask-2]:tcp://127.0.0.1:37887 got new rank 2\n",
      "[18:24:49] task [xgboost.dask-3]:tcp://127.0.0.1:37815 got new rank 3\n"
     ]
    },
    {
     "name": "stdout",
     "output_type": "stream",
     "text": [
      "29.91% complete | Training ['TE_brand_target', 'price', 'relative_price_product', 'ts_hour', 'cat_1_count'].\r"
     ]
    },
    {
     "name": "stderr",
     "output_type": "stream",
     "text": [
      "[18:24:51] task [xgboost.dask-0]:tcp://127.0.0.1:46457 got new rank 0\n",
      "[18:24:51] task [xgboost.dask-1]:tcp://127.0.0.1:37723 got new rank 1\n",
      "[18:24:51] task [xgboost.dask-2]:tcp://127.0.0.1:37887 got new rank 2\n",
      "[18:24:51] task [xgboost.dask-3]:tcp://127.0.0.1:37815 got new rank 3\n"
     ]
    },
    {
     "name": "stdout",
     "output_type": "stream",
     "text": [
      "30.2% complete | Training ['TE_brand_target', 'price', 'relative_price_product', 'ts_hour', 'cat_3_count'].\r"
     ]
    },
    {
     "name": "stderr",
     "output_type": "stream",
     "text": [
      "[18:24:54] task [xgboost.dask-0]:tcp://127.0.0.1:46457 got new rank 0\n",
      "[18:24:54] task [xgboost.dask-1]:tcp://127.0.0.1:37723 got new rank 1\n",
      "[18:24:54] task [xgboost.dask-2]:tcp://127.0.0.1:37887 got new rank 2\n",
      "[18:24:54] task [xgboost.dask-3]:tcp://127.0.0.1:37815 got new rank 3\n"
     ]
    },
    {
     "name": "stdout",
     "output_type": "stream",
     "text": [
      "30.48% complete | Training ['TE_brand_target', 'price', 'relative_price_product', 'ts_hour', 'cat_0'].\r"
     ]
    },
    {
     "name": "stderr",
     "output_type": "stream",
     "text": [
      "[18:24:56] task [xgboost.dask-0]:tcp://127.0.0.1:46457 got new rank 0\n",
      "[18:24:56] task [xgboost.dask-1]:tcp://127.0.0.1:37723 got new rank 1\n",
      "[18:24:56] task [xgboost.dask-2]:tcp://127.0.0.1:37887 got new rank 2\n",
      "[18:24:56] task [xgboost.dask-3]:tcp://127.0.0.1:37815 got new rank 3\n"
     ]
    },
    {
     "name": "stdout",
     "output_type": "stream",
     "text": [
      "30.77% complete | Training ['TE_brand_target', 'price', 'relative_price_product', 'ts_hour', 'TE_cat_0_target'].\r"
     ]
    },
    {
     "name": "stderr",
     "output_type": "stream",
     "text": [
      "[18:24:58] task [xgboost.dask-0]:tcp://127.0.0.1:46457 got new rank 0\n",
      "[18:24:58] task [xgboost.dask-1]:tcp://127.0.0.1:37723 got new rank 1\n",
      "[18:24:58] task [xgboost.dask-2]:tcp://127.0.0.1:37887 got new rank 2\n",
      "[18:24:58] task [xgboost.dask-3]:tcp://127.0.0.1:37815 got new rank 3\n"
     ]
    },
    {
     "name": "stdout",
     "output_type": "stream",
     "text": [
      "31.05% complete | Training ['TE_brand_target', 'price', 'relative_price_product', 'ts_hour', 'brand_count'].\r"
     ]
    },
    {
     "name": "stderr",
     "output_type": "stream",
     "text": [
      "[18:25:00] task [xgboost.dask-0]:tcp://127.0.0.1:46457 got new rank 0\n",
      "[18:25:00] task [xgboost.dask-1]:tcp://127.0.0.1:37723 got new rank 1\n",
      "[18:25:00] task [xgboost.dask-2]:tcp://127.0.0.1:37887 got new rank 2\n",
      "[18:25:00] task [xgboost.dask-3]:tcp://127.0.0.1:37815 got new rank 3\n"
     ]
    },
    {
     "name": "stdout",
     "output_type": "stream",
     "text": [
      "31.34% complete | Training ['TE_brand_target', 'price', 'relative_price_product', 'ts_hour', 'brand_target_sum'].\r"
     ]
    },
    {
     "name": "stderr",
     "output_type": "stream",
     "text": [
      "[18:25:03] task [xgboost.dask-0]:tcp://127.0.0.1:46457 got new rank 0\n",
      "[18:25:03] task [xgboost.dask-1]:tcp://127.0.0.1:37723 got new rank 1\n",
      "[18:25:03] task [xgboost.dask-2]:tcp://127.0.0.1:37887 got new rank 2\n",
      "[18:25:03] task [xgboost.dask-3]:tcp://127.0.0.1:37815 got new rank 3\n"
     ]
    },
    {
     "name": "stdout",
     "output_type": "stream",
     "text": [
      "31.62% complete | Training ['TE_brand_target', 'price', 'relative_price_product', 'ts_hour', 'cat_2_count'].\r"
     ]
    },
    {
     "name": "stderr",
     "output_type": "stream",
     "text": [
      "[18:25:05] task [xgboost.dask-0]:tcp://127.0.0.1:46457 got new rank 0\n",
      "[18:25:05] task [xgboost.dask-1]:tcp://127.0.0.1:37723 got new rank 1\n",
      "[18:25:05] task [xgboost.dask-2]:tcp://127.0.0.1:37887 got new rank 2\n",
      "[18:25:05] task [xgboost.dask-3]:tcp://127.0.0.1:37815 got new rank 3\n"
     ]
    },
    {
     "name": "stdout",
     "output_type": "stream",
     "text": [
      "31.91% complete | Training ['TE_brand_target', 'price', 'relative_price_product', 'ts_hour', 'cat_0_target_sum'].\r"
     ]
    },
    {
     "name": "stderr",
     "output_type": "stream",
     "text": [
      "[18:25:07] task [xgboost.dask-0]:tcp://127.0.0.1:46457 got new rank 0\n",
      "[18:25:07] task [xgboost.dask-1]:tcp://127.0.0.1:37723 got new rank 1\n",
      "[18:25:07] task [xgboost.dask-2]:tcp://127.0.0.1:37887 got new rank 2\n",
      "[18:25:07] task [xgboost.dask-3]:tcp://127.0.0.1:37815 got new rank 3\n"
     ]
    },
    {
     "name": "stdout",
     "output_type": "stream",
     "text": [
      "32.19% complete | Training ['TE_brand_target', 'price', 'relative_price_product', 'ts_hour', 'cat_2_target_sum'].\r"
     ]
    },
    {
     "name": "stderr",
     "output_type": "stream",
     "text": [
      "[18:25:10] task [xgboost.dask-0]:tcp://127.0.0.1:46457 got new rank 0\n",
      "[18:25:10] task [xgboost.dask-1]:tcp://127.0.0.1:37723 got new rank 1\n",
      "[18:25:10] task [xgboost.dask-2]:tcp://127.0.0.1:37887 got new rank 2\n",
      "[18:25:10] task [xgboost.dask-3]:tcp://127.0.0.1:37815 got new rank 3\n"
     ]
    },
    {
     "name": "stdout",
     "output_type": "stream",
     "text": [
      "32.48% complete | Training ['TE_brand_target', 'price', 'relative_price_product', 'ts_hour', 'relative_price_category'].\r"
     ]
    },
    {
     "name": "stderr",
     "output_type": "stream",
     "text": [
      "[18:25:12] task [xgboost.dask-0]:tcp://127.0.0.1:46457 got new rank 0\n",
      "[18:25:12] task [xgboost.dask-1]:tcp://127.0.0.1:37723 got new rank 1\n",
      "[18:25:12] task [xgboost.dask-2]:tcp://127.0.0.1:37887 got new rank 2\n",
      "[18:25:12] task [xgboost.dask-3]:tcp://127.0.0.1:37815 got new rank 3\n"
     ]
    },
    {
     "name": "stdout",
     "output_type": "stream",
     "text": [
      "32.76% complete | Training ['TE_brand_target', 'price', 'relative_price_product', 'ts_hour', 'cat_3_target_sum'].\r"
     ]
    },
    {
     "name": "stderr",
     "output_type": "stream",
     "text": [
      "[18:25:14] task [xgboost.dask-0]:tcp://127.0.0.1:46457 got new rank 0\n",
      "[18:25:14] task [xgboost.dask-1]:tcp://127.0.0.1:37723 got new rank 1\n",
      "[18:25:14] task [xgboost.dask-2]:tcp://127.0.0.1:37887 got new rank 2\n",
      "[18:25:14] task [xgboost.dask-3]:tcp://127.0.0.1:37815 got new rank 3\n"
     ]
    },
    {
     "name": "stdout",
     "output_type": "stream",
     "text": [
      "33.05% complete | Training ['TE_brand_target', 'price', 'relative_price_product', 'ts_hour', 'TE_cat_1_target'].\r"
     ]
    },
    {
     "name": "stderr",
     "output_type": "stream",
     "text": [
      "[18:25:17] task [xgboost.dask-0]:tcp://127.0.0.1:46457 got new rank 0\n",
      "[18:25:17] task [xgboost.dask-1]:tcp://127.0.0.1:37723 got new rank 1\n",
      "[18:25:17] task [xgboost.dask-2]:tcp://127.0.0.1:37887 got new rank 2\n",
      "[18:25:17] task [xgboost.dask-3]:tcp://127.0.0.1:37815 got new rank 3\n"
     ]
    },
    {
     "name": "stdout",
     "output_type": "stream",
     "text": [
      "33.33% complete | Training ['TE_brand_target', 'price', 'relative_price_product', 'ts_hour', 'cat_1_target_sum'].\r"
     ]
    },
    {
     "name": "stderr",
     "output_type": "stream",
     "text": [
      "[18:25:18] task [xgboost.dask-0]:tcp://127.0.0.1:46457 got new rank 0\n",
      "[18:25:18] task [xgboost.dask-1]:tcp://127.0.0.1:37723 got new rank 1\n",
      "[18:25:18] task [xgboost.dask-2]:tcp://127.0.0.1:37887 got new rank 2\n",
      "[18:25:18] task [xgboost.dask-3]:tcp://127.0.0.1:37815 got new rank 3\n"
     ]
    },
    {
     "name": "stdout",
     "output_type": "stream",
     "text": [
      "33.62% complete | Training ['TE_brand_target', 'price', 'relative_price_product', 'ts_hour', 'cat_1'].\r"
     ]
    },
    {
     "name": "stderr",
     "output_type": "stream",
     "text": [
      "[18:25:21] task [xgboost.dask-0]:tcp://127.0.0.1:46457 got new rank 0\n",
      "[18:25:21] task [xgboost.dask-1]:tcp://127.0.0.1:37723 got new rank 1\n",
      "[18:25:21] task [xgboost.dask-2]:tcp://127.0.0.1:37887 got new rank 2\n",
      "[18:25:21] task [xgboost.dask-3]:tcp://127.0.0.1:37815 got new rank 3\n"
     ]
    },
    {
     "name": "stdout",
     "output_type": "stream",
     "text": [
      "33.9% complete | Training ['TE_brand_target', 'price', 'relative_price_product', 'ts_hour', 'TE_cat_3_target'].\r"
     ]
    },
    {
     "name": "stderr",
     "output_type": "stream",
     "text": [
      "[18:25:23] task [xgboost.dask-0]:tcp://127.0.0.1:46457 got new rank 0\n",
      "[18:25:23] task [xgboost.dask-1]:tcp://127.0.0.1:37723 got new rank 1\n",
      "[18:25:23] task [xgboost.dask-2]:tcp://127.0.0.1:37887 got new rank 2\n",
      "[18:25:23] task [xgboost.dask-3]:tcp://127.0.0.1:37815 got new rank 3\n"
     ]
    },
    {
     "name": "stdout",
     "output_type": "stream",
     "text": [
      "34.19% complete | Training ['TE_brand_target', 'price', 'relative_price_product', 'ts_hour', 'cat_2', 'ts_weekday'].\r"
     ]
    },
    {
     "name": "stderr",
     "output_type": "stream",
     "text": [
      "[18:25:25] task [xgboost.dask-0]:tcp://127.0.0.1:46457 got new rank 0\n",
      "[18:25:25] task [xgboost.dask-1]:tcp://127.0.0.1:37723 got new rank 1\n",
      "[18:25:25] task [xgboost.dask-2]:tcp://127.0.0.1:37887 got new rank 2\n",
      "[18:25:25] task [xgboost.dask-3]:tcp://127.0.0.1:37815 got new rank 3\n"
     ]
    },
    {
     "name": "stdout",
     "output_type": "stream",
     "text": [
      "34.47% complete | Training ['TE_brand_target', 'price', 'relative_price_product', 'ts_hour', 'cat_2', 'brand'].\r"
     ]
    },
    {
     "name": "stderr",
     "output_type": "stream",
     "text": [
      "[18:25:28] task [xgboost.dask-0]:tcp://127.0.0.1:46457 got new rank 0\n",
      "[18:25:28] task [xgboost.dask-1]:tcp://127.0.0.1:37723 got new rank 1\n",
      "[18:25:28] task [xgboost.dask-2]:tcp://127.0.0.1:37887 got new rank 2\n",
      "[18:25:28] task [xgboost.dask-3]:tcp://127.0.0.1:37815 got new rank 3\n"
     ]
    },
    {
     "name": "stdout",
     "output_type": "stream",
     "text": [
      "34.76% complete | Training ['TE_brand_target', 'price', 'relative_price_product', 'ts_hour', 'cat_2', 'ts_minute'].\r"
     ]
    },
    {
     "name": "stderr",
     "output_type": "stream",
     "text": [
      "[18:25:30] task [xgboost.dask-0]:tcp://127.0.0.1:46457 got new rank 0\n",
      "[18:25:30] task [xgboost.dask-1]:tcp://127.0.0.1:37723 got new rank 1\n",
      "[18:25:30] task [xgboost.dask-2]:tcp://127.0.0.1:37887 got new rank 2\n",
      "[18:25:30] task [xgboost.dask-3]:tcp://127.0.0.1:37815 got new rank 3\n"
     ]
    },
    {
     "name": "stdout",
     "output_type": "stream",
     "text": [
      "35.04% complete | Training ['TE_brand_target', 'price', 'relative_price_product', 'ts_hour', 'cat_2', 'cat_0_count'].\r"
     ]
    },
    {
     "name": "stderr",
     "output_type": "stream",
     "text": [
      "[18:25:32] task [xgboost.dask-0]:tcp://127.0.0.1:46457 got new rank 0\n",
      "[18:25:32] task [xgboost.dask-1]:tcp://127.0.0.1:37723 got new rank 1\n",
      "[18:25:32] task [xgboost.dask-2]:tcp://127.0.0.1:37887 got new rank 2\n",
      "[18:25:32] task [xgboost.dask-3]:tcp://127.0.0.1:37815 got new rank 3\n"
     ]
    },
    {
     "name": "stdout",
     "output_type": "stream",
     "text": [
      "35.33% complete | Training ['TE_brand_target', 'price', 'relative_price_product', 'ts_hour', 'cat_2', 'cat_3'].\r"
     ]
    },
    {
     "name": "stderr",
     "output_type": "stream",
     "text": [
      "[18:25:35] task [xgboost.dask-0]:tcp://127.0.0.1:46457 got new rank 0\n",
      "[18:25:35] task [xgboost.dask-1]:tcp://127.0.0.1:37723 got new rank 1\n",
      "[18:25:35] task [xgboost.dask-2]:tcp://127.0.0.1:37887 got new rank 2\n",
      "[18:25:35] task [xgboost.dask-3]:tcp://127.0.0.1:37815 got new rank 3\n"
     ]
    },
    {
     "name": "stdout",
     "output_type": "stream",
     "text": [
      "35.61% complete | Training ['TE_brand_target', 'price', 'relative_price_product', 'ts_hour', 'cat_2', 'TE_cat_2_target'].\r"
     ]
    },
    {
     "name": "stderr",
     "output_type": "stream",
     "text": [
      "[18:25:37] task [xgboost.dask-0]:tcp://127.0.0.1:46457 got new rank 0\n",
      "[18:25:37] task [xgboost.dask-1]:tcp://127.0.0.1:37723 got new rank 1\n",
      "[18:25:37] task [xgboost.dask-2]:tcp://127.0.0.1:37887 got new rank 2\n",
      "[18:25:37] task [xgboost.dask-3]:tcp://127.0.0.1:37815 got new rank 3\n"
     ]
    },
    {
     "name": "stdout",
     "output_type": "stream",
     "text": [
      "35.9% complete | Training ['TE_brand_target', 'price', 'relative_price_product', 'ts_hour', 'cat_2', 'cat_1_count'].\r"
     ]
    },
    {
     "name": "stderr",
     "output_type": "stream",
     "text": [
      "[18:25:39] task [xgboost.dask-0]:tcp://127.0.0.1:46457 got new rank 0\n",
      "[18:25:39] task [xgboost.dask-1]:tcp://127.0.0.1:37723 got new rank 1\n",
      "[18:25:39] task [xgboost.dask-2]:tcp://127.0.0.1:37887 got new rank 2\n",
      "[18:25:39] task [xgboost.dask-3]:tcp://127.0.0.1:37815 got new rank 3\n"
     ]
    },
    {
     "name": "stdout",
     "output_type": "stream",
     "text": [
      "36.18% complete | Training ['TE_brand_target', 'price', 'relative_price_product', 'ts_hour', 'cat_2', 'cat_3_count'].\r"
     ]
    },
    {
     "name": "stderr",
     "output_type": "stream",
     "text": [
      "[18:25:42] task [xgboost.dask-0]:tcp://127.0.0.1:46457 got new rank 0\n",
      "[18:25:42] task [xgboost.dask-1]:tcp://127.0.0.1:37723 got new rank 1\n",
      "[18:25:42] task [xgboost.dask-2]:tcp://127.0.0.1:37887 got new rank 2\n",
      "[18:25:42] task [xgboost.dask-3]:tcp://127.0.0.1:37815 got new rank 3\n"
     ]
    },
    {
     "name": "stdout",
     "output_type": "stream",
     "text": [
      "36.47% complete | Training ['TE_brand_target', 'price', 'relative_price_product', 'ts_hour', 'cat_2', 'cat_0'].\r"
     ]
    },
    {
     "name": "stderr",
     "output_type": "stream",
     "text": [
      "[18:25:44] task [xgboost.dask-0]:tcp://127.0.0.1:46457 got new rank 0\n",
      "[18:25:44] task [xgboost.dask-1]:tcp://127.0.0.1:37723 got new rank 1\n",
      "[18:25:44] task [xgboost.dask-2]:tcp://127.0.0.1:37887 got new rank 2\n",
      "[18:25:44] task [xgboost.dask-3]:tcp://127.0.0.1:37815 got new rank 3\n"
     ]
    },
    {
     "name": "stdout",
     "output_type": "stream",
     "text": [
      "36.75% complete | Training ['TE_brand_target', 'price', 'relative_price_product', 'ts_hour', 'cat_2', 'TE_cat_0_target'].\r"
     ]
    },
    {
     "name": "stderr",
     "output_type": "stream",
     "text": [
      "[18:25:46] task [xgboost.dask-0]:tcp://127.0.0.1:46457 got new rank 0\n",
      "[18:25:46] task [xgboost.dask-1]:tcp://127.0.0.1:37723 got new rank 1\n",
      "[18:25:46] task [xgboost.dask-2]:tcp://127.0.0.1:37887 got new rank 2\n",
      "[18:25:46] task [xgboost.dask-3]:tcp://127.0.0.1:37815 got new rank 3\n"
     ]
    },
    {
     "name": "stdout",
     "output_type": "stream",
     "text": [
      "37.04% complete | Training ['TE_brand_target', 'price', 'relative_price_product', 'ts_hour', 'cat_2', 'brand_count'].\r"
     ]
    },
    {
     "name": "stderr",
     "output_type": "stream",
     "text": [
      "[18:25:49] task [xgboost.dask-0]:tcp://127.0.0.1:46457 got new rank 0\n",
      "[18:25:49] task [xgboost.dask-1]:tcp://127.0.0.1:37723 got new rank 1\n",
      "[18:25:49] task [xgboost.dask-2]:tcp://127.0.0.1:37887 got new rank 2\n",
      "[18:25:49] task [xgboost.dask-3]:tcp://127.0.0.1:37815 got new rank 3\n"
     ]
    },
    {
     "name": "stdout",
     "output_type": "stream",
     "text": [
      "37.32% complete | Training ['TE_brand_target', 'price', 'relative_price_product', 'ts_hour', 'cat_2', 'brand_target_sum'].\r"
     ]
    },
    {
     "name": "stderr",
     "output_type": "stream",
     "text": [
      "[18:25:51] task [xgboost.dask-0]:tcp://127.0.0.1:46457 got new rank 0\n",
      "[18:25:51] task [xgboost.dask-1]:tcp://127.0.0.1:37723 got new rank 1\n",
      "[18:25:51] task [xgboost.dask-2]:tcp://127.0.0.1:37887 got new rank 2\n",
      "[18:25:51] task [xgboost.dask-3]:tcp://127.0.0.1:37815 got new rank 3\n"
     ]
    },
    {
     "name": "stdout",
     "output_type": "stream",
     "text": [
      "37.61% complete | Training ['TE_brand_target', 'price', 'relative_price_product', 'ts_hour', 'cat_2', 'cat_2_count'].\r"
     ]
    },
    {
     "name": "stderr",
     "output_type": "stream",
     "text": [
      "[18:25:54] task [xgboost.dask-0]:tcp://127.0.0.1:46457 got new rank 0\n",
      "[18:25:54] task [xgboost.dask-1]:tcp://127.0.0.1:37723 got new rank 1\n",
      "[18:25:54] task [xgboost.dask-2]:tcp://127.0.0.1:37887 got new rank 2\n",
      "[18:25:54] task [xgboost.dask-3]:tcp://127.0.0.1:37815 got new rank 3\n"
     ]
    },
    {
     "name": "stdout",
     "output_type": "stream",
     "text": [
      "37.89% complete | Training ['TE_brand_target', 'price', 'relative_price_product', 'ts_hour', 'cat_2', 'cat_0_target_sum'].\r"
     ]
    },
    {
     "name": "stderr",
     "output_type": "stream",
     "text": [
      "[18:25:56] task [xgboost.dask-0]:tcp://127.0.0.1:46457 got new rank 0\n",
      "[18:25:56] task [xgboost.dask-1]:tcp://127.0.0.1:37723 got new rank 1\n",
      "[18:25:56] task [xgboost.dask-2]:tcp://127.0.0.1:37887 got new rank 2\n",
      "[18:25:56] task [xgboost.dask-3]:tcp://127.0.0.1:37815 got new rank 3\n"
     ]
    },
    {
     "name": "stdout",
     "output_type": "stream",
     "text": [
      "38.18% complete | Training ['TE_brand_target', 'price', 'relative_price_product', 'ts_hour', 'cat_2', 'cat_2_target_sum'].\r"
     ]
    },
    {
     "name": "stderr",
     "output_type": "stream",
     "text": [
      "[18:25:58] task [xgboost.dask-0]:tcp://127.0.0.1:46457 got new rank 0\n",
      "[18:25:58] task [xgboost.dask-1]:tcp://127.0.0.1:37723 got new rank 1\n",
      "[18:25:58] task [xgboost.dask-2]:tcp://127.0.0.1:37887 got new rank 2\n",
      "[18:25:58] task [xgboost.dask-3]:tcp://127.0.0.1:37815 got new rank 3\n"
     ]
    },
    {
     "name": "stdout",
     "output_type": "stream",
     "text": [
      "38.46% complete | Training ['TE_brand_target', 'price', 'relative_price_product', 'ts_hour', 'cat_2', 'relative_price_category'].\r"
     ]
    },
    {
     "name": "stderr",
     "output_type": "stream",
     "text": [
      "[18:26:01] task [xgboost.dask-0]:tcp://127.0.0.1:46457 got new rank 0\n",
      "[18:26:01] task [xgboost.dask-1]:tcp://127.0.0.1:37723 got new rank 1\n",
      "[18:26:01] task [xgboost.dask-2]:tcp://127.0.0.1:37887 got new rank 2\n",
      "[18:26:01] task [xgboost.dask-3]:tcp://127.0.0.1:37815 got new rank 3\n"
     ]
    },
    {
     "name": "stdout",
     "output_type": "stream",
     "text": [
      "38.75% complete | Training ['TE_brand_target', 'price', 'relative_price_product', 'ts_hour', 'cat_2', 'cat_3_target_sum'].\r"
     ]
    },
    {
     "name": "stderr",
     "output_type": "stream",
     "text": [
      "[18:26:03] task [xgboost.dask-0]:tcp://127.0.0.1:46457 got new rank 0\n",
      "[18:26:03] task [xgboost.dask-1]:tcp://127.0.0.1:37723 got new rank 1\n",
      "[18:26:03] task [xgboost.dask-2]:tcp://127.0.0.1:37887 got new rank 2\n",
      "[18:26:03] task [xgboost.dask-3]:tcp://127.0.0.1:37815 got new rank 3\n"
     ]
    },
    {
     "name": "stdout",
     "output_type": "stream",
     "text": [
      "39.03% complete | Training ['TE_brand_target', 'price', 'relative_price_product', 'ts_hour', 'cat_2', 'TE_cat_1_target'].\r"
     ]
    },
    {
     "name": "stderr",
     "output_type": "stream",
     "text": [
      "[18:26:05] task [xgboost.dask-0]:tcp://127.0.0.1:46457 got new rank 0\n",
      "[18:26:05] task [xgboost.dask-1]:tcp://127.0.0.1:37723 got new rank 1\n",
      "[18:26:05] task [xgboost.dask-2]:tcp://127.0.0.1:37887 got new rank 2\n",
      "[18:26:05] task [xgboost.dask-3]:tcp://127.0.0.1:37815 got new rank 3\n"
     ]
    },
    {
     "name": "stdout",
     "output_type": "stream",
     "text": [
      "39.32% complete | Training ['TE_brand_target', 'price', 'relative_price_product', 'ts_hour', 'cat_2', 'cat_1_target_sum'].\r"
     ]
    },
    {
     "name": "stderr",
     "output_type": "stream",
     "text": [
      "[18:26:08] task [xgboost.dask-0]:tcp://127.0.0.1:46457 got new rank 0\n",
      "[18:26:08] task [xgboost.dask-1]:tcp://127.0.0.1:37723 got new rank 1\n",
      "[18:26:08] task [xgboost.dask-2]:tcp://127.0.0.1:37887 got new rank 2\n",
      "[18:26:08] task [xgboost.dask-3]:tcp://127.0.0.1:37815 got new rank 3\n"
     ]
    },
    {
     "name": "stdout",
     "output_type": "stream",
     "text": [
      "39.6% complete | Training ['TE_brand_target', 'price', 'relative_price_product', 'ts_hour', 'cat_2', 'cat_1'].\r"
     ]
    },
    {
     "name": "stderr",
     "output_type": "stream",
     "text": [
      "[18:26:10] task [xgboost.dask-0]:tcp://127.0.0.1:46457 got new rank 0\n",
      "[18:26:10] task [xgboost.dask-1]:tcp://127.0.0.1:37723 got new rank 1\n",
      "[18:26:10] task [xgboost.dask-2]:tcp://127.0.0.1:37887 got new rank 2\n",
      "[18:26:10] task [xgboost.dask-3]:tcp://127.0.0.1:37815 got new rank 3\n"
     ]
    },
    {
     "name": "stdout",
     "output_type": "stream",
     "text": [
      "39.89% complete | Training ['TE_brand_target', 'price', 'relative_price_product', 'ts_hour', 'cat_2', 'TE_cat_3_target'].\r"
     ]
    },
    {
     "name": "stderr",
     "output_type": "stream",
     "text": [
      "[18:26:12] task [xgboost.dask-0]:tcp://127.0.0.1:46457 got new rank 0\n",
      "[18:26:12] task [xgboost.dask-1]:tcp://127.0.0.1:37723 got new rank 1\n",
      "[18:26:12] task [xgboost.dask-2]:tcp://127.0.0.1:37887 got new rank 2\n",
      "[18:26:12] task [xgboost.dask-3]:tcp://127.0.0.1:37815 got new rank 3\n"
     ]
    },
    {
     "name": "stdout",
     "output_type": "stream",
     "text": [
      "40.17% complete | Training ['TE_brand_target', 'price', 'relative_price_product', 'ts_hour', 'cat_2', 'relative_price_category', 'ts_weekday'].\r"
     ]
    },
    {
     "name": "stderr",
     "output_type": "stream",
     "text": [
      "[18:26:14] task [xgboost.dask-0]:tcp://127.0.0.1:46457 got new rank 0\n",
      "[18:26:14] task [xgboost.dask-1]:tcp://127.0.0.1:37723 got new rank 1\n",
      "[18:26:14] task [xgboost.dask-2]:tcp://127.0.0.1:37887 got new rank 2\n",
      "[18:26:14] task [xgboost.dask-3]:tcp://127.0.0.1:37815 got new rank 3\n"
     ]
    },
    {
     "name": "stdout",
     "output_type": "stream",
     "text": [
      "40.46% complete | Training ['TE_brand_target', 'price', 'relative_price_product', 'ts_hour', 'cat_2', 'relative_price_category', 'cat_3'].\r"
     ]
    },
    {
     "name": "stderr",
     "output_type": "stream",
     "text": [
      "[18:26:17] task [xgboost.dask-0]:tcp://127.0.0.1:46457 got new rank 0\n",
      "[18:26:17] task [xgboost.dask-1]:tcp://127.0.0.1:37723 got new rank 1\n",
      "[18:26:17] task [xgboost.dask-2]:tcp://127.0.0.1:37887 got new rank 2\n",
      "[18:26:17] task [xgboost.dask-3]:tcp://127.0.0.1:37815 got new rank 3\n"
     ]
    },
    {
     "name": "stdout",
     "output_type": "stream",
     "text": [
      "40.74% complete | Training ['TE_brand_target', 'price', 'relative_price_product', 'ts_hour', 'cat_2', 'relative_price_category', 'cat_3_count'].\r"
     ]
    },
    {
     "name": "stderr",
     "output_type": "stream",
     "text": [
      "[18:26:19] task [xgboost.dask-0]:tcp://127.0.0.1:46457 got new rank 0\n",
      "[18:26:19] task [xgboost.dask-1]:tcp://127.0.0.1:37723 got new rank 1\n",
      "[18:26:19] task [xgboost.dask-2]:tcp://127.0.0.1:37887 got new rank 2\n",
      "[18:26:19] task [xgboost.dask-3]:tcp://127.0.0.1:37815 got new rank 3\n"
     ]
    },
    {
     "name": "stdout",
     "output_type": "stream",
     "text": [
      "41.03% complete | Training ['TE_brand_target', 'price', 'relative_price_product', 'ts_hour', 'cat_2', 'relative_price_category', 'cat_0'].\r"
     ]
    },
    {
     "name": "stderr",
     "output_type": "stream",
     "text": [
      "[18:26:22] task [xgboost.dask-0]:tcp://127.0.0.1:46457 got new rank 0\n",
      "[18:26:22] task [xgboost.dask-1]:tcp://127.0.0.1:37723 got new rank 1\n",
      "[18:26:22] task [xgboost.dask-2]:tcp://127.0.0.1:37887 got new rank 2\n",
      "[18:26:22] task [xgboost.dask-3]:tcp://127.0.0.1:37815 got new rank 3\n"
     ]
    },
    {
     "name": "stdout",
     "output_type": "stream",
     "text": [
      "41.31% complete | Training ['TE_brand_target', 'price', 'relative_price_product', 'ts_hour', 'cat_2', 'relative_price_category', 'brand_count'].\r"
     ]
    },
    {
     "name": "stderr",
     "output_type": "stream",
     "text": [
      "[18:26:24] task [xgboost.dask-0]:tcp://127.0.0.1:46457 got new rank 0\n",
      "[18:26:24] task [xgboost.dask-1]:tcp://127.0.0.1:37723 got new rank 1\n",
      "[18:26:24] task [xgboost.dask-2]:tcp://127.0.0.1:37887 got new rank 2\n",
      "[18:26:24] task [xgboost.dask-3]:tcp://127.0.0.1:37815 got new rank 3\n"
     ]
    },
    {
     "name": "stdout",
     "output_type": "stream",
     "text": [
      "41.6% complete | Training ['TE_brand_target', 'price', 'relative_price_product', 'ts_hour', 'cat_2', 'relative_price_category', 'brand_target_sum'].\r"
     ]
    },
    {
     "name": "stderr",
     "output_type": "stream",
     "text": [
      "[18:26:26] task [xgboost.dask-0]:tcp://127.0.0.1:46457 got new rank 0\n",
      "[18:26:26] task [xgboost.dask-1]:tcp://127.0.0.1:37723 got new rank 1\n",
      "[18:26:26] task [xgboost.dask-2]:tcp://127.0.0.1:37887 got new rank 2\n",
      "[18:26:26] task [xgboost.dask-3]:tcp://127.0.0.1:37815 got new rank 3\n"
     ]
    },
    {
     "name": "stdout",
     "output_type": "stream",
     "text": [
      "41.88% complete | Training ['TE_brand_target', 'price', 'relative_price_product', 'ts_hour', 'cat_2', 'relative_price_category', 'cat_0_target_sum'].\r"
     ]
    },
    {
     "name": "stderr",
     "output_type": "stream",
     "text": [
      "[18:26:29] task [xgboost.dask-0]:tcp://127.0.0.1:46457 got new rank 0\n",
      "[18:26:29] task [xgboost.dask-1]:tcp://127.0.0.1:37723 got new rank 1\n",
      "[18:26:29] task [xgboost.dask-2]:tcp://127.0.0.1:37887 got new rank 2\n",
      "[18:26:29] task [xgboost.dask-3]:tcp://127.0.0.1:37815 got new rank 3\n"
     ]
    },
    {
     "name": "stdout",
     "output_type": "stream",
     "text": [
      "42.17% complete | Training ['TE_brand_target', 'price', 'relative_price_product', 'ts_hour', 'cat_2', 'relative_price_category', 'cat_2_count'].\r"
     ]
    },
    {
     "name": "stderr",
     "output_type": "stream",
     "text": [
      "[18:26:31] task [xgboost.dask-0]:tcp://127.0.0.1:46457 got new rank 0\n",
      "[18:26:31] task [xgboost.dask-1]:tcp://127.0.0.1:37723 got new rank 1\n",
      "[18:26:31] task [xgboost.dask-2]:tcp://127.0.0.1:37887 got new rank 2\n",
      "[18:26:31] task [xgboost.dask-3]:tcp://127.0.0.1:37815 got new rank 3\n"
     ]
    },
    {
     "name": "stdout",
     "output_type": "stream",
     "text": [
      "42.45% complete | Training ['TE_brand_target', 'price', 'relative_price_product', 'ts_hour', 'cat_2', 'relative_price_category', 'cat_2_target_sum'].\r"
     ]
    },
    {
     "name": "stderr",
     "output_type": "stream",
     "text": [
      "[18:26:33] task [xgboost.dask-0]:tcp://127.0.0.1:46457 got new rank 0\n",
      "[18:26:33] task [xgboost.dask-1]:tcp://127.0.0.1:37723 got new rank 1\n",
      "[18:26:33] task [xgboost.dask-2]:tcp://127.0.0.1:37887 got new rank 2\n",
      "[18:26:33] task [xgboost.dask-3]:tcp://127.0.0.1:37815 got new rank 3\n"
     ]
    },
    {
     "name": "stdout",
     "output_type": "stream",
     "text": [
      "42.74% complete | Training ['TE_brand_target', 'price', 'relative_price_product', 'ts_hour', 'cat_2', 'relative_price_category', 'cat_3_target_sum'].\r"
     ]
    },
    {
     "name": "stderr",
     "output_type": "stream",
     "text": [
      "[18:26:36] task [xgboost.dask-0]:tcp://127.0.0.1:46457 got new rank 0\n",
      "[18:26:36] task [xgboost.dask-1]:tcp://127.0.0.1:37723 got new rank 1\n",
      "[18:26:36] task [xgboost.dask-2]:tcp://127.0.0.1:37887 got new rank 2\n",
      "[18:26:36] task [xgboost.dask-3]:tcp://127.0.0.1:37815 got new rank 3\n"
     ]
    },
    {
     "name": "stdout",
     "output_type": "stream",
     "text": [
      "43.02% complete | Training ['TE_brand_target', 'price', 'relative_price_product', 'ts_hour', 'cat_2', 'relative_price_category', 'cat_1_target_sum'].\r"
     ]
    },
    {
     "name": "stderr",
     "output_type": "stream",
     "text": [
      "[18:26:38] task [xgboost.dask-0]:tcp://127.0.0.1:46457 got new rank 0\n",
      "[18:26:38] task [xgboost.dask-1]:tcp://127.0.0.1:37723 got new rank 1\n",
      "[18:26:38] task [xgboost.dask-2]:tcp://127.0.0.1:37887 got new rank 2\n",
      "[18:26:38] task [xgboost.dask-3]:tcp://127.0.0.1:37815 got new rank 3\n"
     ]
    },
    {
     "name": "stdout",
     "output_type": "stream",
     "text": [
      "43.3% complete | Training ['TE_brand_target', 'price', 'relative_price_product', 'ts_hour', 'cat_2', 'relative_price_category', 'brand'].\r"
     ]
    },
    {
     "name": "stderr",
     "output_type": "stream",
     "text": [
      "[18:26:40] task [xgboost.dask-0]:tcp://127.0.0.1:46457 got new rank 0\n",
      "[18:26:40] task [xgboost.dask-1]:tcp://127.0.0.1:37723 got new rank 1\n",
      "[18:26:40] task [xgboost.dask-2]:tcp://127.0.0.1:37887 got new rank 2\n",
      "[18:26:40] task [xgboost.dask-3]:tcp://127.0.0.1:37815 got new rank 3\n"
     ]
    },
    {
     "name": "stdout",
     "output_type": "stream",
     "text": [
      "43.59% complete | Training ['TE_brand_target', 'price', 'relative_price_product', 'ts_hour', 'cat_2', 'relative_price_category', 'ts_minute'].\r"
     ]
    },
    {
     "name": "stderr",
     "output_type": "stream",
     "text": [
      "[18:26:43] task [xgboost.dask-0]:tcp://127.0.0.1:46457 got new rank 0\n",
      "[18:26:43] task [xgboost.dask-1]:tcp://127.0.0.1:37723 got new rank 1\n",
      "[18:26:43] task [xgboost.dask-2]:tcp://127.0.0.1:37887 got new rank 2\n",
      "[18:26:43] task [xgboost.dask-3]:tcp://127.0.0.1:37815 got new rank 3\n"
     ]
    },
    {
     "name": "stdout",
     "output_type": "stream",
     "text": [
      "43.87% complete | Training ['TE_brand_target', 'price', 'relative_price_product', 'ts_hour', 'cat_2', 'relative_price_category', 'cat_0_count'].\r"
     ]
    },
    {
     "name": "stderr",
     "output_type": "stream",
     "text": [
      "[18:26:45] task [xgboost.dask-0]:tcp://127.0.0.1:46457 got new rank 0\n",
      "[18:26:45] task [xgboost.dask-1]:tcp://127.0.0.1:37723 got new rank 1\n",
      "[18:26:45] task [xgboost.dask-2]:tcp://127.0.0.1:37887 got new rank 2\n",
      "[18:26:45] task [xgboost.dask-3]:tcp://127.0.0.1:37815 got new rank 3\n"
     ]
    },
    {
     "name": "stdout",
     "output_type": "stream",
     "text": [
      "44.16% complete | Training ['TE_brand_target', 'price', 'relative_price_product', 'ts_hour', 'cat_2', 'relative_price_category', 'TE_cat_2_target'].\r"
     ]
    },
    {
     "name": "stderr",
     "output_type": "stream",
     "text": [
      "[18:26:48] task [xgboost.dask-0]:tcp://127.0.0.1:46457 got new rank 0\n",
      "[18:26:48] task [xgboost.dask-1]:tcp://127.0.0.1:37723 got new rank 1\n",
      "[18:26:48] task [xgboost.dask-2]:tcp://127.0.0.1:37887 got new rank 2\n",
      "[18:26:48] task [xgboost.dask-3]:tcp://127.0.0.1:37815 got new rank 3\n"
     ]
    },
    {
     "name": "stdout",
     "output_type": "stream",
     "text": [
      "44.44% complete | Training ['TE_brand_target', 'price', 'relative_price_product', 'ts_hour', 'cat_2', 'relative_price_category', 'cat_1_count'].\r"
     ]
    },
    {
     "name": "stderr",
     "output_type": "stream",
     "text": [
      "[18:26:50] task [xgboost.dask-0]:tcp://127.0.0.1:46457 got new rank 0\n",
      "[18:26:50] task [xgboost.dask-1]:tcp://127.0.0.1:37723 got new rank 1\n",
      "[18:26:50] task [xgboost.dask-2]:tcp://127.0.0.1:37887 got new rank 2\n",
      "[18:26:50] task [xgboost.dask-3]:tcp://127.0.0.1:37815 got new rank 3\n"
     ]
    },
    {
     "name": "stdout",
     "output_type": "stream",
     "text": [
      "44.73% complete | Training ['TE_brand_target', 'price', 'relative_price_product', 'ts_hour', 'cat_2', 'relative_price_category', 'TE_cat_0_target'].\r"
     ]
    },
    {
     "name": "stderr",
     "output_type": "stream",
     "text": [
      "[18:26:52] task [xgboost.dask-0]:tcp://127.0.0.1:46457 got new rank 0\n",
      "[18:26:52] task [xgboost.dask-1]:tcp://127.0.0.1:37723 got new rank 1\n",
      "[18:26:52] task [xgboost.dask-2]:tcp://127.0.0.1:37887 got new rank 2\n",
      "[18:26:52] task [xgboost.dask-3]:tcp://127.0.0.1:37815 got new rank 3\n"
     ]
    },
    {
     "name": "stdout",
     "output_type": "stream",
     "text": [
      "45.01% complete | Training ['TE_brand_target', 'price', 'relative_price_product', 'ts_hour', 'cat_2', 'relative_price_category', 'TE_cat_1_target'].\r"
     ]
    },
    {
     "name": "stderr",
     "output_type": "stream",
     "text": [
      "[18:26:55] task [xgboost.dask-0]:tcp://127.0.0.1:46457 got new rank 0\n",
      "[18:26:55] task [xgboost.dask-1]:tcp://127.0.0.1:37723 got new rank 1\n",
      "[18:26:55] task [xgboost.dask-2]:tcp://127.0.0.1:37887 got new rank 2\n",
      "[18:26:55] task [xgboost.dask-3]:tcp://127.0.0.1:37815 got new rank 3\n"
     ]
    },
    {
     "name": "stdout",
     "output_type": "stream",
     "text": [
      "45.3% complete | Training ['TE_brand_target', 'price', 'relative_price_product', 'ts_hour', 'cat_2', 'relative_price_category', 'cat_1'].\r"
     ]
    },
    {
     "name": "stderr",
     "output_type": "stream",
     "text": [
      "[18:26:57] task [xgboost.dask-0]:tcp://127.0.0.1:46457 got new rank 0\n",
      "[18:26:57] task [xgboost.dask-1]:tcp://127.0.0.1:37723 got new rank 1\n",
      "[18:26:57] task [xgboost.dask-2]:tcp://127.0.0.1:37887 got new rank 2\n",
      "[18:26:57] task [xgboost.dask-3]:tcp://127.0.0.1:37815 got new rank 3\n"
     ]
    },
    {
     "name": "stdout",
     "output_type": "stream",
     "text": [
      "45.58% complete | Training ['TE_brand_target', 'price', 'relative_price_product', 'ts_hour', 'cat_2', 'relative_price_category', 'TE_cat_3_target'].\r"
     ]
    },
    {
     "name": "stderr",
     "output_type": "stream",
     "text": [
      "[18:27:00] task [xgboost.dask-0]:tcp://127.0.0.1:46457 got new rank 0\n",
      "[18:27:00] task [xgboost.dask-1]:tcp://127.0.0.1:37723 got new rank 1\n",
      "[18:27:00] task [xgboost.dask-2]:tcp://127.0.0.1:37887 got new rank 2\n",
      "[18:27:00] task [xgboost.dask-3]:tcp://127.0.0.1:37815 got new rank 3\n"
     ]
    },
    {
     "name": "stdout",
     "output_type": "stream",
     "text": [
      "45.87% complete | Training ['TE_brand_target', 'price', 'relative_price_product', 'ts_hour', 'cat_2', 'relative_price_category', 'ts_weekday', 'cat_3'].\r"
     ]
    },
    {
     "name": "stderr",
     "output_type": "stream",
     "text": [
      "[18:27:02] task [xgboost.dask-0]:tcp://127.0.0.1:46457 got new rank 0\n",
      "[18:27:02] task [xgboost.dask-1]:tcp://127.0.0.1:37723 got new rank 1\n",
      "[18:27:02] task [xgboost.dask-2]:tcp://127.0.0.1:37887 got new rank 2\n",
      "[18:27:02] task [xgboost.dask-3]:tcp://127.0.0.1:37815 got new rank 3\n"
     ]
    },
    {
     "name": "stdout",
     "output_type": "stream",
     "text": [
      "46.15% complete | Training ['TE_brand_target', 'price', 'relative_price_product', 'ts_hour', 'cat_2', 'relative_price_category', 'ts_weekday', 'cat_3_count'].\r"
     ]
    },
    {
     "name": "stderr",
     "output_type": "stream",
     "text": [
      "[18:27:04] task [xgboost.dask-0]:tcp://127.0.0.1:46457 got new rank 0\n",
      "[18:27:04] task [xgboost.dask-1]:tcp://127.0.0.1:37723 got new rank 1\n",
      "[18:27:04] task [xgboost.dask-2]:tcp://127.0.0.1:37887 got new rank 2\n",
      "[18:27:04] task [xgboost.dask-3]:tcp://127.0.0.1:37815 got new rank 3\n"
     ]
    },
    {
     "name": "stdout",
     "output_type": "stream",
     "text": [
      "46.44% complete | Training ['TE_brand_target', 'price', 'relative_price_product', 'ts_hour', 'cat_2', 'relative_price_category', 'ts_weekday', 'cat_0'].\r"
     ]
    },
    {
     "name": "stderr",
     "output_type": "stream",
     "text": [
      "[18:27:07] task [xgboost.dask-0]:tcp://127.0.0.1:46457 got new rank 0\n",
      "[18:27:07] task [xgboost.dask-1]:tcp://127.0.0.1:37723 got new rank 1\n",
      "[18:27:07] task [xgboost.dask-2]:tcp://127.0.0.1:37887 got new rank 2\n",
      "[18:27:07] task [xgboost.dask-3]:tcp://127.0.0.1:37815 got new rank 3\n"
     ]
    },
    {
     "name": "stdout",
     "output_type": "stream",
     "text": [
      "46.72% complete | Training ['TE_brand_target', 'price', 'relative_price_product', 'ts_hour', 'cat_2', 'relative_price_category', 'ts_weekday', 'brand_count'].\r"
     ]
    },
    {
     "name": "stderr",
     "output_type": "stream",
     "text": [
      "[18:27:09] task [xgboost.dask-0]:tcp://127.0.0.1:46457 got new rank 0\n",
      "[18:27:09] task [xgboost.dask-1]:tcp://127.0.0.1:37723 got new rank 1\n",
      "[18:27:09] task [xgboost.dask-2]:tcp://127.0.0.1:37887 got new rank 2\n",
      "[18:27:09] task [xgboost.dask-3]:tcp://127.0.0.1:37815 got new rank 3\n"
     ]
    },
    {
     "name": "stdout",
     "output_type": "stream",
     "text": [
      "47.01% complete | Training ['TE_brand_target', 'price', 'relative_price_product', 'ts_hour', 'cat_2', 'relative_price_category', 'ts_weekday', 'brand_target_sum'].\r"
     ]
    },
    {
     "name": "stderr",
     "output_type": "stream",
     "text": [
      "[18:27:12] task [xgboost.dask-0]:tcp://127.0.0.1:46457 got new rank 0\n",
      "[18:27:12] task [xgboost.dask-1]:tcp://127.0.0.1:37723 got new rank 1\n",
      "[18:27:12] task [xgboost.dask-2]:tcp://127.0.0.1:37887 got new rank 2\n",
      "[18:27:12] task [xgboost.dask-3]:tcp://127.0.0.1:37815 got new rank 3\n"
     ]
    },
    {
     "name": "stdout",
     "output_type": "stream",
     "text": [
      "47.29% complete | Training ['TE_brand_target', 'price', 'relative_price_product', 'ts_hour', 'cat_2', 'relative_price_category', 'ts_weekday', 'cat_0_target_sum'].\r"
     ]
    },
    {
     "name": "stderr",
     "output_type": "stream",
     "text": [
      "[18:27:14] task [xgboost.dask-0]:tcp://127.0.0.1:46457 got new rank 0\n",
      "[18:27:14] task [xgboost.dask-1]:tcp://127.0.0.1:37723 got new rank 1\n",
      "[18:27:14] task [xgboost.dask-2]:tcp://127.0.0.1:37887 got new rank 2\n",
      "[18:27:14] task [xgboost.dask-3]:tcp://127.0.0.1:37815 got new rank 3\n"
     ]
    },
    {
     "name": "stdout",
     "output_type": "stream",
     "text": [
      "47.58% complete | Training ['TE_brand_target', 'price', 'relative_price_product', 'ts_hour', 'cat_2', 'relative_price_category', 'ts_weekday', 'cat_2_count'].\r"
     ]
    },
    {
     "name": "stderr",
     "output_type": "stream",
     "text": [
      "[18:27:17] task [xgboost.dask-0]:tcp://127.0.0.1:46457 got new rank 0\n",
      "[18:27:17] task [xgboost.dask-1]:tcp://127.0.0.1:37723 got new rank 1\n",
      "[18:27:17] task [xgboost.dask-2]:tcp://127.0.0.1:37887 got new rank 2\n",
      "[18:27:17] task [xgboost.dask-3]:tcp://127.0.0.1:37815 got new rank 3\n"
     ]
    },
    {
     "name": "stdout",
     "output_type": "stream",
     "text": [
      "47.86% complete | Training ['TE_brand_target', 'price', 'relative_price_product', 'ts_hour', 'cat_2', 'relative_price_category', 'ts_weekday', 'cat_2_target_sum'].\r"
     ]
    },
    {
     "name": "stderr",
     "output_type": "stream",
     "text": [
      "[18:27:19] task [xgboost.dask-0]:tcp://127.0.0.1:46457 got new rank 0\n",
      "[18:27:19] task [xgboost.dask-1]:tcp://127.0.0.1:37723 got new rank 1\n",
      "[18:27:19] task [xgboost.dask-2]:tcp://127.0.0.1:37887 got new rank 2\n",
      "[18:27:19] task [xgboost.dask-3]:tcp://127.0.0.1:37815 got new rank 3\n"
     ]
    },
    {
     "name": "stdout",
     "output_type": "stream",
     "text": [
      "48.15% complete | Training ['TE_brand_target', 'price', 'relative_price_product', 'ts_hour', 'cat_2', 'relative_price_category', 'ts_weekday', 'cat_3_target_sum'].\r"
     ]
    },
    {
     "name": "stderr",
     "output_type": "stream",
     "text": [
      "[18:27:21] task [xgboost.dask-0]:tcp://127.0.0.1:46457 got new rank 0\n",
      "[18:27:21] task [xgboost.dask-1]:tcp://127.0.0.1:37723 got new rank 1\n",
      "[18:27:21] task [xgboost.dask-2]:tcp://127.0.0.1:37887 got new rank 2\n",
      "[18:27:21] task [xgboost.dask-3]:tcp://127.0.0.1:37815 got new rank 3\n"
     ]
    },
    {
     "name": "stdout",
     "output_type": "stream",
     "text": [
      "48.43% complete | Training ['TE_brand_target', 'price', 'relative_price_product', 'ts_hour', 'cat_2', 'relative_price_category', 'ts_weekday', 'cat_1_target_sum'].\r"
     ]
    },
    {
     "name": "stderr",
     "output_type": "stream",
     "text": [
      "[18:27:24] task [xgboost.dask-0]:tcp://127.0.0.1:46457 got new rank 0\n",
      "[18:27:24] task [xgboost.dask-1]:tcp://127.0.0.1:37723 got new rank 1\n",
      "[18:27:24] task [xgboost.dask-2]:tcp://127.0.0.1:37887 got new rank 2\n",
      "[18:27:24] task [xgboost.dask-3]:tcp://127.0.0.1:37815 got new rank 3\n"
     ]
    },
    {
     "name": "stdout",
     "output_type": "stream",
     "text": [
      "48.72% complete | Training ['TE_brand_target', 'price', 'relative_price_product', 'ts_hour', 'cat_2', 'relative_price_category', 'ts_weekday', 'brand'].\r"
     ]
    },
    {
     "name": "stderr",
     "output_type": "stream",
     "text": [
      "[18:27:26] task [xgboost.dask-0]:tcp://127.0.0.1:46457 got new rank 0\n",
      "[18:27:26] task [xgboost.dask-1]:tcp://127.0.0.1:37723 got new rank 1\n",
      "[18:27:26] task [xgboost.dask-2]:tcp://127.0.0.1:37887 got new rank 2\n",
      "[18:27:26] task [xgboost.dask-3]:tcp://127.0.0.1:37815 got new rank 3\n"
     ]
    },
    {
     "name": "stdout",
     "output_type": "stream",
     "text": [
      "49.0% complete | Training ['TE_brand_target', 'price', 'relative_price_product', 'ts_hour', 'cat_2', 'relative_price_category', 'ts_weekday', 'ts_minute'].\r"
     ]
    },
    {
     "name": "stderr",
     "output_type": "stream",
     "text": [
      "[18:27:29] task [xgboost.dask-0]:tcp://127.0.0.1:46457 got new rank 0\n",
      "[18:27:29] task [xgboost.dask-1]:tcp://127.0.0.1:37723 got new rank 1\n",
      "[18:27:29] task [xgboost.dask-2]:tcp://127.0.0.1:37887 got new rank 2\n",
      "[18:27:29] task [xgboost.dask-3]:tcp://127.0.0.1:37815 got new rank 3\n"
     ]
    },
    {
     "name": "stdout",
     "output_type": "stream",
     "text": [
      "49.29% complete | Training ['TE_brand_target', 'price', 'relative_price_product', 'ts_hour', 'cat_2', 'relative_price_category', 'ts_weekday', 'cat_0_count'].\r"
     ]
    },
    {
     "name": "stderr",
     "output_type": "stream",
     "text": [
      "[18:27:31] task [xgboost.dask-0]:tcp://127.0.0.1:46457 got new rank 0\n",
      "[18:27:31] task [xgboost.dask-1]:tcp://127.0.0.1:37723 got new rank 1\n",
      "[18:27:31] task [xgboost.dask-2]:tcp://127.0.0.1:37887 got new rank 2\n",
      "[18:27:31] task [xgboost.dask-3]:tcp://127.0.0.1:37815 got new rank 3\n"
     ]
    },
    {
     "name": "stdout",
     "output_type": "stream",
     "text": [
      "49.57% complete | Training ['TE_brand_target', 'price', 'relative_price_product', 'ts_hour', 'cat_2', 'relative_price_category', 'ts_weekday', 'TE_cat_2_target'].\r"
     ]
    },
    {
     "name": "stderr",
     "output_type": "stream",
     "text": [
      "[18:27:34] task [xgboost.dask-0]:tcp://127.0.0.1:46457 got new rank 0\n",
      "[18:27:34] task [xgboost.dask-1]:tcp://127.0.0.1:37723 got new rank 1\n",
      "[18:27:34] task [xgboost.dask-2]:tcp://127.0.0.1:37887 got new rank 2\n",
      "[18:27:34] task [xgboost.dask-3]:tcp://127.0.0.1:37815 got new rank 3\n"
     ]
    },
    {
     "name": "stdout",
     "output_type": "stream",
     "text": [
      "49.86% complete | Training ['TE_brand_target', 'price', 'relative_price_product', 'ts_hour', 'cat_2', 'relative_price_category', 'ts_weekday', 'cat_1_count'].\r"
     ]
    },
    {
     "name": "stderr",
     "output_type": "stream",
     "text": [
      "[18:27:36] task [xgboost.dask-0]:tcp://127.0.0.1:46457 got new rank 0\n",
      "[18:27:36] task [xgboost.dask-1]:tcp://127.0.0.1:37723 got new rank 1\n",
      "[18:27:36] task [xgboost.dask-2]:tcp://127.0.0.1:37887 got new rank 2\n",
      "[18:27:36] task [xgboost.dask-3]:tcp://127.0.0.1:37815 got new rank 3\n"
     ]
    },
    {
     "name": "stdout",
     "output_type": "stream",
     "text": [
      "50.14% complete | Training ['TE_brand_target', 'price', 'relative_price_product', 'ts_hour', 'cat_2', 'relative_price_category', 'ts_weekday', 'TE_cat_0_target'].\r"
     ]
    },
    {
     "name": "stderr",
     "output_type": "stream",
     "text": [
      "[18:27:39] task [xgboost.dask-0]:tcp://127.0.0.1:46457 got new rank 0\n",
      "[18:27:39] task [xgboost.dask-1]:tcp://127.0.0.1:37723 got new rank 1\n",
      "[18:27:39] task [xgboost.dask-2]:tcp://127.0.0.1:37887 got new rank 2\n",
      "[18:27:39] task [xgboost.dask-3]:tcp://127.0.0.1:37815 got new rank 3\n"
     ]
    },
    {
     "name": "stdout",
     "output_type": "stream",
     "text": [
      "50.43% complete | Training ['TE_brand_target', 'price', 'relative_price_product', 'ts_hour', 'cat_2', 'relative_price_category', 'ts_weekday', 'TE_cat_1_target'].\r"
     ]
    },
    {
     "name": "stderr",
     "output_type": "stream",
     "text": [
      "[18:27:41] task [xgboost.dask-0]:tcp://127.0.0.1:46457 got new rank 0\n",
      "[18:27:41] task [xgboost.dask-1]:tcp://127.0.0.1:37723 got new rank 1\n",
      "[18:27:41] task [xgboost.dask-2]:tcp://127.0.0.1:37887 got new rank 2\n",
      "[18:27:41] task [xgboost.dask-3]:tcp://127.0.0.1:37815 got new rank 3\n"
     ]
    },
    {
     "name": "stdout",
     "output_type": "stream",
     "text": [
      "50.71% complete | Training ['TE_brand_target', 'price', 'relative_price_product', 'ts_hour', 'cat_2', 'relative_price_category', 'ts_weekday', 'cat_1'].\r"
     ]
    },
    {
     "name": "stderr",
     "output_type": "stream",
     "text": [
      "[18:27:43] task [xgboost.dask-0]:tcp://127.0.0.1:46457 got new rank 0\n",
      "[18:27:43] task [xgboost.dask-1]:tcp://127.0.0.1:37723 got new rank 1\n",
      "[18:27:43] task [xgboost.dask-2]:tcp://127.0.0.1:37887 got new rank 2\n",
      "[18:27:43] task [xgboost.dask-3]:tcp://127.0.0.1:37815 got new rank 3\n"
     ]
    },
    {
     "name": "stdout",
     "output_type": "stream",
     "text": [
      "51.0% complete | Training ['TE_brand_target', 'price', 'relative_price_product', 'ts_hour', 'cat_2', 'relative_price_category', 'ts_weekday', 'TE_cat_3_target'].\r"
     ]
    },
    {
     "name": "stderr",
     "output_type": "stream",
     "text": [
      "[18:27:46] task [xgboost.dask-0]:tcp://127.0.0.1:46457 got new rank 0\n",
      "[18:27:46] task [xgboost.dask-1]:tcp://127.0.0.1:37723 got new rank 1\n",
      "[18:27:46] task [xgboost.dask-2]:tcp://127.0.0.1:37887 got new rank 2\n",
      "[18:27:46] task [xgboost.dask-3]:tcp://127.0.0.1:37815 got new rank 3\n"
     ]
    },
    {
     "name": "stdout",
     "output_type": "stream",
     "text": [
      "51.28% complete | Training ['TE_brand_target', 'price', 'relative_price_product', 'ts_hour', 'cat_2', 'relative_price_category', 'ts_weekday', 'brand', 'cat_3_target_sum'].\r"
     ]
    },
    {
     "name": "stderr",
     "output_type": "stream",
     "text": [
      "[18:27:48] task [xgboost.dask-0]:tcp://127.0.0.1:46457 got new rank 0\n",
      "[18:27:48] task [xgboost.dask-1]:tcp://127.0.0.1:37723 got new rank 1\n",
      "[18:27:48] task [xgboost.dask-2]:tcp://127.0.0.1:37887 got new rank 2\n",
      "[18:27:48] task [xgboost.dask-3]:tcp://127.0.0.1:37815 got new rank 3\n"
     ]
    },
    {
     "name": "stdout",
     "output_type": "stream",
     "text": [
      "51.57% complete | Training ['TE_brand_target', 'price', 'relative_price_product', 'ts_hour', 'cat_2', 'relative_price_category', 'ts_weekday', 'brand', 'cat_0_target_sum'].\r"
     ]
    },
    {
     "name": "stderr",
     "output_type": "stream",
     "text": [
      "[18:27:51] task [xgboost.dask-0]:tcp://127.0.0.1:46457 got new rank 0\n",
      "[18:27:51] task [xgboost.dask-1]:tcp://127.0.0.1:37723 got new rank 1\n",
      "[18:27:51] task [xgboost.dask-2]:tcp://127.0.0.1:37887 got new rank 2\n",
      "[18:27:51] task [xgboost.dask-3]:tcp://127.0.0.1:37815 got new rank 3\n"
     ]
    },
    {
     "name": "stdout",
     "output_type": "stream",
     "text": [
      "51.85% complete | Training ['TE_brand_target', 'price', 'relative_price_product', 'ts_hour', 'cat_2', 'relative_price_category', 'ts_weekday', 'brand', 'ts_minute'].\r"
     ]
    },
    {
     "name": "stderr",
     "output_type": "stream",
     "text": [
      "[18:27:53] task [xgboost.dask-0]:tcp://127.0.0.1:46457 got new rank 0\n",
      "[18:27:53] task [xgboost.dask-1]:tcp://127.0.0.1:37723 got new rank 1\n",
      "[18:27:53] task [xgboost.dask-2]:tcp://127.0.0.1:37887 got new rank 2\n",
      "[18:27:53] task [xgboost.dask-3]:tcp://127.0.0.1:37815 got new rank 3\n"
     ]
    },
    {
     "name": "stdout",
     "output_type": "stream",
     "text": [
      "52.14% complete | Training ['TE_brand_target', 'price', 'relative_price_product', 'ts_hour', 'cat_2', 'relative_price_category', 'ts_weekday', 'brand', 'cat_0_count'].\r"
     ]
    },
    {
     "name": "stderr",
     "output_type": "stream",
     "text": [
      "[18:27:56] task [xgboost.dask-0]:tcp://127.0.0.1:46457 got new rank 0\n",
      "[18:27:56] task [xgboost.dask-1]:tcp://127.0.0.1:37723 got new rank 1\n",
      "[18:27:56] task [xgboost.dask-2]:tcp://127.0.0.1:37887 got new rank 2\n",
      "[18:27:56] task [xgboost.dask-3]:tcp://127.0.0.1:37815 got new rank 3\n"
     ]
    },
    {
     "name": "stdout",
     "output_type": "stream",
     "text": [
      "52.42% complete | Training ['TE_brand_target', 'price', 'relative_price_product', 'ts_hour', 'cat_2', 'relative_price_category', 'ts_weekday', 'brand', 'TE_cat_1_target'].\r"
     ]
    },
    {
     "name": "stderr",
     "output_type": "stream",
     "text": [
      "[18:27:58] task [xgboost.dask-0]:tcp://127.0.0.1:46457 got new rank 0\n",
      "[18:27:58] task [xgboost.dask-1]:tcp://127.0.0.1:37723 got new rank 1\n",
      "[18:27:58] task [xgboost.dask-2]:tcp://127.0.0.1:37887 got new rank 2\n",
      "[18:27:58] task [xgboost.dask-3]:tcp://127.0.0.1:37815 got new rank 3\n"
     ]
    },
    {
     "name": "stdout",
     "output_type": "stream",
     "text": [
      "52.71% complete | Training ['TE_brand_target', 'price', 'relative_price_product', 'ts_hour', 'cat_2', 'relative_price_category', 'ts_weekday', 'brand', 'cat_3'].\r"
     ]
    },
    {
     "name": "stderr",
     "output_type": "stream",
     "text": [
      "[18:28:01] task [xgboost.dask-0]:tcp://127.0.0.1:46457 got new rank 0\n",
      "[18:28:01] task [xgboost.dask-1]:tcp://127.0.0.1:37723 got new rank 1\n",
      "[18:28:01] task [xgboost.dask-2]:tcp://127.0.0.1:37887 got new rank 2\n",
      "[18:28:01] task [xgboost.dask-3]:tcp://127.0.0.1:37815 got new rank 3\n"
     ]
    },
    {
     "name": "stdout",
     "output_type": "stream",
     "text": [
      "52.99% complete | Training ['TE_brand_target', 'price', 'relative_price_product', 'ts_hour', 'cat_2', 'relative_price_category', 'ts_weekday', 'brand', 'cat_1_target_sum'].\r"
     ]
    },
    {
     "name": "stderr",
     "output_type": "stream",
     "text": [
      "[18:28:03] task [xgboost.dask-0]:tcp://127.0.0.1:46457 got new rank 0\n",
      "[18:28:03] task [xgboost.dask-1]:tcp://127.0.0.1:37723 got new rank 1\n",
      "[18:28:03] task [xgboost.dask-2]:tcp://127.0.0.1:37887 got new rank 2\n",
      "[18:28:03] task [xgboost.dask-3]:tcp://127.0.0.1:37815 got new rank 3\n"
     ]
    },
    {
     "name": "stdout",
     "output_type": "stream",
     "text": [
      "53.28% complete | Training ['TE_brand_target', 'price', 'relative_price_product', 'ts_hour', 'cat_2', 'relative_price_category', 'ts_weekday', 'brand', 'TE_cat_2_target'].\r"
     ]
    },
    {
     "name": "stderr",
     "output_type": "stream",
     "text": [
      "[18:28:06] task [xgboost.dask-0]:tcp://127.0.0.1:46457 got new rank 0\n",
      "[18:28:06] task [xgboost.dask-1]:tcp://127.0.0.1:37723 got new rank 1\n",
      "[18:28:06] task [xgboost.dask-2]:tcp://127.0.0.1:37887 got new rank 2\n",
      "[18:28:06] task [xgboost.dask-3]:tcp://127.0.0.1:37815 got new rank 3\n"
     ]
    },
    {
     "name": "stdout",
     "output_type": "stream",
     "text": [
      "53.56% complete | Training ['TE_brand_target', 'price', 'relative_price_product', 'ts_hour', 'cat_2', 'relative_price_category', 'ts_weekday', 'brand', 'cat_1_count'].\r"
     ]
    },
    {
     "name": "stderr",
     "output_type": "stream",
     "text": [
      "[18:28:08] task [xgboost.dask-0]:tcp://127.0.0.1:46457 got new rank 0\n",
      "[18:28:08] task [xgboost.dask-1]:tcp://127.0.0.1:37723 got new rank 1\n",
      "[18:28:08] task [xgboost.dask-2]:tcp://127.0.0.1:37887 got new rank 2\n",
      "[18:28:08] task [xgboost.dask-3]:tcp://127.0.0.1:37815 got new rank 3\n"
     ]
    },
    {
     "name": "stdout",
     "output_type": "stream",
     "text": [
      "53.85% complete | Training ['TE_brand_target', 'price', 'relative_price_product', 'ts_hour', 'cat_2', 'relative_price_category', 'ts_weekday', 'brand', 'cat_3_count'].\r"
     ]
    },
    {
     "name": "stderr",
     "output_type": "stream",
     "text": [
      "[18:28:11] task [xgboost.dask-0]:tcp://127.0.0.1:46457 got new rank 0\n",
      "[18:28:11] task [xgboost.dask-1]:tcp://127.0.0.1:37723 got new rank 1\n",
      "[18:28:11] task [xgboost.dask-2]:tcp://127.0.0.1:37887 got new rank 2\n",
      "[18:28:11] task [xgboost.dask-3]:tcp://127.0.0.1:37815 got new rank 3\n"
     ]
    },
    {
     "name": "stdout",
     "output_type": "stream",
     "text": [
      "54.13% complete | Training ['TE_brand_target', 'price', 'relative_price_product', 'ts_hour', 'cat_2', 'relative_price_category', 'ts_weekday', 'brand', 'TE_cat_3_target'].\r"
     ]
    },
    {
     "name": "stderr",
     "output_type": "stream",
     "text": [
      "[18:28:13] task [xgboost.dask-0]:tcp://127.0.0.1:46457 got new rank 0\n",
      "[18:28:13] task [xgboost.dask-1]:tcp://127.0.0.1:37723 got new rank 1\n",
      "[18:28:13] task [xgboost.dask-2]:tcp://127.0.0.1:37887 got new rank 2\n",
      "[18:28:13] task [xgboost.dask-3]:tcp://127.0.0.1:37815 got new rank 3\n"
     ]
    },
    {
     "name": "stdout",
     "output_type": "stream",
     "text": [
      "54.42% complete | Training ['TE_brand_target', 'price', 'relative_price_product', 'ts_hour', 'cat_2', 'relative_price_category', 'ts_weekday', 'brand', 'TE_cat_0_target'].\r"
     ]
    },
    {
     "name": "stderr",
     "output_type": "stream",
     "text": [
      "[18:28:16] task [xgboost.dask-0]:tcp://127.0.0.1:46457 got new rank 0\n",
      "[18:28:16] task [xgboost.dask-1]:tcp://127.0.0.1:37723 got new rank 1\n",
      "[18:28:16] task [xgboost.dask-2]:tcp://127.0.0.1:37887 got new rank 2\n",
      "[18:28:16] task [xgboost.dask-3]:tcp://127.0.0.1:37815 got new rank 3\n"
     ]
    },
    {
     "name": "stdout",
     "output_type": "stream",
     "text": [
      "54.7% complete | Training ['TE_brand_target', 'price', 'relative_price_product', 'ts_hour', 'cat_2', 'relative_price_category', 'ts_weekday', 'brand', 'cat_1'].\r"
     ]
    },
    {
     "name": "stderr",
     "output_type": "stream",
     "text": [
      "[18:28:18] task [xgboost.dask-0]:tcp://127.0.0.1:46457 got new rank 0\n",
      "[18:28:18] task [xgboost.dask-1]:tcp://127.0.0.1:37723 got new rank 1\n",
      "[18:28:18] task [xgboost.dask-2]:tcp://127.0.0.1:37887 got new rank 2\n",
      "[18:28:18] task [xgboost.dask-3]:tcp://127.0.0.1:37815 got new rank 3\n"
     ]
    },
    {
     "name": "stdout",
     "output_type": "stream",
     "text": [
      "54.99% complete | Training ['TE_brand_target', 'price', 'relative_price_product', 'ts_hour', 'cat_2', 'relative_price_category', 'ts_weekday', 'brand', 'cat_0'].\r"
     ]
    },
    {
     "name": "stderr",
     "output_type": "stream",
     "text": [
      "[18:28:21] task [xgboost.dask-0]:tcp://127.0.0.1:46457 got new rank 0\n",
      "[18:28:21] task [xgboost.dask-1]:tcp://127.0.0.1:37723 got new rank 1\n",
      "[18:28:21] task [xgboost.dask-2]:tcp://127.0.0.1:37887 got new rank 2\n",
      "[18:28:21] task [xgboost.dask-3]:tcp://127.0.0.1:37815 got new rank 3\n"
     ]
    },
    {
     "name": "stdout",
     "output_type": "stream",
     "text": [
      "55.27% complete | Training ['TE_brand_target', 'price', 'relative_price_product', 'ts_hour', 'cat_2', 'relative_price_category', 'ts_weekday', 'brand', 'brand_count'].\r"
     ]
    },
    {
     "name": "stderr",
     "output_type": "stream",
     "text": [
      "[18:28:23] task [xgboost.dask-0]:tcp://127.0.0.1:46457 got new rank 0\n",
      "[18:28:23] task [xgboost.dask-1]:tcp://127.0.0.1:37723 got new rank 1\n",
      "[18:28:23] task [xgboost.dask-2]:tcp://127.0.0.1:37887 got new rank 2\n",
      "[18:28:23] task [xgboost.dask-3]:tcp://127.0.0.1:37815 got new rank 3\n"
     ]
    },
    {
     "name": "stdout",
     "output_type": "stream",
     "text": [
      "55.56% complete | Training ['TE_brand_target', 'price', 'relative_price_product', 'ts_hour', 'cat_2', 'relative_price_category', 'ts_weekday', 'brand', 'brand_target_sum'].\r"
     ]
    },
    {
     "name": "stderr",
     "output_type": "stream",
     "text": [
      "[18:28:26] task [xgboost.dask-0]:tcp://127.0.0.1:46457 got new rank 0\n",
      "[18:28:26] task [xgboost.dask-1]:tcp://127.0.0.1:37723 got new rank 1\n",
      "[18:28:26] task [xgboost.dask-2]:tcp://127.0.0.1:37887 got new rank 2\n",
      "[18:28:26] task [xgboost.dask-3]:tcp://127.0.0.1:37815 got new rank 3\n"
     ]
    },
    {
     "name": "stdout",
     "output_type": "stream",
     "text": [
      "55.84% complete | Training ['TE_brand_target', 'price', 'relative_price_product', 'ts_hour', 'cat_2', 'relative_price_category', 'ts_weekday', 'brand', 'cat_2_count'].\r"
     ]
    },
    {
     "name": "stderr",
     "output_type": "stream",
     "text": [
      "[18:28:28] task [xgboost.dask-0]:tcp://127.0.0.1:46457 got new rank 0\n",
      "[18:28:28] task [xgboost.dask-1]:tcp://127.0.0.1:37723 got new rank 1\n",
      "[18:28:28] task [xgboost.dask-2]:tcp://127.0.0.1:37887 got new rank 2\n",
      "[18:28:28] task [xgboost.dask-3]:tcp://127.0.0.1:37815 got new rank 3\n"
     ]
    },
    {
     "name": "stdout",
     "output_type": "stream",
     "text": [
      "56.13% complete | Training ['TE_brand_target', 'price', 'relative_price_product', 'ts_hour', 'cat_2', 'relative_price_category', 'ts_weekday', 'brand', 'cat_2_target_sum'].\r"
     ]
    },
    {
     "name": "stderr",
     "output_type": "stream",
     "text": [
      "[18:28:31] task [xgboost.dask-0]:tcp://127.0.0.1:46457 got new rank 0\n",
      "[18:28:31] task [xgboost.dask-1]:tcp://127.0.0.1:37723 got new rank 1\n",
      "[18:28:31] task [xgboost.dask-2]:tcp://127.0.0.1:37887 got new rank 2\n",
      "[18:28:31] task [xgboost.dask-3]:tcp://127.0.0.1:37815 got new rank 3\n"
     ]
    },
    {
     "name": "stdout",
     "output_type": "stream",
     "text": [
      "56.41% complete | Training ['TE_brand_target', 'price', 'relative_price_product', 'ts_hour', 'cat_2', 'relative_price_category', 'ts_weekday', 'brand', 'cat_0', 'cat_3_target_sum'].\r"
     ]
    },
    {
     "name": "stderr",
     "output_type": "stream",
     "text": [
      "[18:28:33] task [xgboost.dask-0]:tcp://127.0.0.1:46457 got new rank 0\n",
      "[18:28:33] task [xgboost.dask-1]:tcp://127.0.0.1:37723 got new rank 1\n",
      "[18:28:33] task [xgboost.dask-2]:tcp://127.0.0.1:37887 got new rank 2\n",
      "[18:28:33] task [xgboost.dask-3]:tcp://127.0.0.1:37815 got new rank 3\n"
     ]
    },
    {
     "name": "stdout",
     "output_type": "stream",
     "text": [
      "56.7% complete | Training ['TE_brand_target', 'price', 'relative_price_product', 'ts_hour', 'cat_2', 'relative_price_category', 'ts_weekday', 'brand', 'cat_0', 'cat_0_target_sum'].\r"
     ]
    },
    {
     "name": "stderr",
     "output_type": "stream",
     "text": [
      "[18:28:36] task [xgboost.dask-0]:tcp://127.0.0.1:46457 got new rank 0\n",
      "[18:28:36] task [xgboost.dask-1]:tcp://127.0.0.1:37723 got new rank 1\n",
      "[18:28:36] task [xgboost.dask-2]:tcp://127.0.0.1:37887 got new rank 2\n",
      "[18:28:36] task [xgboost.dask-3]:tcp://127.0.0.1:37815 got new rank 3\n"
     ]
    },
    {
     "name": "stdout",
     "output_type": "stream",
     "text": [
      "56.98% complete | Training ['TE_brand_target', 'price', 'relative_price_product', 'ts_hour', 'cat_2', 'relative_price_category', 'ts_weekday', 'brand', 'cat_0', 'ts_minute'].\r"
     ]
    },
    {
     "name": "stderr",
     "output_type": "stream",
     "text": [
      "[18:28:38] task [xgboost.dask-0]:tcp://127.0.0.1:46457 got new rank 0\n",
      "[18:28:38] task [xgboost.dask-1]:tcp://127.0.0.1:37723 got new rank 1\n",
      "[18:28:38] task [xgboost.dask-2]:tcp://127.0.0.1:37887 got new rank 2\n",
      "[18:28:38] task [xgboost.dask-3]:tcp://127.0.0.1:37815 got new rank 3\n"
     ]
    },
    {
     "name": "stdout",
     "output_type": "stream",
     "text": [
      "57.26% complete | Training ['TE_brand_target', 'price', 'relative_price_product', 'ts_hour', 'cat_2', 'relative_price_category', 'ts_weekday', 'brand', 'cat_0', 'cat_0_count'].\r"
     ]
    },
    {
     "name": "stderr",
     "output_type": "stream",
     "text": [
      "[18:28:41] task [xgboost.dask-0]:tcp://127.0.0.1:46457 got new rank 0\n",
      "[18:28:41] task [xgboost.dask-1]:tcp://127.0.0.1:37723 got new rank 1\n",
      "[18:28:41] task [xgboost.dask-2]:tcp://127.0.0.1:37887 got new rank 2\n",
      "[18:28:41] task [xgboost.dask-3]:tcp://127.0.0.1:37815 got new rank 3\n"
     ]
    },
    {
     "name": "stdout",
     "output_type": "stream",
     "text": [
      "57.55% complete | Training ['TE_brand_target', 'price', 'relative_price_product', 'ts_hour', 'cat_2', 'relative_price_category', 'ts_weekday', 'brand', 'cat_0', 'TE_cat_1_target'].\r"
     ]
    },
    {
     "name": "stderr",
     "output_type": "stream",
     "text": [
      "[18:28:43] task [xgboost.dask-0]:tcp://127.0.0.1:46457 got new rank 0\n",
      "[18:28:43] task [xgboost.dask-1]:tcp://127.0.0.1:37723 got new rank 1\n",
      "[18:28:43] task [xgboost.dask-2]:tcp://127.0.0.1:37887 got new rank 2\n",
      "[18:28:43] task [xgboost.dask-3]:tcp://127.0.0.1:37815 got new rank 3\n"
     ]
    },
    {
     "name": "stdout",
     "output_type": "stream",
     "text": [
      "57.83% complete | Training ['TE_brand_target', 'price', 'relative_price_product', 'ts_hour', 'cat_2', 'relative_price_category', 'ts_weekday', 'brand', 'cat_0', 'cat_3'].\r"
     ]
    },
    {
     "name": "stderr",
     "output_type": "stream",
     "text": [
      "[18:28:46] task [xgboost.dask-0]:tcp://127.0.0.1:46457 got new rank 0\n",
      "[18:28:46] task [xgboost.dask-1]:tcp://127.0.0.1:37723 got new rank 1\n",
      "[18:28:46] task [xgboost.dask-2]:tcp://127.0.0.1:37887 got new rank 2\n",
      "[18:28:46] task [xgboost.dask-3]:tcp://127.0.0.1:37815 got new rank 3\n"
     ]
    },
    {
     "name": "stdout",
     "output_type": "stream",
     "text": [
      "58.12% complete | Training ['TE_brand_target', 'price', 'relative_price_product', 'ts_hour', 'cat_2', 'relative_price_category', 'ts_weekday', 'brand', 'cat_0', 'cat_1_target_sum'].\r"
     ]
    },
    {
     "name": "stderr",
     "output_type": "stream",
     "text": [
      "[18:28:49] task [xgboost.dask-0]:tcp://127.0.0.1:46457 got new rank 0\n",
      "[18:28:49] task [xgboost.dask-1]:tcp://127.0.0.1:37723 got new rank 1\n",
      "[18:28:49] task [xgboost.dask-2]:tcp://127.0.0.1:37887 got new rank 2\n",
      "[18:28:49] task [xgboost.dask-3]:tcp://127.0.0.1:37815 got new rank 3\n"
     ]
    },
    {
     "name": "stdout",
     "output_type": "stream",
     "text": [
      "58.4% complete | Training ['TE_brand_target', 'price', 'relative_price_product', 'ts_hour', 'cat_2', 'relative_price_category', 'ts_weekday', 'brand', 'cat_0', 'TE_cat_2_target'].\r"
     ]
    },
    {
     "name": "stderr",
     "output_type": "stream",
     "text": [
      "[18:28:51] task [xgboost.dask-0]:tcp://127.0.0.1:46457 got new rank 0\n",
      "[18:28:51] task [xgboost.dask-1]:tcp://127.0.0.1:37723 got new rank 1\n",
      "[18:28:51] task [xgboost.dask-2]:tcp://127.0.0.1:37887 got new rank 2\n",
      "[18:28:51] task [xgboost.dask-3]:tcp://127.0.0.1:37815 got new rank 3\n"
     ]
    },
    {
     "name": "stdout",
     "output_type": "stream",
     "text": [
      "58.69% complete | Training ['TE_brand_target', 'price', 'relative_price_product', 'ts_hour', 'cat_2', 'relative_price_category', 'ts_weekday', 'brand', 'cat_0', 'cat_1_count'].\r"
     ]
    },
    {
     "name": "stderr",
     "output_type": "stream",
     "text": [
      "[18:28:54] task [xgboost.dask-0]:tcp://127.0.0.1:46457 got new rank 0\n",
      "[18:28:54] task [xgboost.dask-1]:tcp://127.0.0.1:37723 got new rank 1\n",
      "[18:28:54] task [xgboost.dask-2]:tcp://127.0.0.1:37887 got new rank 2\n",
      "[18:28:54] task [xgboost.dask-3]:tcp://127.0.0.1:37815 got new rank 3\n"
     ]
    },
    {
     "name": "stdout",
     "output_type": "stream",
     "text": [
      "58.97% complete | Training ['TE_brand_target', 'price', 'relative_price_product', 'ts_hour', 'cat_2', 'relative_price_category', 'ts_weekday', 'brand', 'cat_0', 'cat_3_count'].\r"
     ]
    },
    {
     "name": "stderr",
     "output_type": "stream",
     "text": [
      "[18:28:56] task [xgboost.dask-0]:tcp://127.0.0.1:46457 got new rank 0\n",
      "[18:28:56] task [xgboost.dask-1]:tcp://127.0.0.1:37723 got new rank 1\n",
      "[18:28:56] task [xgboost.dask-2]:tcp://127.0.0.1:37887 got new rank 2\n",
      "[18:28:56] task [xgboost.dask-3]:tcp://127.0.0.1:37815 got new rank 3\n"
     ]
    },
    {
     "name": "stdout",
     "output_type": "stream",
     "text": [
      "59.26% complete | Training ['TE_brand_target', 'price', 'relative_price_product', 'ts_hour', 'cat_2', 'relative_price_category', 'ts_weekday', 'brand', 'cat_0', 'TE_cat_3_target'].\r"
     ]
    },
    {
     "name": "stderr",
     "output_type": "stream",
     "text": [
      "[18:28:59] task [xgboost.dask-0]:tcp://127.0.0.1:46457 got new rank 0\n",
      "[18:28:59] task [xgboost.dask-1]:tcp://127.0.0.1:37723 got new rank 1\n",
      "[18:28:59] task [xgboost.dask-2]:tcp://127.0.0.1:37887 got new rank 2\n",
      "[18:28:59] task [xgboost.dask-3]:tcp://127.0.0.1:37815 got new rank 3\n"
     ]
    },
    {
     "name": "stdout",
     "output_type": "stream",
     "text": [
      "59.54% complete | Training ['TE_brand_target', 'price', 'relative_price_product', 'ts_hour', 'cat_2', 'relative_price_category', 'ts_weekday', 'brand', 'cat_0', 'cat_1'].\r"
     ]
    },
    {
     "name": "stderr",
     "output_type": "stream",
     "text": [
      "[18:29:01] task [xgboost.dask-0]:tcp://127.0.0.1:46457 got new rank 0\n",
      "[18:29:01] task [xgboost.dask-1]:tcp://127.0.0.1:37723 got new rank 1\n",
      "[18:29:01] task [xgboost.dask-2]:tcp://127.0.0.1:37887 got new rank 2\n",
      "[18:29:01] task [xgboost.dask-3]:tcp://127.0.0.1:37815 got new rank 3\n"
     ]
    },
    {
     "name": "stdout",
     "output_type": "stream",
     "text": [
      "59.83% complete | Training ['TE_brand_target', 'price', 'relative_price_product', 'ts_hour', 'cat_2', 'relative_price_category', 'ts_weekday', 'brand', 'cat_0', 'TE_cat_0_target'].\r"
     ]
    },
    {
     "name": "stderr",
     "output_type": "stream",
     "text": [
      "[18:29:04] task [xgboost.dask-0]:tcp://127.0.0.1:46457 got new rank 0\n",
      "[18:29:04] task [xgboost.dask-1]:tcp://127.0.0.1:37723 got new rank 1\n",
      "[18:29:04] task [xgboost.dask-2]:tcp://127.0.0.1:37887 got new rank 2\n",
      "[18:29:04] task [xgboost.dask-3]:tcp://127.0.0.1:37815 got new rank 3\n"
     ]
    },
    {
     "name": "stdout",
     "output_type": "stream",
     "text": [
      "60.11% complete | Training ['TE_brand_target', 'price', 'relative_price_product', 'ts_hour', 'cat_2', 'relative_price_category', 'ts_weekday', 'brand', 'cat_0', 'brand_count'].\r"
     ]
    },
    {
     "name": "stderr",
     "output_type": "stream",
     "text": [
      "[18:29:06] task [xgboost.dask-0]:tcp://127.0.0.1:46457 got new rank 0\n",
      "[18:29:06] task [xgboost.dask-1]:tcp://127.0.0.1:37723 got new rank 1\n",
      "[18:29:06] task [xgboost.dask-2]:tcp://127.0.0.1:37887 got new rank 2\n",
      "[18:29:06] task [xgboost.dask-3]:tcp://127.0.0.1:37815 got new rank 3\n"
     ]
    },
    {
     "name": "stdout",
     "output_type": "stream",
     "text": [
      "60.4% complete | Training ['TE_brand_target', 'price', 'relative_price_product', 'ts_hour', 'cat_2', 'relative_price_category', 'ts_weekday', 'brand', 'cat_0', 'brand_target_sum'].\r"
     ]
    },
    {
     "name": "stderr",
     "output_type": "stream",
     "text": [
      "[18:29:09] task [xgboost.dask-0]:tcp://127.0.0.1:46457 got new rank 0\n",
      "[18:29:09] task [xgboost.dask-1]:tcp://127.0.0.1:37723 got new rank 1\n",
      "[18:29:09] task [xgboost.dask-2]:tcp://127.0.0.1:37887 got new rank 2\n",
      "[18:29:09] task [xgboost.dask-3]:tcp://127.0.0.1:37815 got new rank 3\n"
     ]
    },
    {
     "name": "stdout",
     "output_type": "stream",
     "text": [
      "60.68% complete | Training ['TE_brand_target', 'price', 'relative_price_product', 'ts_hour', 'cat_2', 'relative_price_category', 'ts_weekday', 'brand', 'cat_0', 'cat_2_count'].\r"
     ]
    },
    {
     "name": "stderr",
     "output_type": "stream",
     "text": [
      "[18:29:11] task [xgboost.dask-0]:tcp://127.0.0.1:46457 got new rank 0\n",
      "[18:29:11] task [xgboost.dask-1]:tcp://127.0.0.1:37723 got new rank 1\n",
      "[18:29:11] task [xgboost.dask-2]:tcp://127.0.0.1:37887 got new rank 2\n",
      "[18:29:11] task [xgboost.dask-3]:tcp://127.0.0.1:37815 got new rank 3\n"
     ]
    },
    {
     "name": "stdout",
     "output_type": "stream",
     "text": [
      "60.97% complete | Training ['TE_brand_target', 'price', 'relative_price_product', 'ts_hour', 'cat_2', 'relative_price_category', 'ts_weekday', 'brand', 'cat_0', 'cat_2_target_sum'].\r"
     ]
    },
    {
     "name": "stderr",
     "output_type": "stream",
     "text": [
      "[18:29:14] task [xgboost.dask-0]:tcp://127.0.0.1:46457 got new rank 0\n",
      "[18:29:14] task [xgboost.dask-1]:tcp://127.0.0.1:37723 got new rank 1\n",
      "[18:29:14] task [xgboost.dask-2]:tcp://127.0.0.1:37887 got new rank 2\n",
      "[18:29:14] task [xgboost.dask-3]:tcp://127.0.0.1:37815 got new rank 3\n"
     ]
    },
    {
     "name": "stdout",
     "output_type": "stream",
     "text": [
      "61.25% complete | Training ['TE_brand_target', 'price', 'relative_price_product', 'ts_hour', 'cat_2', 'relative_price_category', 'ts_weekday', 'brand', 'cat_0', 'cat_3_target_sum', 'cat_0_target_sum'].\r"
     ]
    },
    {
     "name": "stderr",
     "output_type": "stream",
     "text": [
      "[18:29:16] task [xgboost.dask-0]:tcp://127.0.0.1:46457 got new rank 0\n",
      "[18:29:16] task [xgboost.dask-1]:tcp://127.0.0.1:37723 got new rank 1\n",
      "[18:29:16] task [xgboost.dask-2]:tcp://127.0.0.1:37887 got new rank 2\n",
      "[18:29:16] task [xgboost.dask-3]:tcp://127.0.0.1:37815 got new rank 3\n"
     ]
    },
    {
     "name": "stdout",
     "output_type": "stream",
     "text": [
      "61.54% complete | Training ['TE_brand_target', 'price', 'relative_price_product', 'ts_hour', 'cat_2', 'relative_price_category', 'ts_weekday', 'brand', 'cat_0', 'cat_3_target_sum', 'ts_minute'].\r"
     ]
    },
    {
     "name": "stderr",
     "output_type": "stream",
     "text": [
      "[18:29:19] task [xgboost.dask-0]:tcp://127.0.0.1:46457 got new rank 0\n",
      "[18:29:19] task [xgboost.dask-1]:tcp://127.0.0.1:37723 got new rank 1\n",
      "[18:29:19] task [xgboost.dask-2]:tcp://127.0.0.1:37887 got new rank 2\n",
      "[18:29:19] task [xgboost.dask-3]:tcp://127.0.0.1:37815 got new rank 3\n"
     ]
    },
    {
     "name": "stdout",
     "output_type": "stream",
     "text": [
      "61.82% complete | Training ['TE_brand_target', 'price', 'relative_price_product', 'ts_hour', 'cat_2', 'relative_price_category', 'ts_weekday', 'brand', 'cat_0', 'cat_3_target_sum', 'cat_0_count'].\r"
     ]
    },
    {
     "name": "stderr",
     "output_type": "stream",
     "text": [
      "[18:29:22] task [xgboost.dask-0]:tcp://127.0.0.1:46457 got new rank 0\n",
      "[18:29:22] task [xgboost.dask-1]:tcp://127.0.0.1:37723 got new rank 1\n",
      "[18:29:22] task [xgboost.dask-2]:tcp://127.0.0.1:37887 got new rank 2\n",
      "[18:29:22] task [xgboost.dask-3]:tcp://127.0.0.1:37815 got new rank 3\n"
     ]
    },
    {
     "name": "stdout",
     "output_type": "stream",
     "text": [
      "62.11% complete | Training ['TE_brand_target', 'price', 'relative_price_product', 'ts_hour', 'cat_2', 'relative_price_category', 'ts_weekday', 'brand', 'cat_0', 'cat_3_target_sum', 'TE_cat_1_target'].\r"
     ]
    },
    {
     "name": "stderr",
     "output_type": "stream",
     "text": [
      "[18:29:24] task [xgboost.dask-0]:tcp://127.0.0.1:46457 got new rank 0\n",
      "[18:29:24] task [xgboost.dask-1]:tcp://127.0.0.1:37723 got new rank 1\n",
      "[18:29:24] task [xgboost.dask-2]:tcp://127.0.0.1:37887 got new rank 2\n",
      "[18:29:24] task [xgboost.dask-3]:tcp://127.0.0.1:37815 got new rank 3\n"
     ]
    },
    {
     "name": "stdout",
     "output_type": "stream",
     "text": [
      "62.39% complete | Training ['TE_brand_target', 'price', 'relative_price_product', 'ts_hour', 'cat_2', 'relative_price_category', 'ts_weekday', 'brand', 'cat_0', 'cat_3_target_sum', 'cat_3'].\r"
     ]
    },
    {
     "name": "stderr",
     "output_type": "stream",
     "text": [
      "[18:29:27] task [xgboost.dask-0]:tcp://127.0.0.1:46457 got new rank 0\n",
      "[18:29:27] task [xgboost.dask-1]:tcp://127.0.0.1:37723 got new rank 1\n",
      "[18:29:27] task [xgboost.dask-2]:tcp://127.0.0.1:37887 got new rank 2\n",
      "[18:29:27] task [xgboost.dask-3]:tcp://127.0.0.1:37815 got new rank 3\n"
     ]
    },
    {
     "name": "stdout",
     "output_type": "stream",
     "text": [
      "62.68% complete | Training ['TE_brand_target', 'price', 'relative_price_product', 'ts_hour', 'cat_2', 'relative_price_category', 'ts_weekday', 'brand', 'cat_0', 'cat_3_target_sum', 'cat_1_target_sum'].\r"
     ]
    },
    {
     "name": "stderr",
     "output_type": "stream",
     "text": [
      "[18:29:29] task [xgboost.dask-0]:tcp://127.0.0.1:46457 got new rank 0\n",
      "[18:29:29] task [xgboost.dask-1]:tcp://127.0.0.1:37723 got new rank 1\n",
      "[18:29:29] task [xgboost.dask-2]:tcp://127.0.0.1:37887 got new rank 2\n",
      "[18:29:29] task [xgboost.dask-3]:tcp://127.0.0.1:37815 got new rank 3\n"
     ]
    },
    {
     "name": "stdout",
     "output_type": "stream",
     "text": [
      "62.96% complete | Training ['TE_brand_target', 'price', 'relative_price_product', 'ts_hour', 'cat_2', 'relative_price_category', 'ts_weekday', 'brand', 'cat_0', 'cat_3_target_sum', 'TE_cat_2_target'].\r"
     ]
    },
    {
     "name": "stderr",
     "output_type": "stream",
     "text": [
      "[18:29:32] task [xgboost.dask-0]:tcp://127.0.0.1:46457 got new rank 0\n",
      "[18:29:32] task [xgboost.dask-1]:tcp://127.0.0.1:37723 got new rank 1\n",
      "[18:29:32] task [xgboost.dask-2]:tcp://127.0.0.1:37887 got new rank 2\n",
      "[18:29:32] task [xgboost.dask-3]:tcp://127.0.0.1:37815 got new rank 3\n"
     ]
    },
    {
     "name": "stdout",
     "output_type": "stream",
     "text": [
      "63.25% complete | Training ['TE_brand_target', 'price', 'relative_price_product', 'ts_hour', 'cat_2', 'relative_price_category', 'ts_weekday', 'brand', 'cat_0', 'cat_3_target_sum', 'cat_1_count'].\r"
     ]
    },
    {
     "name": "stderr",
     "output_type": "stream",
     "text": [
      "[18:29:35] task [xgboost.dask-0]:tcp://127.0.0.1:46457 got new rank 0\n",
      "[18:29:35] task [xgboost.dask-1]:tcp://127.0.0.1:37723 got new rank 1\n",
      "[18:29:35] task [xgboost.dask-2]:tcp://127.0.0.1:37887 got new rank 2\n",
      "[18:29:35] task [xgboost.dask-3]:tcp://127.0.0.1:37815 got new rank 3\n"
     ]
    },
    {
     "name": "stdout",
     "output_type": "stream",
     "text": [
      "63.53% complete | Training ['TE_brand_target', 'price', 'relative_price_product', 'ts_hour', 'cat_2', 'relative_price_category', 'ts_weekday', 'brand', 'cat_0', 'cat_3_target_sum', 'cat_3_count'].\r"
     ]
    },
    {
     "name": "stderr",
     "output_type": "stream",
     "text": [
      "[18:29:38] task [xgboost.dask-0]:tcp://127.0.0.1:46457 got new rank 0\n",
      "[18:29:38] task [xgboost.dask-1]:tcp://127.0.0.1:37723 got new rank 1\n",
      "[18:29:38] task [xgboost.dask-2]:tcp://127.0.0.1:37887 got new rank 2\n",
      "[18:29:38] task [xgboost.dask-3]:tcp://127.0.0.1:37815 got new rank 3\n"
     ]
    },
    {
     "name": "stdout",
     "output_type": "stream",
     "text": [
      "63.82% complete | Training ['TE_brand_target', 'price', 'relative_price_product', 'ts_hour', 'cat_2', 'relative_price_category', 'ts_weekday', 'brand', 'cat_0', 'cat_3_target_sum', 'TE_cat_3_target'].\r"
     ]
    },
    {
     "name": "stderr",
     "output_type": "stream",
     "text": [
      "[18:29:40] task [xgboost.dask-0]:tcp://127.0.0.1:46457 got new rank 0\n",
      "[18:29:40] task [xgboost.dask-1]:tcp://127.0.0.1:37723 got new rank 1\n",
      "[18:29:40] task [xgboost.dask-2]:tcp://127.0.0.1:37887 got new rank 2\n",
      "[18:29:40] task [xgboost.dask-3]:tcp://127.0.0.1:37815 got new rank 3\n"
     ]
    },
    {
     "name": "stdout",
     "output_type": "stream",
     "text": [
      "64.1% complete | Training ['TE_brand_target', 'price', 'relative_price_product', 'ts_hour', 'cat_2', 'relative_price_category', 'ts_weekday', 'brand', 'cat_0', 'cat_3_target_sum', 'cat_1'].\r"
     ]
    },
    {
     "name": "stderr",
     "output_type": "stream",
     "text": [
      "[18:29:43] task [xgboost.dask-0]:tcp://127.0.0.1:46457 got new rank 0\n",
      "[18:29:43] task [xgboost.dask-1]:tcp://127.0.0.1:37723 got new rank 1\n",
      "[18:29:43] task [xgboost.dask-2]:tcp://127.0.0.1:37887 got new rank 2\n",
      "[18:29:43] task [xgboost.dask-3]:tcp://127.0.0.1:37815 got new rank 3\n"
     ]
    },
    {
     "name": "stdout",
     "output_type": "stream",
     "text": [
      "64.39% complete | Training ['TE_brand_target', 'price', 'relative_price_product', 'ts_hour', 'cat_2', 'relative_price_category', 'ts_weekday', 'brand', 'cat_0', 'cat_3_target_sum', 'TE_cat_0_target'].\r"
     ]
    },
    {
     "name": "stderr",
     "output_type": "stream",
     "text": [
      "[18:29:45] task [xgboost.dask-0]:tcp://127.0.0.1:46457 got new rank 0\n",
      "[18:29:45] task [xgboost.dask-1]:tcp://127.0.0.1:37723 got new rank 1\n",
      "[18:29:45] task [xgboost.dask-2]:tcp://127.0.0.1:37887 got new rank 2\n",
      "[18:29:45] task [xgboost.dask-3]:tcp://127.0.0.1:37815 got new rank 3\n"
     ]
    },
    {
     "name": "stdout",
     "output_type": "stream",
     "text": [
      "64.67% complete | Training ['TE_brand_target', 'price', 'relative_price_product', 'ts_hour', 'cat_2', 'relative_price_category', 'ts_weekday', 'brand', 'cat_0', 'cat_3_target_sum', 'brand_count'].\r"
     ]
    },
    {
     "name": "stderr",
     "output_type": "stream",
     "text": [
      "[18:29:48] task [xgboost.dask-0]:tcp://127.0.0.1:46457 got new rank 0\n",
      "[18:29:48] task [xgboost.dask-1]:tcp://127.0.0.1:37723 got new rank 1\n",
      "[18:29:48] task [xgboost.dask-2]:tcp://127.0.0.1:37887 got new rank 2\n",
      "[18:29:48] task [xgboost.dask-3]:tcp://127.0.0.1:37815 got new rank 3\n"
     ]
    },
    {
     "name": "stdout",
     "output_type": "stream",
     "text": [
      "64.96% complete | Training ['TE_brand_target', 'price', 'relative_price_product', 'ts_hour', 'cat_2', 'relative_price_category', 'ts_weekday', 'brand', 'cat_0', 'cat_3_target_sum', 'brand_target_sum'].\r"
     ]
    },
    {
     "name": "stderr",
     "output_type": "stream",
     "text": [
      "[18:29:51] task [xgboost.dask-0]:tcp://127.0.0.1:46457 got new rank 0\n",
      "[18:29:51] task [xgboost.dask-1]:tcp://127.0.0.1:37723 got new rank 1\n",
      "[18:29:51] task [xgboost.dask-2]:tcp://127.0.0.1:37887 got new rank 2\n",
      "[18:29:51] task [xgboost.dask-3]:tcp://127.0.0.1:37815 got new rank 3\n"
     ]
    },
    {
     "name": "stdout",
     "output_type": "stream",
     "text": [
      "65.24% complete | Training ['TE_brand_target', 'price', 'relative_price_product', 'ts_hour', 'cat_2', 'relative_price_category', 'ts_weekday', 'brand', 'cat_0', 'cat_3_target_sum', 'cat_2_count'].\r"
     ]
    },
    {
     "name": "stderr",
     "output_type": "stream",
     "text": [
      "[18:29:53] task [xgboost.dask-0]:tcp://127.0.0.1:46457 got new rank 0\n",
      "[18:29:53] task [xgboost.dask-1]:tcp://127.0.0.1:37723 got new rank 1\n",
      "[18:29:53] task [xgboost.dask-2]:tcp://127.0.0.1:37887 got new rank 2\n",
      "[18:29:53] task [xgboost.dask-3]:tcp://127.0.0.1:37815 got new rank 3\n"
     ]
    },
    {
     "name": "stdout",
     "output_type": "stream",
     "text": [
      "65.53% complete | Training ['TE_brand_target', 'price', 'relative_price_product', 'ts_hour', 'cat_2', 'relative_price_category', 'ts_weekday', 'brand', 'cat_0', 'cat_3_target_sum', 'cat_2_target_sum'].\r"
     ]
    },
    {
     "name": "stderr",
     "output_type": "stream",
     "text": [
      "[18:29:56] task [xgboost.dask-0]:tcp://127.0.0.1:46457 got new rank 0\n",
      "[18:29:56] task [xgboost.dask-1]:tcp://127.0.0.1:37723 got new rank 1\n",
      "[18:29:56] task [xgboost.dask-2]:tcp://127.0.0.1:37887 got new rank 2\n",
      "[18:29:56] task [xgboost.dask-3]:tcp://127.0.0.1:37815 got new rank 3\n"
     ]
    },
    {
     "name": "stdout",
     "output_type": "stream",
     "text": [
      "65.81% complete | Training ['TE_brand_target', 'price', 'relative_price_product', 'ts_hour', 'cat_2', 'relative_price_category', 'ts_weekday', 'brand', 'cat_0', 'cat_3_target_sum', 'cat_0_count', 'cat_0_target_sum'].\r"
     ]
    },
    {
     "name": "stderr",
     "output_type": "stream",
     "text": [
      "[18:29:58] task [xgboost.dask-0]:tcp://127.0.0.1:46457 got new rank 0\n",
      "[18:29:58] task [xgboost.dask-1]:tcp://127.0.0.1:37723 got new rank 1\n",
      "[18:29:58] task [xgboost.dask-2]:tcp://127.0.0.1:37887 got new rank 2\n",
      "[18:29:58] task [xgboost.dask-3]:tcp://127.0.0.1:37815 got new rank 3\n"
     ]
    },
    {
     "name": "stdout",
     "output_type": "stream",
     "text": [
      "66.1% complete | Training ['TE_brand_target', 'price', 'relative_price_product', 'ts_hour', 'cat_2', 'relative_price_category', 'ts_weekday', 'brand', 'cat_0', 'cat_3_target_sum', 'cat_0_count', 'ts_minute'].\r"
     ]
    },
    {
     "name": "stderr",
     "output_type": "stream",
     "text": [
      "[18:30:01] task [xgboost.dask-0]:tcp://127.0.0.1:46457 got new rank 0\n",
      "[18:30:01] task [xgboost.dask-1]:tcp://127.0.0.1:37723 got new rank 1\n",
      "[18:30:01] task [xgboost.dask-2]:tcp://127.0.0.1:37887 got new rank 2\n",
      "[18:30:01] task [xgboost.dask-3]:tcp://127.0.0.1:37815 got new rank 3\n"
     ]
    },
    {
     "name": "stdout",
     "output_type": "stream",
     "text": [
      "66.38% complete | Training ['TE_brand_target', 'price', 'relative_price_product', 'ts_hour', 'cat_2', 'relative_price_category', 'ts_weekday', 'brand', 'cat_0', 'cat_3_target_sum', 'cat_0_count', 'TE_cat_1_target'].\r"
     ]
    },
    {
     "name": "stderr",
     "output_type": "stream",
     "text": [
      "[18:30:04] task [xgboost.dask-0]:tcp://127.0.0.1:46457 got new rank 0\n",
      "[18:30:04] task [xgboost.dask-1]:tcp://127.0.0.1:37723 got new rank 1\n",
      "[18:30:04] task [xgboost.dask-2]:tcp://127.0.0.1:37887 got new rank 2\n",
      "[18:30:04] task [xgboost.dask-3]:tcp://127.0.0.1:37815 got new rank 3\n"
     ]
    },
    {
     "name": "stdout",
     "output_type": "stream",
     "text": [
      "66.67% complete | Training ['TE_brand_target', 'price', 'relative_price_product', 'ts_hour', 'cat_2', 'relative_price_category', 'ts_weekday', 'brand', 'cat_0', 'cat_3_target_sum', 'cat_0_count', 'cat_3'].\r"
     ]
    },
    {
     "name": "stderr",
     "output_type": "stream",
     "text": [
      "[18:30:06] task [xgboost.dask-0]:tcp://127.0.0.1:46457 got new rank 0\n",
      "[18:30:06] task [xgboost.dask-1]:tcp://127.0.0.1:37723 got new rank 1\n",
      "[18:30:06] task [xgboost.dask-2]:tcp://127.0.0.1:37887 got new rank 2\n",
      "[18:30:06] task [xgboost.dask-3]:tcp://127.0.0.1:37815 got new rank 3\n"
     ]
    },
    {
     "name": "stdout",
     "output_type": "stream",
     "text": [
      "66.95% complete | Training ['TE_brand_target', 'price', 'relative_price_product', 'ts_hour', 'cat_2', 'relative_price_category', 'ts_weekday', 'brand', 'cat_0', 'cat_3_target_sum', 'cat_0_count', 'cat_1_target_sum'].\r"
     ]
    },
    {
     "name": "stderr",
     "output_type": "stream",
     "text": [
      "[18:30:09] task [xgboost.dask-0]:tcp://127.0.0.1:46457 got new rank 0\n",
      "[18:30:09] task [xgboost.dask-1]:tcp://127.0.0.1:37723 got new rank 1\n",
      "[18:30:09] task [xgboost.dask-2]:tcp://127.0.0.1:37887 got new rank 2\n",
      "[18:30:09] task [xgboost.dask-3]:tcp://127.0.0.1:37815 got new rank 3\n"
     ]
    },
    {
     "name": "stdout",
     "output_type": "stream",
     "text": [
      "67.24% complete | Training ['TE_brand_target', 'price', 'relative_price_product', 'ts_hour', 'cat_2', 'relative_price_category', 'ts_weekday', 'brand', 'cat_0', 'cat_3_target_sum', 'cat_0_count', 'TE_cat_2_target'].\r"
     ]
    },
    {
     "name": "stderr",
     "output_type": "stream",
     "text": [
      "[18:30:11] task [xgboost.dask-0]:tcp://127.0.0.1:46457 got new rank 0\n",
      "[18:30:11] task [xgboost.dask-1]:tcp://127.0.0.1:37723 got new rank 1\n",
      "[18:30:11] task [xgboost.dask-2]:tcp://127.0.0.1:37887 got new rank 2\n",
      "[18:30:11] task [xgboost.dask-3]:tcp://127.0.0.1:37815 got new rank 3\n"
     ]
    },
    {
     "name": "stdout",
     "output_type": "stream",
     "text": [
      "67.52% complete | Training ['TE_brand_target', 'price', 'relative_price_product', 'ts_hour', 'cat_2', 'relative_price_category', 'ts_weekday', 'brand', 'cat_0', 'cat_3_target_sum', 'cat_0_count', 'cat_1_count'].\r"
     ]
    },
    {
     "name": "stderr",
     "output_type": "stream",
     "text": [
      "[18:30:14] task [xgboost.dask-0]:tcp://127.0.0.1:46457 got new rank 0\n",
      "[18:30:14] task [xgboost.dask-1]:tcp://127.0.0.1:37723 got new rank 1\n",
      "[18:30:14] task [xgboost.dask-2]:tcp://127.0.0.1:37887 got new rank 2\n",
      "[18:30:14] task [xgboost.dask-3]:tcp://127.0.0.1:37815 got new rank 3\n"
     ]
    },
    {
     "name": "stdout",
     "output_type": "stream",
     "text": [
      "67.81% complete | Training ['TE_brand_target', 'price', 'relative_price_product', 'ts_hour', 'cat_2', 'relative_price_category', 'ts_weekday', 'brand', 'cat_0', 'cat_3_target_sum', 'cat_0_count', 'cat_3_count'].\r"
     ]
    },
    {
     "name": "stderr",
     "output_type": "stream",
     "text": [
      "[18:30:17] task [xgboost.dask-0]:tcp://127.0.0.1:46457 got new rank 0\n",
      "[18:30:17] task [xgboost.dask-1]:tcp://127.0.0.1:37723 got new rank 1\n",
      "[18:30:17] task [xgboost.dask-2]:tcp://127.0.0.1:37887 got new rank 2\n",
      "[18:30:17] task [xgboost.dask-3]:tcp://127.0.0.1:37815 got new rank 3\n"
     ]
    },
    {
     "name": "stdout",
     "output_type": "stream",
     "text": [
      "68.09% complete | Training ['TE_brand_target', 'price', 'relative_price_product', 'ts_hour', 'cat_2', 'relative_price_category', 'ts_weekday', 'brand', 'cat_0', 'cat_3_target_sum', 'cat_0_count', 'TE_cat_3_target'].\r"
     ]
    },
    {
     "name": "stderr",
     "output_type": "stream",
     "text": [
      "[18:30:19] task [xgboost.dask-0]:tcp://127.0.0.1:46457 got new rank 0\n",
      "[18:30:19] task [xgboost.dask-1]:tcp://127.0.0.1:37723 got new rank 1\n",
      "[18:30:19] task [xgboost.dask-2]:tcp://127.0.0.1:37887 got new rank 2\n",
      "[18:30:19] task [xgboost.dask-3]:tcp://127.0.0.1:37815 got new rank 3\n"
     ]
    },
    {
     "name": "stdout",
     "output_type": "stream",
     "text": [
      "68.38% complete | Training ['TE_brand_target', 'price', 'relative_price_product', 'ts_hour', 'cat_2', 'relative_price_category', 'ts_weekday', 'brand', 'cat_0', 'cat_3_target_sum', 'cat_0_count', 'cat_1'].\r"
     ]
    },
    {
     "name": "stderr",
     "output_type": "stream",
     "text": [
      "[18:30:22] task [xgboost.dask-0]:tcp://127.0.0.1:46457 got new rank 0\n",
      "[18:30:22] task [xgboost.dask-1]:tcp://127.0.0.1:37723 got new rank 1\n",
      "[18:30:22] task [xgboost.dask-2]:tcp://127.0.0.1:37887 got new rank 2\n",
      "[18:30:22] task [xgboost.dask-3]:tcp://127.0.0.1:37815 got new rank 3\n"
     ]
    },
    {
     "name": "stdout",
     "output_type": "stream",
     "text": [
      "68.66% complete | Training ['TE_brand_target', 'price', 'relative_price_product', 'ts_hour', 'cat_2', 'relative_price_category', 'ts_weekday', 'brand', 'cat_0', 'cat_3_target_sum', 'cat_0_count', 'TE_cat_0_target'].\r"
     ]
    },
    {
     "name": "stderr",
     "output_type": "stream",
     "text": [
      "[18:30:24] task [xgboost.dask-0]:tcp://127.0.0.1:46457 got new rank 0\n",
      "[18:30:24] task [xgboost.dask-1]:tcp://127.0.0.1:37723 got new rank 1\n",
      "[18:30:24] task [xgboost.dask-2]:tcp://127.0.0.1:37887 got new rank 2\n",
      "[18:30:24] task [xgboost.dask-3]:tcp://127.0.0.1:37815 got new rank 3\n"
     ]
    },
    {
     "name": "stdout",
     "output_type": "stream",
     "text": [
      "68.95% complete | Training ['TE_brand_target', 'price', 'relative_price_product', 'ts_hour', 'cat_2', 'relative_price_category', 'ts_weekday', 'brand', 'cat_0', 'cat_3_target_sum', 'cat_0_count', 'brand_count'].\r"
     ]
    },
    {
     "name": "stderr",
     "output_type": "stream",
     "text": [
      "[18:30:27] task [xgboost.dask-0]:tcp://127.0.0.1:46457 got new rank 0\n",
      "[18:30:27] task [xgboost.dask-1]:tcp://127.0.0.1:37723 got new rank 1\n",
      "[18:30:27] task [xgboost.dask-2]:tcp://127.0.0.1:37887 got new rank 2\n",
      "[18:30:27] task [xgboost.dask-3]:tcp://127.0.0.1:37815 got new rank 3\n"
     ]
    },
    {
     "name": "stdout",
     "output_type": "stream",
     "text": [
      "69.23% complete | Training ['TE_brand_target', 'price', 'relative_price_product', 'ts_hour', 'cat_2', 'relative_price_category', 'ts_weekday', 'brand', 'cat_0', 'cat_3_target_sum', 'cat_0_count', 'brand_target_sum'].\r"
     ]
    },
    {
     "name": "stderr",
     "output_type": "stream",
     "text": [
      "[18:30:30] task [xgboost.dask-0]:tcp://127.0.0.1:46457 got new rank 0\n",
      "[18:30:30] task [xgboost.dask-1]:tcp://127.0.0.1:37723 got new rank 1\n",
      "[18:30:30] task [xgboost.dask-2]:tcp://127.0.0.1:37887 got new rank 2\n",
      "[18:30:30] task [xgboost.dask-3]:tcp://127.0.0.1:37815 got new rank 3\n"
     ]
    },
    {
     "name": "stdout",
     "output_type": "stream",
     "text": [
      "69.52% complete | Training ['TE_brand_target', 'price', 'relative_price_product', 'ts_hour', 'cat_2', 'relative_price_category', 'ts_weekday', 'brand', 'cat_0', 'cat_3_target_sum', 'cat_0_count', 'cat_2_count'].\r"
     ]
    },
    {
     "name": "stderr",
     "output_type": "stream",
     "text": [
      "[18:30:32] task [xgboost.dask-0]:tcp://127.0.0.1:46457 got new rank 0\n",
      "[18:30:32] task [xgboost.dask-1]:tcp://127.0.0.1:37723 got new rank 1\n",
      "[18:30:32] task [xgboost.dask-2]:tcp://127.0.0.1:37887 got new rank 2\n",
      "[18:30:32] task [xgboost.dask-3]:tcp://127.0.0.1:37815 got new rank 3\n"
     ]
    },
    {
     "name": "stdout",
     "output_type": "stream",
     "text": [
      "69.8% complete | Training ['TE_brand_target', 'price', 'relative_price_product', 'ts_hour', 'cat_2', 'relative_price_category', 'ts_weekday', 'brand', 'cat_0', 'cat_3_target_sum', 'cat_0_count', 'cat_2_target_sum'].\r"
     ]
    },
    {
     "name": "stderr",
     "output_type": "stream",
     "text": [
      "[18:30:35] task [xgboost.dask-0]:tcp://127.0.0.1:46457 got new rank 0\n",
      "[18:30:35] task [xgboost.dask-1]:tcp://127.0.0.1:37723 got new rank 1\n",
      "[18:30:35] task [xgboost.dask-2]:tcp://127.0.0.1:37887 got new rank 2\n",
      "[18:30:35] task [xgboost.dask-3]:tcp://127.0.0.1:37815 got new rank 3\n"
     ]
    },
    {
     "name": "stdout",
     "output_type": "stream",
     "text": [
      "70.09% complete | Training ['TE_brand_target', 'price', 'relative_price_product', 'ts_hour', 'cat_2', 'relative_price_category', 'ts_weekday', 'brand', 'cat_0', 'cat_3_target_sum', 'cat_0_count', 'cat_3', 'cat_0_target_sum'].\r"
     ]
    },
    {
     "name": "stderr",
     "output_type": "stream",
     "text": [
      "[18:30:37] task [xgboost.dask-0]:tcp://127.0.0.1:46457 got new rank 0\n",
      "[18:30:37] task [xgboost.dask-1]:tcp://127.0.0.1:37723 got new rank 1\n",
      "[18:30:37] task [xgboost.dask-2]:tcp://127.0.0.1:37887 got new rank 2\n",
      "[18:30:37] task [xgboost.dask-3]:tcp://127.0.0.1:37815 got new rank 3\n"
     ]
    },
    {
     "name": "stdout",
     "output_type": "stream",
     "text": [
      "70.37% complete | Training ['TE_brand_target', 'price', 'relative_price_product', 'ts_hour', 'cat_2', 'relative_price_category', 'ts_weekday', 'brand', 'cat_0', 'cat_3_target_sum', 'cat_0_count', 'cat_3', 'ts_minute'].\r"
     ]
    },
    {
     "name": "stderr",
     "output_type": "stream",
     "text": [
      "[18:30:40] task [xgboost.dask-0]:tcp://127.0.0.1:46457 got new rank 0\n",
      "[18:30:40] task [xgboost.dask-1]:tcp://127.0.0.1:37723 got new rank 1\n",
      "[18:30:40] task [xgboost.dask-2]:tcp://127.0.0.1:37887 got new rank 2\n",
      "[18:30:40] task [xgboost.dask-3]:tcp://127.0.0.1:37815 got new rank 3\n"
     ]
    },
    {
     "name": "stdout",
     "output_type": "stream",
     "text": [
      "70.66% complete | Training ['TE_brand_target', 'price', 'relative_price_product', 'ts_hour', 'cat_2', 'relative_price_category', 'ts_weekday', 'brand', 'cat_0', 'cat_3_target_sum', 'cat_0_count', 'cat_3', 'TE_cat_1_target'].\r"
     ]
    },
    {
     "name": "stderr",
     "output_type": "stream",
     "text": [
      "[18:30:43] task [xgboost.dask-0]:tcp://127.0.0.1:46457 got new rank 0\n",
      "[18:30:43] task [xgboost.dask-1]:tcp://127.0.0.1:37723 got new rank 1\n",
      "[18:30:43] task [xgboost.dask-2]:tcp://127.0.0.1:37887 got new rank 2\n",
      "[18:30:43] task [xgboost.dask-3]:tcp://127.0.0.1:37815 got new rank 3\n"
     ]
    },
    {
     "name": "stdout",
     "output_type": "stream",
     "text": [
      "70.94% complete | Training ['TE_brand_target', 'price', 'relative_price_product', 'ts_hour', 'cat_2', 'relative_price_category', 'ts_weekday', 'brand', 'cat_0', 'cat_3_target_sum', 'cat_0_count', 'cat_3', 'cat_1_target_sum'].\r"
     ]
    },
    {
     "name": "stderr",
     "output_type": "stream",
     "text": [
      "[18:30:45] task [xgboost.dask-0]:tcp://127.0.0.1:46457 got new rank 0\n",
      "[18:30:45] task [xgboost.dask-1]:tcp://127.0.0.1:37723 got new rank 1\n",
      "[18:30:45] task [xgboost.dask-2]:tcp://127.0.0.1:37887 got new rank 2\n",
      "[18:30:45] task [xgboost.dask-3]:tcp://127.0.0.1:37815 got new rank 3\n"
     ]
    },
    {
     "name": "stdout",
     "output_type": "stream",
     "text": [
      "71.23% complete | Training ['TE_brand_target', 'price', 'relative_price_product', 'ts_hour', 'cat_2', 'relative_price_category', 'ts_weekday', 'brand', 'cat_0', 'cat_3_target_sum', 'cat_0_count', 'cat_3', 'TE_cat_2_target'].\r"
     ]
    },
    {
     "name": "stderr",
     "output_type": "stream",
     "text": [
      "[18:30:48] task [xgboost.dask-0]:tcp://127.0.0.1:46457 got new rank 0\n",
      "[18:30:48] task [xgboost.dask-1]:tcp://127.0.0.1:37723 got new rank 1\n",
      "[18:30:48] task [xgboost.dask-2]:tcp://127.0.0.1:37887 got new rank 2\n",
      "[18:30:48] task [xgboost.dask-3]:tcp://127.0.0.1:37815 got new rank 3\n"
     ]
    },
    {
     "name": "stdout",
     "output_type": "stream",
     "text": [
      "71.51% complete | Training ['TE_brand_target', 'price', 'relative_price_product', 'ts_hour', 'cat_2', 'relative_price_category', 'ts_weekday', 'brand', 'cat_0', 'cat_3_target_sum', 'cat_0_count', 'cat_3', 'cat_1_count'].\r"
     ]
    },
    {
     "name": "stderr",
     "output_type": "stream",
     "text": [
      "[18:30:51] task [xgboost.dask-0]:tcp://127.0.0.1:46457 got new rank 0\n",
      "[18:30:51] task [xgboost.dask-1]:tcp://127.0.0.1:37723 got new rank 1\n",
      "[18:30:51] task [xgboost.dask-2]:tcp://127.0.0.1:37887 got new rank 2\n",
      "[18:30:51] task [xgboost.dask-3]:tcp://127.0.0.1:37815 got new rank 3\n"
     ]
    },
    {
     "name": "stdout",
     "output_type": "stream",
     "text": [
      "71.79% complete | Training ['TE_brand_target', 'price', 'relative_price_product', 'ts_hour', 'cat_2', 'relative_price_category', 'ts_weekday', 'brand', 'cat_0', 'cat_3_target_sum', 'cat_0_count', 'cat_3', 'cat_3_count'].\r"
     ]
    },
    {
     "name": "stderr",
     "output_type": "stream",
     "text": [
      "[18:30:53] task [xgboost.dask-0]:tcp://127.0.0.1:46457 got new rank 0\n",
      "[18:30:53] task [xgboost.dask-1]:tcp://127.0.0.1:37723 got new rank 1\n",
      "[18:30:53] task [xgboost.dask-2]:tcp://127.0.0.1:37887 got new rank 2\n",
      "[18:30:53] task [xgboost.dask-3]:tcp://127.0.0.1:37815 got new rank 3\n"
     ]
    },
    {
     "name": "stdout",
     "output_type": "stream",
     "text": [
      "72.08% complete | Training ['TE_brand_target', 'price', 'relative_price_product', 'ts_hour', 'cat_2', 'relative_price_category', 'ts_weekday', 'brand', 'cat_0', 'cat_3_target_sum', 'cat_0_count', 'cat_3', 'TE_cat_3_target'].\r"
     ]
    },
    {
     "name": "stderr",
     "output_type": "stream",
     "text": [
      "[18:30:56] task [xgboost.dask-0]:tcp://127.0.0.1:46457 got new rank 0\n",
      "[18:30:56] task [xgboost.dask-1]:tcp://127.0.0.1:37723 got new rank 1\n",
      "[18:30:56] task [xgboost.dask-2]:tcp://127.0.0.1:37887 got new rank 2\n",
      "[18:30:56] task [xgboost.dask-3]:tcp://127.0.0.1:37815 got new rank 3\n"
     ]
    },
    {
     "name": "stdout",
     "output_type": "stream",
     "text": [
      "72.36% complete | Training ['TE_brand_target', 'price', 'relative_price_product', 'ts_hour', 'cat_2', 'relative_price_category', 'ts_weekday', 'brand', 'cat_0', 'cat_3_target_sum', 'cat_0_count', 'cat_3', 'cat_1'].\r"
     ]
    },
    {
     "name": "stderr",
     "output_type": "stream",
     "text": [
      "[18:30:58] task [xgboost.dask-0]:tcp://127.0.0.1:46457 got new rank 0\n",
      "[18:30:58] task [xgboost.dask-1]:tcp://127.0.0.1:37723 got new rank 1\n",
      "[18:30:58] task [xgboost.dask-2]:tcp://127.0.0.1:37887 got new rank 2\n",
      "[18:30:58] task [xgboost.dask-3]:tcp://127.0.0.1:37815 got new rank 3\n"
     ]
    },
    {
     "name": "stdout",
     "output_type": "stream",
     "text": [
      "72.65% complete | Training ['TE_brand_target', 'price', 'relative_price_product', 'ts_hour', 'cat_2', 'relative_price_category', 'ts_weekday', 'brand', 'cat_0', 'cat_3_target_sum', 'cat_0_count', 'cat_3', 'TE_cat_0_target'].\r"
     ]
    },
    {
     "name": "stderr",
     "output_type": "stream",
     "text": [
      "[18:31:01] task [xgboost.dask-0]:tcp://127.0.0.1:46457 got new rank 0\n",
      "[18:31:01] task [xgboost.dask-1]:tcp://127.0.0.1:37723 got new rank 1\n",
      "[18:31:01] task [xgboost.dask-2]:tcp://127.0.0.1:37887 got new rank 2\n",
      "[18:31:01] task [xgboost.dask-3]:tcp://127.0.0.1:37815 got new rank 3\n"
     ]
    },
    {
     "name": "stdout",
     "output_type": "stream",
     "text": [
      "72.93% complete | Training ['TE_brand_target', 'price', 'relative_price_product', 'ts_hour', 'cat_2', 'relative_price_category', 'ts_weekday', 'brand', 'cat_0', 'cat_3_target_sum', 'cat_0_count', 'cat_3', 'brand_count'].\r"
     ]
    },
    {
     "name": "stderr",
     "output_type": "stream",
     "text": [
      "[18:31:04] task [xgboost.dask-0]:tcp://127.0.0.1:46457 got new rank 0\n",
      "[18:31:04] task [xgboost.dask-1]:tcp://127.0.0.1:37723 got new rank 1\n",
      "[18:31:04] task [xgboost.dask-2]:tcp://127.0.0.1:37887 got new rank 2\n",
      "[18:31:04] task [xgboost.dask-3]:tcp://127.0.0.1:37815 got new rank 3\n"
     ]
    },
    {
     "name": "stdout",
     "output_type": "stream",
     "text": [
      "73.22% complete | Training ['TE_brand_target', 'price', 'relative_price_product', 'ts_hour', 'cat_2', 'relative_price_category', 'ts_weekday', 'brand', 'cat_0', 'cat_3_target_sum', 'cat_0_count', 'cat_3', 'brand_target_sum'].\r"
     ]
    },
    {
     "name": "stderr",
     "output_type": "stream",
     "text": [
      "[18:31:06] task [xgboost.dask-0]:tcp://127.0.0.1:46457 got new rank 0\n",
      "[18:31:06] task [xgboost.dask-1]:tcp://127.0.0.1:37723 got new rank 1\n",
      "[18:31:06] task [xgboost.dask-2]:tcp://127.0.0.1:37887 got new rank 2\n",
      "[18:31:06] task [xgboost.dask-3]:tcp://127.0.0.1:37815 got new rank 3\n"
     ]
    },
    {
     "name": "stdout",
     "output_type": "stream",
     "text": [
      "73.5% complete | Training ['TE_brand_target', 'price', 'relative_price_product', 'ts_hour', 'cat_2', 'relative_price_category', 'ts_weekday', 'brand', 'cat_0', 'cat_3_target_sum', 'cat_0_count', 'cat_3', 'cat_2_count'].\r"
     ]
    },
    {
     "name": "stderr",
     "output_type": "stream",
     "text": [
      "[18:31:09] task [xgboost.dask-0]:tcp://127.0.0.1:46457 got new rank 0\n",
      "[18:31:09] task [xgboost.dask-1]:tcp://127.0.0.1:37723 got new rank 1\n",
      "[18:31:09] task [xgboost.dask-2]:tcp://127.0.0.1:37887 got new rank 2\n",
      "[18:31:09] task [xgboost.dask-3]:tcp://127.0.0.1:37815 got new rank 3\n"
     ]
    },
    {
     "name": "stdout",
     "output_type": "stream",
     "text": [
      "73.79% complete | Training ['TE_brand_target', 'price', 'relative_price_product', 'ts_hour', 'cat_2', 'relative_price_category', 'ts_weekday', 'brand', 'cat_0', 'cat_3_target_sum', 'cat_0_count', 'cat_3', 'cat_2_target_sum'].\r"
     ]
    },
    {
     "name": "stderr",
     "output_type": "stream",
     "text": [
      "[18:31:12] task [xgboost.dask-0]:tcp://127.0.0.1:46457 got new rank 0\n",
      "[18:31:12] task [xgboost.dask-1]:tcp://127.0.0.1:37723 got new rank 1\n",
      "[18:31:12] task [xgboost.dask-2]:tcp://127.0.0.1:37887 got new rank 2\n",
      "[18:31:12] task [xgboost.dask-3]:tcp://127.0.0.1:37815 got new rank 3\n"
     ]
    },
    {
     "name": "stdout",
     "output_type": "stream",
     "text": [
      "74.07% complete | Training ['TE_brand_target', 'price', 'relative_price_product', 'ts_hour', 'cat_2', 'relative_price_category', 'ts_weekday', 'brand', 'cat_0', 'cat_3_target_sum', 'cat_0_count', 'cat_3', 'cat_3_count', 'cat_0_target_sum'].\r"
     ]
    },
    {
     "name": "stderr",
     "output_type": "stream",
     "text": [
      "[18:31:14] task [xgboost.dask-0]:tcp://127.0.0.1:46457 got new rank 0\n",
      "[18:31:14] task [xgboost.dask-1]:tcp://127.0.0.1:37723 got new rank 1\n",
      "[18:31:14] task [xgboost.dask-2]:tcp://127.0.0.1:37887 got new rank 2\n",
      "[18:31:14] task [xgboost.dask-3]:tcp://127.0.0.1:37815 got new rank 3\n"
     ]
    },
    {
     "name": "stdout",
     "output_type": "stream",
     "text": [
      "74.36% complete | Training ['TE_brand_target', 'price', 'relative_price_product', 'ts_hour', 'cat_2', 'relative_price_category', 'ts_weekday', 'brand', 'cat_0', 'cat_3_target_sum', 'cat_0_count', 'cat_3', 'cat_3_count', 'ts_minute'].\r"
     ]
    },
    {
     "name": "stderr",
     "output_type": "stream",
     "text": [
      "[18:31:17] task [xgboost.dask-0]:tcp://127.0.0.1:46457 got new rank 0\n",
      "[18:31:17] task [xgboost.dask-1]:tcp://127.0.0.1:37723 got new rank 1\n",
      "[18:31:17] task [xgboost.dask-2]:tcp://127.0.0.1:37887 got new rank 2\n",
      "[18:31:17] task [xgboost.dask-3]:tcp://127.0.0.1:37815 got new rank 3\n"
     ]
    },
    {
     "name": "stdout",
     "output_type": "stream",
     "text": [
      "74.64% complete | Training ['TE_brand_target', 'price', 'relative_price_product', 'ts_hour', 'cat_2', 'relative_price_category', 'ts_weekday', 'brand', 'cat_0', 'cat_3_target_sum', 'cat_0_count', 'cat_3', 'cat_3_count', 'TE_cat_1_target'].\r"
     ]
    },
    {
     "name": "stderr",
     "output_type": "stream",
     "text": [
      "[18:31:20] task [xgboost.dask-0]:tcp://127.0.0.1:46457 got new rank 0\n",
      "[18:31:20] task [xgboost.dask-1]:tcp://127.0.0.1:37723 got new rank 1\n",
      "[18:31:20] task [xgboost.dask-2]:tcp://127.0.0.1:37887 got new rank 2\n",
      "[18:31:20] task [xgboost.dask-3]:tcp://127.0.0.1:37815 got new rank 3\n"
     ]
    },
    {
     "name": "stdout",
     "output_type": "stream",
     "text": [
      "74.93% complete | Training ['TE_brand_target', 'price', 'relative_price_product', 'ts_hour', 'cat_2', 'relative_price_category', 'ts_weekday', 'brand', 'cat_0', 'cat_3_target_sum', 'cat_0_count', 'cat_3', 'cat_3_count', 'cat_1_target_sum'].\r"
     ]
    },
    {
     "name": "stderr",
     "output_type": "stream",
     "text": [
      "[18:31:22] task [xgboost.dask-0]:tcp://127.0.0.1:46457 got new rank 0\n",
      "[18:31:22] task [xgboost.dask-1]:tcp://127.0.0.1:37723 got new rank 1\n",
      "[18:31:22] task [xgboost.dask-2]:tcp://127.0.0.1:37887 got new rank 2\n",
      "[18:31:22] task [xgboost.dask-3]:tcp://127.0.0.1:37815 got new rank 3\n"
     ]
    },
    {
     "name": "stdout",
     "output_type": "stream",
     "text": [
      "75.21% complete | Training ['TE_brand_target', 'price', 'relative_price_product', 'ts_hour', 'cat_2', 'relative_price_category', 'ts_weekday', 'brand', 'cat_0', 'cat_3_target_sum', 'cat_0_count', 'cat_3', 'cat_3_count', 'TE_cat_2_target'].\r"
     ]
    },
    {
     "name": "stderr",
     "output_type": "stream",
     "text": [
      "[18:31:25] task [xgboost.dask-0]:tcp://127.0.0.1:46457 got new rank 0\n",
      "[18:31:25] task [xgboost.dask-1]:tcp://127.0.0.1:37723 got new rank 1\n",
      "[18:31:25] task [xgboost.dask-2]:tcp://127.0.0.1:37887 got new rank 2\n",
      "[18:31:25] task [xgboost.dask-3]:tcp://127.0.0.1:37815 got new rank 3\n"
     ]
    },
    {
     "name": "stdout",
     "output_type": "stream",
     "text": [
      "75.5% complete | Training ['TE_brand_target', 'price', 'relative_price_product', 'ts_hour', 'cat_2', 'relative_price_category', 'ts_weekday', 'brand', 'cat_0', 'cat_3_target_sum', 'cat_0_count', 'cat_3', 'cat_3_count', 'cat_1_count'].\r"
     ]
    },
    {
     "name": "stderr",
     "output_type": "stream",
     "text": [
      "[18:31:28] task [xgboost.dask-0]:tcp://127.0.0.1:46457 got new rank 0\n",
      "[18:31:28] task [xgboost.dask-1]:tcp://127.0.0.1:37723 got new rank 1\n",
      "[18:31:28] task [xgboost.dask-2]:tcp://127.0.0.1:37887 got new rank 2\n",
      "[18:31:28] task [xgboost.dask-3]:tcp://127.0.0.1:37815 got new rank 3\n"
     ]
    },
    {
     "name": "stdout",
     "output_type": "stream",
     "text": [
      "75.78% complete | Training ['TE_brand_target', 'price', 'relative_price_product', 'ts_hour', 'cat_2', 'relative_price_category', 'ts_weekday', 'brand', 'cat_0', 'cat_3_target_sum', 'cat_0_count', 'cat_3', 'cat_3_count', 'TE_cat_3_target'].\r"
     ]
    },
    {
     "name": "stderr",
     "output_type": "stream",
     "text": [
      "[18:31:30] task [xgboost.dask-0]:tcp://127.0.0.1:46457 got new rank 0\n",
      "[18:31:30] task [xgboost.dask-1]:tcp://127.0.0.1:37723 got new rank 1\n",
      "[18:31:30] task [xgboost.dask-2]:tcp://127.0.0.1:37887 got new rank 2\n",
      "[18:31:30] task [xgboost.dask-3]:tcp://127.0.0.1:37815 got new rank 3\n"
     ]
    },
    {
     "name": "stdout",
     "output_type": "stream",
     "text": [
      "76.07% complete | Training ['TE_brand_target', 'price', 'relative_price_product', 'ts_hour', 'cat_2', 'relative_price_category', 'ts_weekday', 'brand', 'cat_0', 'cat_3_target_sum', 'cat_0_count', 'cat_3', 'cat_3_count', 'cat_1'].\r"
     ]
    },
    {
     "name": "stderr",
     "output_type": "stream",
     "text": [
      "[18:31:33] task [xgboost.dask-0]:tcp://127.0.0.1:46457 got new rank 0\n",
      "[18:31:33] task [xgboost.dask-1]:tcp://127.0.0.1:37723 got new rank 1\n",
      "[18:31:33] task [xgboost.dask-2]:tcp://127.0.0.1:37887 got new rank 2\n",
      "[18:31:33] task [xgboost.dask-3]:tcp://127.0.0.1:37815 got new rank 3\n"
     ]
    },
    {
     "name": "stdout",
     "output_type": "stream",
     "text": [
      "76.35% complete | Training ['TE_brand_target', 'price', 'relative_price_product', 'ts_hour', 'cat_2', 'relative_price_category', 'ts_weekday', 'brand', 'cat_0', 'cat_3_target_sum', 'cat_0_count', 'cat_3', 'cat_3_count', 'TE_cat_0_target'].\r"
     ]
    },
    {
     "name": "stderr",
     "output_type": "stream",
     "text": [
      "[18:31:36] task [xgboost.dask-0]:tcp://127.0.0.1:46457 got new rank 0\n",
      "[18:31:36] task [xgboost.dask-1]:tcp://127.0.0.1:37723 got new rank 1\n",
      "[18:31:36] task [xgboost.dask-2]:tcp://127.0.0.1:37887 got new rank 2\n",
      "[18:31:36] task [xgboost.dask-3]:tcp://127.0.0.1:37815 got new rank 3\n"
     ]
    },
    {
     "name": "stdout",
     "output_type": "stream",
     "text": [
      "76.64% complete | Training ['TE_brand_target', 'price', 'relative_price_product', 'ts_hour', 'cat_2', 'relative_price_category', 'ts_weekday', 'brand', 'cat_0', 'cat_3_target_sum', 'cat_0_count', 'cat_3', 'cat_3_count', 'brand_count'].\r"
     ]
    },
    {
     "name": "stderr",
     "output_type": "stream",
     "text": [
      "[18:31:38] task [xgboost.dask-0]:tcp://127.0.0.1:46457 got new rank 0\n",
      "[18:31:38] task [xgboost.dask-1]:tcp://127.0.0.1:37723 got new rank 1\n",
      "[18:31:38] task [xgboost.dask-2]:tcp://127.0.0.1:37887 got new rank 2\n",
      "[18:31:38] task [xgboost.dask-3]:tcp://127.0.0.1:37815 got new rank 3\n"
     ]
    },
    {
     "name": "stdout",
     "output_type": "stream",
     "text": [
      "76.92% complete | Training ['TE_brand_target', 'price', 'relative_price_product', 'ts_hour', 'cat_2', 'relative_price_category', 'ts_weekday', 'brand', 'cat_0', 'cat_3_target_sum', 'cat_0_count', 'cat_3', 'cat_3_count', 'brand_target_sum'].\r"
     ]
    },
    {
     "name": "stderr",
     "output_type": "stream",
     "text": [
      "[18:31:41] task [xgboost.dask-0]:tcp://127.0.0.1:46457 got new rank 0\n",
      "[18:31:41] task [xgboost.dask-1]:tcp://127.0.0.1:37723 got new rank 1\n",
      "[18:31:41] task [xgboost.dask-2]:tcp://127.0.0.1:37887 got new rank 2\n",
      "[18:31:41] task [xgboost.dask-3]:tcp://127.0.0.1:37815 got new rank 3\n"
     ]
    },
    {
     "name": "stdout",
     "output_type": "stream",
     "text": [
      "77.21% complete | Training ['TE_brand_target', 'price', 'relative_price_product', 'ts_hour', 'cat_2', 'relative_price_category', 'ts_weekday', 'brand', 'cat_0', 'cat_3_target_sum', 'cat_0_count', 'cat_3', 'cat_3_count', 'cat_2_count'].\r"
     ]
    },
    {
     "name": "stderr",
     "output_type": "stream",
     "text": [
      "[18:31:44] task [xgboost.dask-0]:tcp://127.0.0.1:46457 got new rank 0\n",
      "[18:31:44] task [xgboost.dask-1]:tcp://127.0.0.1:37723 got new rank 1\n",
      "[18:31:44] task [xgboost.dask-2]:tcp://127.0.0.1:37887 got new rank 2\n",
      "[18:31:44] task [xgboost.dask-3]:tcp://127.0.0.1:37815 got new rank 3\n"
     ]
    },
    {
     "name": "stdout",
     "output_type": "stream",
     "text": [
      "77.49% complete | Training ['TE_brand_target', 'price', 'relative_price_product', 'ts_hour', 'cat_2', 'relative_price_category', 'ts_weekday', 'brand', 'cat_0', 'cat_3_target_sum', 'cat_0_count', 'cat_3', 'cat_3_count', 'cat_2_target_sum'].\r"
     ]
    },
    {
     "name": "stderr",
     "output_type": "stream",
     "text": [
      "[18:31:46] task [xgboost.dask-0]:tcp://127.0.0.1:46457 got new rank 0\n",
      "[18:31:46] task [xgboost.dask-1]:tcp://127.0.0.1:37723 got new rank 1\n",
      "[18:31:46] task [xgboost.dask-2]:tcp://127.0.0.1:37887 got new rank 2\n",
      "[18:31:46] task [xgboost.dask-3]:tcp://127.0.0.1:37815 got new rank 3\n"
     ]
    },
    {
     "name": "stdout",
     "output_type": "stream",
     "text": [
      "77.78% complete | Training ['TE_brand_target', 'price', 'relative_price_product', 'ts_hour', 'cat_2', 'relative_price_category', 'ts_weekday', 'brand', 'cat_0', 'cat_3_target_sum', 'cat_0_count', 'cat_3', 'cat_3_count', 'brand_count', 'cat_0_target_sum'].\r"
     ]
    },
    {
     "name": "stderr",
     "output_type": "stream",
     "text": [
      "[18:31:49] task [xgboost.dask-0]:tcp://127.0.0.1:46457 got new rank 0\n",
      "[18:31:49] task [xgboost.dask-1]:tcp://127.0.0.1:37723 got new rank 1\n",
      "[18:31:49] task [xgboost.dask-2]:tcp://127.0.0.1:37887 got new rank 2\n",
      "[18:31:49] task [xgboost.dask-3]:tcp://127.0.0.1:37815 got new rank 3\n"
     ]
    },
    {
     "name": "stdout",
     "output_type": "stream",
     "text": [
      "78.06% complete | Training ['TE_brand_target', 'price', 'relative_price_product', 'ts_hour', 'cat_2', 'relative_price_category', 'ts_weekday', 'brand', 'cat_0', 'cat_3_target_sum', 'cat_0_count', 'cat_3', 'cat_3_count', 'brand_count', 'ts_minute'].\r"
     ]
    },
    {
     "name": "stderr",
     "output_type": "stream",
     "text": [
      "[18:31:52] task [xgboost.dask-0]:tcp://127.0.0.1:46457 got new rank 0\n",
      "[18:31:52] task [xgboost.dask-1]:tcp://127.0.0.1:37723 got new rank 1\n",
      "[18:31:52] task [xgboost.dask-2]:tcp://127.0.0.1:37887 got new rank 2\n",
      "[18:31:52] task [xgboost.dask-3]:tcp://127.0.0.1:37815 got new rank 3\n"
     ]
    },
    {
     "name": "stdout",
     "output_type": "stream",
     "text": [
      "78.35% complete | Training ['TE_brand_target', 'price', 'relative_price_product', 'ts_hour', 'cat_2', 'relative_price_category', 'ts_weekday', 'brand', 'cat_0', 'cat_3_target_sum', 'cat_0_count', 'cat_3', 'cat_3_count', 'brand_count', 'TE_cat_1_target'].\r"
     ]
    },
    {
     "name": "stderr",
     "output_type": "stream",
     "text": [
      "[18:31:54] task [xgboost.dask-0]:tcp://127.0.0.1:46457 got new rank 0\n",
      "[18:31:54] task [xgboost.dask-1]:tcp://127.0.0.1:37723 got new rank 1\n",
      "[18:31:54] task [xgboost.dask-2]:tcp://127.0.0.1:37887 got new rank 2\n",
      "[18:31:54] task [xgboost.dask-3]:tcp://127.0.0.1:37815 got new rank 3\n"
     ]
    },
    {
     "name": "stdout",
     "output_type": "stream",
     "text": [
      "78.63% complete | Training ['TE_brand_target', 'price', 'relative_price_product', 'ts_hour', 'cat_2', 'relative_price_category', 'ts_weekday', 'brand', 'cat_0', 'cat_3_target_sum', 'cat_0_count', 'cat_3', 'cat_3_count', 'brand_count', 'cat_1_target_sum'].\r"
     ]
    },
    {
     "name": "stderr",
     "output_type": "stream",
     "text": [
      "[18:31:57] task [xgboost.dask-0]:tcp://127.0.0.1:46457 got new rank 0\n",
      "[18:31:57] task [xgboost.dask-1]:tcp://127.0.0.1:37723 got new rank 1\n",
      "[18:31:57] task [xgboost.dask-2]:tcp://127.0.0.1:37887 got new rank 2\n",
      "[18:31:57] task [xgboost.dask-3]:tcp://127.0.0.1:37815 got new rank 3\n"
     ]
    },
    {
     "name": "stdout",
     "output_type": "stream",
     "text": [
      "78.92% complete | Training ['TE_brand_target', 'price', 'relative_price_product', 'ts_hour', 'cat_2', 'relative_price_category', 'ts_weekday', 'brand', 'cat_0', 'cat_3_target_sum', 'cat_0_count', 'cat_3', 'cat_3_count', 'brand_count', 'TE_cat_2_target'].\r"
     ]
    },
    {
     "name": "stderr",
     "output_type": "stream",
     "text": [
      "[18:32:00] task [xgboost.dask-0]:tcp://127.0.0.1:46457 got new rank 0\n",
      "[18:32:00] task [xgboost.dask-1]:tcp://127.0.0.1:37723 got new rank 1\n",
      "[18:32:00] task [xgboost.dask-2]:tcp://127.0.0.1:37887 got new rank 2\n",
      "[18:32:00] task [xgboost.dask-3]:tcp://127.0.0.1:37815 got new rank 3\n"
     ]
    },
    {
     "name": "stdout",
     "output_type": "stream",
     "text": [
      "79.2% complete | Training ['TE_brand_target', 'price', 'relative_price_product', 'ts_hour', 'cat_2', 'relative_price_category', 'ts_weekday', 'brand', 'cat_0', 'cat_3_target_sum', 'cat_0_count', 'cat_3', 'cat_3_count', 'brand_count', 'cat_1_count'].\r"
     ]
    },
    {
     "name": "stderr",
     "output_type": "stream",
     "text": [
      "[18:32:02] task [xgboost.dask-0]:tcp://127.0.0.1:46457 got new rank 0\n",
      "[18:32:02] task [xgboost.dask-1]:tcp://127.0.0.1:37723 got new rank 1\n",
      "[18:32:02] task [xgboost.dask-2]:tcp://127.0.0.1:37887 got new rank 2\n",
      "[18:32:02] task [xgboost.dask-3]:tcp://127.0.0.1:37815 got new rank 3\n"
     ]
    },
    {
     "name": "stdout",
     "output_type": "stream",
     "text": [
      "79.49% complete | Training ['TE_brand_target', 'price', 'relative_price_product', 'ts_hour', 'cat_2', 'relative_price_category', 'ts_weekday', 'brand', 'cat_0', 'cat_3_target_sum', 'cat_0_count', 'cat_3', 'cat_3_count', 'brand_count', 'TE_cat_3_target'].\r"
     ]
    },
    {
     "name": "stderr",
     "output_type": "stream",
     "text": [
      "[18:32:05] task [xgboost.dask-0]:tcp://127.0.0.1:46457 got new rank 0\n",
      "[18:32:05] task [xgboost.dask-1]:tcp://127.0.0.1:37723 got new rank 1\n",
      "[18:32:05] task [xgboost.dask-2]:tcp://127.0.0.1:37887 got new rank 2\n",
      "[18:32:05] task [xgboost.dask-3]:tcp://127.0.0.1:37815 got new rank 3\n"
     ]
    },
    {
     "name": "stdout",
     "output_type": "stream",
     "text": [
      "79.77% complete | Training ['TE_brand_target', 'price', 'relative_price_product', 'ts_hour', 'cat_2', 'relative_price_category', 'ts_weekday', 'brand', 'cat_0', 'cat_3_target_sum', 'cat_0_count', 'cat_3', 'cat_3_count', 'brand_count', 'cat_1'].\r"
     ]
    },
    {
     "name": "stderr",
     "output_type": "stream",
     "text": [
      "[18:32:08] task [xgboost.dask-0]:tcp://127.0.0.1:46457 got new rank 0\n",
      "[18:32:08] task [xgboost.dask-1]:tcp://127.0.0.1:37723 got new rank 1\n",
      "[18:32:08] task [xgboost.dask-2]:tcp://127.0.0.1:37887 got new rank 2\n",
      "[18:32:08] task [xgboost.dask-3]:tcp://127.0.0.1:37815 got new rank 3\n"
     ]
    },
    {
     "name": "stdout",
     "output_type": "stream",
     "text": [
      "80.06% complete | Training ['TE_brand_target', 'price', 'relative_price_product', 'ts_hour', 'cat_2', 'relative_price_category', 'ts_weekday', 'brand', 'cat_0', 'cat_3_target_sum', 'cat_0_count', 'cat_3', 'cat_3_count', 'brand_count', 'TE_cat_0_target'].\r"
     ]
    },
    {
     "name": "stderr",
     "output_type": "stream",
     "text": [
      "[18:32:11] task [xgboost.dask-0]:tcp://127.0.0.1:46457 got new rank 0\n",
      "[18:32:11] task [xgboost.dask-1]:tcp://127.0.0.1:37723 got new rank 1\n",
      "[18:32:11] task [xgboost.dask-2]:tcp://127.0.0.1:37887 got new rank 2\n",
      "[18:32:11] task [xgboost.dask-3]:tcp://127.0.0.1:37815 got new rank 3\n"
     ]
    },
    {
     "name": "stdout",
     "output_type": "stream",
     "text": [
      "80.34% complete | Training ['TE_brand_target', 'price', 'relative_price_product', 'ts_hour', 'cat_2', 'relative_price_category', 'ts_weekday', 'brand', 'cat_0', 'cat_3_target_sum', 'cat_0_count', 'cat_3', 'cat_3_count', 'brand_count', 'cat_2_target_sum'].\r"
     ]
    },
    {
     "name": "stderr",
     "output_type": "stream",
     "text": [
      "[18:32:14] task [xgboost.dask-0]:tcp://127.0.0.1:46457 got new rank 0\n",
      "[18:32:14] task [xgboost.dask-1]:tcp://127.0.0.1:37723 got new rank 1\n",
      "[18:32:14] task [xgboost.dask-2]:tcp://127.0.0.1:37887 got new rank 2\n",
      "[18:32:14] task [xgboost.dask-3]:tcp://127.0.0.1:37815 got new rank 3\n"
     ]
    },
    {
     "name": "stdout",
     "output_type": "stream",
     "text": [
      "80.63% complete | Training ['TE_brand_target', 'price', 'relative_price_product', 'ts_hour', 'cat_2', 'relative_price_category', 'ts_weekday', 'brand', 'cat_0', 'cat_3_target_sum', 'cat_0_count', 'cat_3', 'cat_3_count', 'brand_count', 'brand_target_sum'].\r"
     ]
    },
    {
     "name": "stderr",
     "output_type": "stream",
     "text": [
      "[18:32:16] task [xgboost.dask-0]:tcp://127.0.0.1:46457 got new rank 0\n",
      "[18:32:16] task [xgboost.dask-1]:tcp://127.0.0.1:37723 got new rank 1\n",
      "[18:32:16] task [xgboost.dask-2]:tcp://127.0.0.1:37887 got new rank 2\n",
      "[18:32:16] task [xgboost.dask-3]:tcp://127.0.0.1:37815 got new rank 3\n"
     ]
    },
    {
     "name": "stdout",
     "output_type": "stream",
     "text": [
      "80.91% complete | Training ['TE_brand_target', 'price', 'relative_price_product', 'ts_hour', 'cat_2', 'relative_price_category', 'ts_weekday', 'brand', 'cat_0', 'cat_3_target_sum', 'cat_0_count', 'cat_3', 'cat_3_count', 'brand_count', 'cat_2_count'].\r"
     ]
    },
    {
     "name": "stderr",
     "output_type": "stream",
     "text": [
      "[18:32:19] task [xgboost.dask-0]:tcp://127.0.0.1:46457 got new rank 0\n",
      "[18:32:19] task [xgboost.dask-1]:tcp://127.0.0.1:37723 got new rank 1\n",
      "[18:32:19] task [xgboost.dask-2]:tcp://127.0.0.1:37887 got new rank 2\n",
      "[18:32:19] task [xgboost.dask-3]:tcp://127.0.0.1:37815 got new rank 3\n"
     ]
    },
    {
     "name": "stdout",
     "output_type": "stream",
     "text": [
      "81.2% complete | Training ['TE_brand_target', 'price', 'relative_price_product', 'ts_hour', 'cat_2', 'relative_price_category', 'ts_weekday', 'brand', 'cat_0', 'cat_3_target_sum', 'cat_0_count', 'cat_3', 'cat_3_count', 'brand_count', 'cat_1_target_sum', 'ts_minute'].\r"
     ]
    },
    {
     "name": "stderr",
     "output_type": "stream",
     "text": [
      "[18:32:22] task [xgboost.dask-0]:tcp://127.0.0.1:46457 got new rank 0\n",
      "[18:32:22] task [xgboost.dask-1]:tcp://127.0.0.1:37723 got new rank 1\n",
      "[18:32:22] task [xgboost.dask-2]:tcp://127.0.0.1:37887 got new rank 2\n",
      "[18:32:22] task [xgboost.dask-3]:tcp://127.0.0.1:37815 got new rank 3\n"
     ]
    },
    {
     "name": "stdout",
     "output_type": "stream",
     "text": [
      "81.48% complete | Training ['TE_brand_target', 'price', 'relative_price_product', 'ts_hour', 'cat_2', 'relative_price_category', 'ts_weekday', 'brand', 'cat_0', 'cat_3_target_sum', 'cat_0_count', 'cat_3', 'cat_3_count', 'brand_count', 'cat_1_target_sum', 'cat_0_target_sum'].\r"
     ]
    },
    {
     "name": "stderr",
     "output_type": "stream",
     "text": [
      "[18:32:25] task [xgboost.dask-0]:tcp://127.0.0.1:46457 got new rank 0\n",
      "[18:32:25] task [xgboost.dask-1]:tcp://127.0.0.1:37723 got new rank 1\n",
      "[18:32:25] task [xgboost.dask-2]:tcp://127.0.0.1:37887 got new rank 2\n",
      "[18:32:25] task [xgboost.dask-3]:tcp://127.0.0.1:37815 got new rank 3\n"
     ]
    },
    {
     "name": "stdout",
     "output_type": "stream",
     "text": [
      "81.77% complete | Training ['TE_brand_target', 'price', 'relative_price_product', 'ts_hour', 'cat_2', 'relative_price_category', 'ts_weekday', 'brand', 'cat_0', 'cat_3_target_sum', 'cat_0_count', 'cat_3', 'cat_3_count', 'brand_count', 'cat_1_target_sum', 'TE_cat_1_target'].\r"
     ]
    },
    {
     "name": "stderr",
     "output_type": "stream",
     "text": [
      "[18:32:27] task [xgboost.dask-0]:tcp://127.0.0.1:46457 got new rank 0\n",
      "[18:32:27] task [xgboost.dask-1]:tcp://127.0.0.1:37723 got new rank 1\n",
      "[18:32:27] task [xgboost.dask-2]:tcp://127.0.0.1:37887 got new rank 2\n",
      "[18:32:27] task [xgboost.dask-3]:tcp://127.0.0.1:37815 got new rank 3\n"
     ]
    },
    {
     "name": "stdout",
     "output_type": "stream",
     "text": [
      "82.05% complete | Training ['TE_brand_target', 'price', 'relative_price_product', 'ts_hour', 'cat_2', 'relative_price_category', 'ts_weekday', 'brand', 'cat_0', 'cat_3_target_sum', 'cat_0_count', 'cat_3', 'cat_3_count', 'brand_count', 'cat_1_target_sum', 'TE_cat_2_target'].\r"
     ]
    },
    {
     "name": "stderr",
     "output_type": "stream",
     "text": [
      "[18:32:30] task [xgboost.dask-0]:tcp://127.0.0.1:46457 got new rank 0\n",
      "[18:32:30] task [xgboost.dask-1]:tcp://127.0.0.1:37723 got new rank 1\n",
      "[18:32:30] task [xgboost.dask-2]:tcp://127.0.0.1:37887 got new rank 2\n",
      "[18:32:30] task [xgboost.dask-3]:tcp://127.0.0.1:37815 got new rank 3\n"
     ]
    },
    {
     "name": "stdout",
     "output_type": "stream",
     "text": [
      "82.34% complete | Training ['TE_brand_target', 'price', 'relative_price_product', 'ts_hour', 'cat_2', 'relative_price_category', 'ts_weekday', 'brand', 'cat_0', 'cat_3_target_sum', 'cat_0_count', 'cat_3', 'cat_3_count', 'brand_count', 'cat_1_target_sum', 'cat_1_count'].\r"
     ]
    },
    {
     "name": "stderr",
     "output_type": "stream",
     "text": [
      "[18:32:33] task [xgboost.dask-0]:tcp://127.0.0.1:46457 got new rank 0\n",
      "[18:32:33] task [xgboost.dask-1]:tcp://127.0.0.1:37723 got new rank 1\n",
      "[18:32:33] task [xgboost.dask-2]:tcp://127.0.0.1:37887 got new rank 2\n",
      "[18:32:33] task [xgboost.dask-3]:tcp://127.0.0.1:37815 got new rank 3\n"
     ]
    },
    {
     "name": "stdout",
     "output_type": "stream",
     "text": [
      "82.62% complete | Training ['TE_brand_target', 'price', 'relative_price_product', 'ts_hour', 'cat_2', 'relative_price_category', 'ts_weekday', 'brand', 'cat_0', 'cat_3_target_sum', 'cat_0_count', 'cat_3', 'cat_3_count', 'brand_count', 'cat_1_target_sum', 'TE_cat_3_target'].\r"
     ]
    },
    {
     "name": "stderr",
     "output_type": "stream",
     "text": [
      "[18:32:36] task [xgboost.dask-0]:tcp://127.0.0.1:46457 got new rank 0\n",
      "[18:32:36] task [xgboost.dask-1]:tcp://127.0.0.1:37723 got new rank 1\n",
      "[18:32:36] task [xgboost.dask-2]:tcp://127.0.0.1:37887 got new rank 2\n",
      "[18:32:36] task [xgboost.dask-3]:tcp://127.0.0.1:37815 got new rank 3\n"
     ]
    },
    {
     "name": "stdout",
     "output_type": "stream",
     "text": [
      "82.91% complete | Training ['TE_brand_target', 'price', 'relative_price_product', 'ts_hour', 'cat_2', 'relative_price_category', 'ts_weekday', 'brand', 'cat_0', 'cat_3_target_sum', 'cat_0_count', 'cat_3', 'cat_3_count', 'brand_count', 'cat_1_target_sum', 'cat_1'].\r"
     ]
    },
    {
     "name": "stderr",
     "output_type": "stream",
     "text": [
      "[18:32:38] task [xgboost.dask-0]:tcp://127.0.0.1:46457 got new rank 0\n",
      "[18:32:38] task [xgboost.dask-1]:tcp://127.0.0.1:37723 got new rank 1\n",
      "[18:32:38] task [xgboost.dask-2]:tcp://127.0.0.1:37887 got new rank 2\n",
      "[18:32:38] task [xgboost.dask-3]:tcp://127.0.0.1:37815 got new rank 3\n"
     ]
    },
    {
     "name": "stdout",
     "output_type": "stream",
     "text": [
      "83.19% complete | Training ['TE_brand_target', 'price', 'relative_price_product', 'ts_hour', 'cat_2', 'relative_price_category', 'ts_weekday', 'brand', 'cat_0', 'cat_3_target_sum', 'cat_0_count', 'cat_3', 'cat_3_count', 'brand_count', 'cat_1_target_sum', 'TE_cat_0_target'].\r"
     ]
    },
    {
     "name": "stderr",
     "output_type": "stream",
     "text": [
      "[18:32:41] task [xgboost.dask-0]:tcp://127.0.0.1:46457 got new rank 0\n",
      "[18:32:41] task [xgboost.dask-1]:tcp://127.0.0.1:37723 got new rank 1\n",
      "[18:32:41] task [xgboost.dask-2]:tcp://127.0.0.1:37887 got new rank 2\n",
      "[18:32:41] task [xgboost.dask-3]:tcp://127.0.0.1:37815 got new rank 3\n"
     ]
    },
    {
     "name": "stdout",
     "output_type": "stream",
     "text": [
      "83.48% complete | Training ['TE_brand_target', 'price', 'relative_price_product', 'ts_hour', 'cat_2', 'relative_price_category', 'ts_weekday', 'brand', 'cat_0', 'cat_3_target_sum', 'cat_0_count', 'cat_3', 'cat_3_count', 'brand_count', 'cat_1_target_sum', 'cat_2_target_sum'].\r"
     ]
    },
    {
     "name": "stderr",
     "output_type": "stream",
     "text": [
      "[18:32:44] task [xgboost.dask-0]:tcp://127.0.0.1:46457 got new rank 0\n",
      "[18:32:44] task [xgboost.dask-1]:tcp://127.0.0.1:37723 got new rank 1\n",
      "[18:32:44] task [xgboost.dask-2]:tcp://127.0.0.1:37887 got new rank 2\n",
      "[18:32:44] task [xgboost.dask-3]:tcp://127.0.0.1:37815 got new rank 3\n"
     ]
    },
    {
     "name": "stdout",
     "output_type": "stream",
     "text": [
      "83.76% complete | Training ['TE_brand_target', 'price', 'relative_price_product', 'ts_hour', 'cat_2', 'relative_price_category', 'ts_weekday', 'brand', 'cat_0', 'cat_3_target_sum', 'cat_0_count', 'cat_3', 'cat_3_count', 'brand_count', 'cat_1_target_sum', 'brand_target_sum'].\r"
     ]
    },
    {
     "name": "stderr",
     "output_type": "stream",
     "text": [
      "[18:32:47] task [xgboost.dask-0]:tcp://127.0.0.1:46457 got new rank 0\n",
      "[18:32:47] task [xgboost.dask-1]:tcp://127.0.0.1:37723 got new rank 1\n",
      "[18:32:47] task [xgboost.dask-2]:tcp://127.0.0.1:37887 got new rank 2\n",
      "[18:32:47] task [xgboost.dask-3]:tcp://127.0.0.1:37815 got new rank 3\n"
     ]
    },
    {
     "name": "stdout",
     "output_type": "stream",
     "text": [
      "84.05% complete | Training ['TE_brand_target', 'price', 'relative_price_product', 'ts_hour', 'cat_2', 'relative_price_category', 'ts_weekday', 'brand', 'cat_0', 'cat_3_target_sum', 'cat_0_count', 'cat_3', 'cat_3_count', 'brand_count', 'cat_1_target_sum', 'cat_2_count'].\r"
     ]
    },
    {
     "name": "stderr",
     "output_type": "stream",
     "text": [
      "[18:32:49] task [xgboost.dask-0]:tcp://127.0.0.1:46457 got new rank 0\n",
      "[18:32:49] task [xgboost.dask-1]:tcp://127.0.0.1:37723 got new rank 1\n",
      "[18:32:49] task [xgboost.dask-2]:tcp://127.0.0.1:37887 got new rank 2\n",
      "[18:32:49] task [xgboost.dask-3]:tcp://127.0.0.1:37815 got new rank 3\n"
     ]
    },
    {
     "name": "stdout",
     "output_type": "stream",
     "text": [
      "Training 296 models took 10.32 minutes. \n"
     ]
    }
   ],
   "source": [
    "# iterative train XGBoost model with different features\n",
    "# set total number of features and number of iterations\n",
    "num_features=len(features_list)\n",
    "iter_num=sum([n for n in range(num_features+1)])\n",
    "\n",
    "remaining_feat=features_list\n",
    "best_features={}\n",
    "count=0\n",
    "current_best_score=0\n",
    "early_stopping_count=0\n",
    "\n",
    "# model training\n",
    "start=time.time()\n",
    "\n",
    "while len(remaining_feat)>0 and early_stopping_count<=5:\n",
    "    \n",
    "    scores=[]\n",
    "    for feat in remaining_feat: \n",
    "        training_feat=list(best_features.keys())+[feat]\n",
    "        print(f'{round(count/iter_num*100, 2)}% complete | Training {training_feat}.', end='\\r')\n",
    "        \n",
    "        model=train_xgb_mgpu(training_feat)\n",
    "        count+=1\n",
    "        \n",
    "        accuracy_score=model['booster'].best_score\n",
    "        scores.append(accuracy_score)\n",
    "\n",
    "    best_score=max(scores)\n",
    "    best_feat=remaining_feat[scores.index(best_score)]\n",
    "    best_features[best_feat]=best_score\n",
    "\n",
    "    remaining_feat=list(set(features_list)-set(best_features.keys()))\n",
    "    \n",
    "    if best_score>current_best_score: \n",
    "        current_best_score=best_score\n",
    "    else: \n",
    "        early_stopping_count+=1\n",
    "\n",
    "elapsed_time=time.time()-start\n",
    "print(f'Training {count} models took {round(elapsed_time/60, 2)} minutes. ')"
   ]
  },
  {
   "cell_type": "code",
   "execution_count": 9,
   "id": "021385e8-ee67-4813-80d2-f7c9cca6c530",
   "metadata": {
    "scrolled": true,
    "tags": []
   },
   "outputs": [
    {
     "name": "stdout",
     "output_type": "stream",
     "text": [
      "Best validation score is: 0.6323556495746291\n"
     ]
    },
    {
     "data": {
      "image/png": "[encoded data removed]",
      "text/plain": [
       "<Figure size 640x480 with 1 Axes>"
      ]
     },
     "metadata": {},
     "output_type": "display_data"
    }
   ],
   "source": [
    "# print best training score\n",
    "print(f'Best validation score is: {max(best_features.values())}')\n",
    "\n",
    "# plot model performances\n",
    "plt.bar(x=best_features.keys(), height=best_features.values())\n",
    "plt.xticks(rotation=90)\n",
    "plt.ylim([min(best_features.values())-0.001, max(best_features.values())+0.001])\n",
    "plt.hlines(max(best_features.values()), 0, len(features_list), color='orange')\n",
    "plt.ylabel('Incremental Feature Name')\n",
    "plt.xlabel('Incremental Model Performance')\n",
    "plt.show()"
   ]
  },
  {
   "cell_type": "code",
   "execution_count": 10,
   "id": "e5fc4aaa-a48b-48f9-a0f0-bc5638eb23d9",
   "metadata": {},
   "outputs": [
    {
     "name": "stdout",
     "output_type": "stream",
     "text": [
      "Selected features are: ['TE_brand_target', 'price', 'relative_price_product', 'ts_hour', 'cat_2', 'relative_price_category', 'ts_weekday', 'brand', 'cat_0', 'cat_3_target_sum']\n"
     ]
    }
   ],
   "source": [
    "# save list of selected features\n",
    "features=list(best_features.keys())\n",
    "scores=list(best_features.values())\n",
    "\n",
    "# get list of selected features\n",
    "selected_features=features[:scores.index(max(scores))+1]\n",
    "print(f'Selected features are: {selected_features}')\n",
    "\n",
    "with open('selected_features.pkl', 'wb') as f: \n",
    "    pickle.dump(selected_features, f)"
   ]
  },
  {
   "cell_type": "markdown",
   "id": "b32e554f-fd40-4f84-a73a-5834f281e6b0",
   "metadata": {},
   "source": [
    "Based on the numerous iterative training, we see that the model actually starts to perform worse with additional features. Going forward, we should train a model using only the features that are beneficial to the model. Furthermore, we should adjust the data processing pipeline such that it doesn't create the noisy features. "
   ]
  },
  {
   "cell_type": "code",
   "execution_count": 11,
   "id": "0c7064e8-0c21-4a51-afa7-7caa8faf7cb6",
   "metadata": {},
   "outputs": [
    {
     "data": {
      "text/plain": [
       "7726"
      ]
     },
     "execution_count": 11,
     "metadata": {},
     "output_type": "execute_result"
    }
   ],
   "source": [
    "del model, X_train, X_test, y_train, y_test, X, y, ddf\n",
    "gc.collect()"
   ]
  },
  {
   "cell_type": "markdown",
   "id": "896bbec2-2077-41db-8fd0-f1696d70caf2",
   "metadata": {},
   "source": [
    "<a name='s3-2'></a>\n",
    "## Hyperparameter Optimization ##\n",
    "Hyperparameters refer to the parameters used during the model training process but are not \"learned\" during the training. While finding the optimal hyperparameters can be computationally costly, it can improve model performance. `Dask-ML` and `cuML` can be used to improve the efficiency of hyperparameter optimization by leveraging GPU-acceleration and distributed schedulers. \n",
    "\n",
    "We will use `dask_ml.model_selection.GridSearchCV`[[doc]](https://ml.dask.org/modules/generated/dask_ml.model_selection.GridSearchCV.html) to performs an exhaustive search over specific parameter values for a model. `GridSearchCV` requires an `estimator`, which an object of this type is instantiated for each parameter search. It uses a 3-fold cross-validation by default. \n",
    "\n",
    "When using `dask_ml.model_selection.GridSearchCV`, we have to use `xgboost.XGBClassifier` as the estimator. The GridSearchCV is designed to extend single node algorithms, like estimators in scikit-learn that accepts numpy arrays. It runs the estimators with different hyperparameter on each worker's local data, instead of running them on the distributed data structure. The GridSearchCV will train variations of the estimator in parallel. It works when datasets fit in memory on the individual workers. Since we've performed feature selection, we only need to load a subset of features, thereby reducing the memory burden. \n",
    "\n",
    "<p><img src='images/tip.png' width=720></p>\n",
    "\n",
    "We cannot use `dask_ml.model_selection.GridSearchCV` with `xgboost.dask.DaskXGBClassifier`. For use cases when the dataset is too large to fit into GPU memory, Dask is used to distribute data into partitions and `xgboost.dask.DaskXGBClassifier` is used to train on Dask collections and avoid loading all the data into memory at once. However, the estimators that `dask_ml` supports cannot handle partial training. "
   ]
  },
  {
   "cell_type": "code",
   "execution_count": 12,
   "id": "0a17f9af-8678-469f-a52a-e8c018d21cbd",
   "metadata": {},
   "outputs": [],
   "source": [
    "# import dependencies\n",
    "import xgboost\n",
    "from dask_ml.model_selection import GridSearchCV\n",
    "from sklearn.model_selection import train_test_split\n",
    "\n",
    "import dask.dataframe as dd\n",
    "import matplotlib.pyplot as plt\n",
    "import numpy as np\n",
    "import dask_cudf\n",
    "import time\n",
    "import pandas as pd\n",
    "import pickle"
   ]
  },
  {
   "cell_type": "markdown",
   "id": "d7577951-954d-4274-92e5-302708007781",
   "metadata": {},
   "source": [
    "We start by loading the data. We will use the best features we found from the previous exercise. "
   ]
  },
  {
   "cell_type": "code",
   "execution_count": 13,
   "id": "ad3bd2ad-c5cf-4e1e-918d-d16d0da9f134",
   "metadata": {},
   "outputs": [],
   "source": [
    "# initializing list\n",
    "with open('selected_features.pkl', 'rb') as f: \n",
    "    features_list=pickle.load(f)\n",
    "         \n",
    "include=features_list+['target']"
   ]
  },
  {
   "cell_type": "code",
   "execution_count": 14,
   "id": "e2ee5ea3-f86f-40f8-815a-3a9518c30963",
   "metadata": {
    "scrolled": true,
    "tags": []
   },
   "outputs": [
    {
     "name": "stdout",
     "output_type": "stream",
     "text": [
      "Total of 2461697 records. \n"
     ]
    }
   ],
   "source": [
    "# load data\n",
    "parquet_dir='processed_parquet'\n",
    "ddf=dd.read_parquet(parquet_dir, columns=include)\n",
    "df=ddf.compute()\n",
    "\n",
    "print(f'Total of {len(df)} records. ')"
   ]
  },
  {
   "cell_type": "code",
   "execution_count": 15,
   "id": "bda4d25c-4c71-4785-a001-b02bf44f9478",
   "metadata": {},
   "outputs": [],
   "source": [
    "# under the hood, XGBoost converts floats to `float32`.\n",
    "y=df['target'].astype('float32')\n",
    "X=df[features_list].astype('float32')\n",
    "\n",
    "X_train, X_test, y_train, y_test=train_test_split(X, y, random_state=42)"
   ]
  },
  {
   "cell_type": "code",
   "execution_count": 16,
   "id": "e0d8c2c9-7ab2-4049-842a-2451dbb4ea0d",
   "metadata": {},
   "outputs": [],
   "source": [
    "# define estimator\n",
    "xgb_params={ \n",
    "    'n_estimators': 350, \n",
    "    'eval_metric': ['auc'], \n",
    "    'objective': 'binary:logistic',\n",
    "    'tree_method': 'gpu_hist', \n",
    "    'early_stopping_rounds': 10\n",
    "    # 'n_jobs': 4\n",
    "}\n",
    "\n",
    "xgb_gpu=xgboost.XGBClassifier(**xgb_params, n_jobs=4)"
   ]
  },
  {
   "cell_type": "markdown",
   "id": "a61f373a-4a52-461b-8b81-5bd73b5e65af",
   "metadata": {},
   "source": [
    "We will want to define a `param_grid` to include possible parameter setting we want to experiment. The performance of each experimentation is cross validated on a holdout set. By default, `dask_ml.model_selection.GridSearchCV` uses a 3-fold cross validation but can be changed using the `cv` parameter. "
   ]
  },
  {
   "cell_type": "code",
   "execution_count": 17,
   "id": "c6b38623-dab3-4afa-925a-528df063d61b",
   "metadata": {},
   "outputs": [],
   "source": [
    "param_grid={\n",
    "    'max_depth': range(5, 8), # default is 6\n",
    "    'learning_rate': np.arange(0.1, 0.31, 0.2), # default is 0.3\n",
    "    'subsample': np.arange(0.6, 1.01, 0.2), # default is 1\n",
    "    'min_child_weight': [1, 10], # default is 1\n",
    "    'colsample_bytree': np.arange(0.9, 1.01, 0.1) # default is 1\n",
    "} "
   ]
  },
  {
   "cell_type": "markdown",
   "id": "a60b9bcb-c4a3-465f-9a66-6fc4ee5557d5",
   "metadata": {},
   "source": [
    "`dask_ml.model_selection.GridSearchCV` requires a `scheduler`, which specifies the Dask scheduler to use. If not set, the default scheduler will be used, which may not use the GPU workers. When fitting, we will pass `X`, and `y`, which reference the DataFrame that we loaded into memory with  `dask.dataframe` and `.compute()`. "
   ]
  },
  {
   "cell_type": "code",
   "execution_count": 18,
   "id": "b98a85fc-d76a-4645-9db3-2863622a4636",
   "metadata": {
    "scrolled": true,
    "tags": []
   },
   "outputs": [
    {
     "name": "stdout",
     "output_type": "stream",
     "text": [
      "Training took 4.44 minutes. \n"
     ]
    }
   ],
   "source": [
    "grid_search = GridSearchCV(\n",
    "    xgb_gpu,\n",
    "    param_grid=param_grid, \n",
    "    # n_jobs=4\n",
    "    scheduler=client\n",
    ")\n",
    "\n",
    "start = time.time()\n",
    "grid_search.fit(X_train, y_train, eval_set=[(X_test, y_test)], verbose=False)\n",
    "elapsed_time=time.time()-start\n",
    "\n",
    "print(f'Training took {round(elapsed_time/60, 2)} minutes. ')"
   ]
  },
  {
   "cell_type": "markdown",
   "id": "a27750a7-8fb8-491c-843c-36c8fcd63666",
   "metadata": {},
   "source": [
    "`GridSearchCV` provides the search results via the `.cv_results_` property. Since the output is fairly small, we can use Pandas to visualize the search results in a pandas DataFrame. "
   ]
  },
  {
   "cell_type": "code",
   "execution_count": 19,
   "id": "8c0f5f50-9887-4456-83d5-202ad5de0e78",
   "metadata": {
    "scrolled": true,
    "tags": []
   },
   "outputs": [
    {
     "data": {
      "text/html": [
       "<div>\n",
       "<style scoped>\n",
       "    .dataframe tbody tr th:only-of-type {\n",
       "        vertical-align: middle;\n",
       "    }\n",
       "\n",
       "    .dataframe tbody tr th {\n",
       "        vertical-align: top;\n",
       "    }\n",
       "\n",
       "    .dataframe thead th {\n",
       "        text-align: right;\n",
       "    }\n",
       "</style>\n",
       "<table border=\"1\" class=\"dataframe\">\n",
       "  <thead>\n",
       "    <tr style=\"text-align: right;\">\n",
       "      <th></th>\n",
       "      <th>params</th>\n",
       "      <th>mean_fit_time</th>\n",
       "      <th>std_fit_time</th>\n",
       "      <th>mean_score_time</th>\n",
       "      <th>std_score_time</th>\n",
       "      <th>split0_test_score</th>\n",
       "      <th>split1_test_score</th>\n",
       "      <th>split2_test_score</th>\n",
       "      <th>mean_test_score</th>\n",
       "      <th>std_test_score</th>\n",
       "      <th>rank_test_score</th>\n",
       "      <th>param_colsample_bytree</th>\n",
       "      <th>param_learning_rate</th>\n",
       "      <th>param_max_depth</th>\n",
       "      <th>param_min_child_weight</th>\n",
       "      <th>param_subsample</th>\n",
       "    </tr>\n",
       "  </thead>\n",
       "  <tbody>\n",
       "    <tr>\n",
       "      <th>0</th>\n",
       "      <td>{'colsample_bytree': 0.9, 'learning_rate': 0.1...</td>\n",
       "      <td>3.314512</td>\n",
       "      <td>0.047949</td>\n",
       "      <td>0.950839</td>\n",
       "      <td>0.003722</td>\n",
       "      <td>0.609076</td>\n",
       "      <td>0.609349</td>\n",
       "      <td>0.610118</td>\n",
       "      <td>0.609514</td>\n",
       "      <td>0.000441</td>\n",
       "      <td>72</td>\n",
       "      <td>0.9</td>\n",
       "      <td>0.1</td>\n",
       "      <td>5</td>\n",
       "      <td>1</td>\n",
       "      <td>0.6</td>\n",
       "    </tr>\n",
       "    <tr>\n",
       "      <th>1</th>\n",
       "      <td>{'colsample_bytree': 0.9, 'learning_rate': 0.1...</td>\n",
       "      <td>3.306618</td>\n",
       "      <td>0.037546</td>\n",
       "      <td>0.951453</td>\n",
       "      <td>0.005763</td>\n",
       "      <td>0.609893</td>\n",
       "      <td>0.609305</td>\n",
       "      <td>0.610197</td>\n",
       "      <td>0.609799</td>\n",
       "      <td>0.000370</td>\n",
       "      <td>65</td>\n",
       "      <td>0.9</td>\n",
       "      <td>0.1</td>\n",
       "      <td>5</td>\n",
       "      <td>1</td>\n",
       "      <td>0.8</td>\n",
       "    </tr>\n",
       "    <tr>\n",
       "      <th>2</th>\n",
       "      <td>{'colsample_bytree': 0.9, 'learning_rate': 0.1...</td>\n",
       "      <td>3.201433</td>\n",
       "      <td>0.040369</td>\n",
       "      <td>0.947040</td>\n",
       "      <td>0.006810</td>\n",
       "      <td>0.609606</td>\n",
       "      <td>0.609448</td>\n",
       "      <td>0.610064</td>\n",
       "      <td>0.609706</td>\n",
       "      <td>0.000261</td>\n",
       "      <td>66</td>\n",
       "      <td>0.9</td>\n",
       "      <td>0.1</td>\n",
       "      <td>5</td>\n",
       "      <td>1</td>\n",
       "      <td>1.0</td>\n",
       "    </tr>\n",
       "    <tr>\n",
       "      <th>3</th>\n",
       "      <td>{'colsample_bytree': 0.9, 'learning_rate': 0.1...</td>\n",
       "      <td>3.347757</td>\n",
       "      <td>0.038863</td>\n",
       "      <td>0.954037</td>\n",
       "      <td>0.002982</td>\n",
       "      <td>0.608943</td>\n",
       "      <td>0.609346</td>\n",
       "      <td>0.610421</td>\n",
       "      <td>0.609570</td>\n",
       "      <td>0.000624</td>\n",
       "      <td>71</td>\n",
       "      <td>0.9</td>\n",
       "      <td>0.1</td>\n",
       "      <td>5</td>\n",
       "      <td>10</td>\n",
       "      <td>0.6</td>\n",
       "    </tr>\n",
       "    <tr>\n",
       "      <th>4</th>\n",
       "      <td>{'colsample_bytree': 0.9, 'learning_rate': 0.1...</td>\n",
       "      <td>3.306296</td>\n",
       "      <td>0.020718</td>\n",
       "      <td>0.945726</td>\n",
       "      <td>0.004033</td>\n",
       "      <td>0.609471</td>\n",
       "      <td>0.609416</td>\n",
       "      <td>0.610038</td>\n",
       "      <td>0.609641</td>\n",
       "      <td>0.000281</td>\n",
       "      <td>69</td>\n",
       "      <td>0.9</td>\n",
       "      <td>0.1</td>\n",
       "      <td>5</td>\n",
       "      <td>10</td>\n",
       "      <td>0.8</td>\n",
       "    </tr>\n",
       "  </tbody>\n",
       "</table>\n",
       "</div>"
      ],
      "text/plain": [
       "                                              params  mean_fit_time  \\\n",
       "0  {'colsample_bytree': 0.9, 'learning_rate': 0.1...       3.314512   \n",
       "1  {'colsample_bytree': 0.9, 'learning_rate': 0.1...       3.306618   \n",
       "2  {'colsample_bytree': 0.9, 'learning_rate': 0.1...       3.201433   \n",
       "3  {'colsample_bytree': 0.9, 'learning_rate': 0.1...       3.347757   \n",
       "4  {'colsample_bytree': 0.9, 'learning_rate': 0.1...       3.306296   \n",
       "\n",
       "   std_fit_time  mean_score_time  std_score_time  split0_test_score  \\\n",
       "0      0.047949         0.950839        0.003722           0.609076   \n",
       "1      0.037546         0.951453        0.005763           0.609893   \n",
       "2      0.040369         0.947040        0.006810           0.609606   \n",
       "3      0.038863         0.954037        0.002982           0.608943   \n",
       "4      0.020718         0.945726        0.004033           0.609471   \n",
       "\n",
       "   split1_test_score  split2_test_score  mean_test_score  std_test_score  \\\n",
       "0           0.609349           0.610118         0.609514        0.000441   \n",
       "1           0.609305           0.610197         0.609799        0.000370   \n",
       "2           0.609448           0.610064         0.609706        0.000261   \n",
       "3           0.609346           0.610421         0.609570        0.000624   \n",
       "4           0.609416           0.610038         0.609641        0.000281   \n",
       "\n",
       "   rank_test_score param_colsample_bytree param_learning_rate param_max_depth  \\\n",
       "0               72                    0.9                 0.1               5   \n",
       "1               65                    0.9                 0.1               5   \n",
       "2               66                    0.9                 0.1               5   \n",
       "3               71                    0.9                 0.1               5   \n",
       "4               69                    0.9                 0.1               5   \n",
       "\n",
       "  param_min_child_weight param_subsample  \n",
       "0                      1             0.6  \n",
       "1                      1             0.8  \n",
       "2                      1             1.0  \n",
       "3                     10             0.6  \n",
       "4                     10             0.8  "
      ]
     },
     "execution_count": 19,
     "metadata": {},
     "output_type": "execute_result"
    }
   ],
   "source": [
    "# load search results in pandas DataFrame\n",
    "pd.DataFrame(grid_search.cv_results_).head()"
   ]
  },
  {
   "cell_type": "markdown",
   "id": "5ab43ef0-4590-4765-b82c-0b156bfd8a51",
   "metadata": {},
   "source": [
    "Once the search is complete, we can use the `.best_estimator_` property to get the estimator which gave the highest score. We can also get the parameter setting that gave the best results with the `.best_params_` property. Knowing the optimal hyperparameters to use, we will use them to retrain the model. "
   ]
  },
  {
   "cell_type": "code",
   "execution_count": 20,
   "id": "80dcf7cf-c4dd-4843-a250-7c6b1bb92cbe",
   "metadata": {
    "scrolled": true,
    "tags": []
   },
   "outputs": [
    {
     "name": "stdout",
     "output_type": "stream",
     "text": [
      "{'colsample_bytree': 1.0, 'learning_rate': 0.30000000000000004, 'max_depth': 7, 'min_child_weight': 1, 'subsample': 1.0}\n"
     ]
    }
   ],
   "source": [
    "# print best parameters\n",
    "best_params=grid_search.best_params_\n",
    "print(best_params)"
   ]
  },
  {
   "cell_type": "code",
   "execution_count": 21,
   "id": "b735761d-0d6e-4817-90db-005cb29eeaf5",
   "metadata": {},
   "outputs": [],
   "source": [
    "# import dependencies\n",
    "from dask_ml.model_selection import train_test_split\n",
    "from dask_ml.metrics import accuracy_score"
   ]
  },
  {
   "cell_type": "code",
   "execution_count": 22,
   "id": "9ca54a21-47bd-4f9e-8266-f47d817b7c89",
   "metadata": {
    "scrolled": true,
    "tags": []
   },
   "outputs": [
    {
     "name": "stdout",
     "output_type": "stream",
     "text": [
      "Total of 2461697 records split across 4 partitions. \n"
     ]
    }
   ],
   "source": [
    "# load data\n",
    "parquet_dir='processed_parquet'\n",
    "ddf=dask_cudf.read_parquet(parquet_dir, columns=include)\n",
    "\n",
    "print(f'Total of {len(ddf)} records split across {ddf.npartitions} partitions. ')"
   ]
  },
  {
   "cell_type": "code",
   "execution_count": 23,
   "id": "78b1c9fd-f77b-4c3e-8125-22c0039d7355",
   "metadata": {
    "scrolled": true,
    "tags": []
   },
   "outputs": [
    {
     "data": {
      "text/plain": [
       "DoneAndNotDoneFutures(done={<Future: finished, type: cudf.core.dataframe.DataFrame, key: ('split-0-8a9f87f95c03ef6569ee65450ac3f911', 2)>, <Future: finished, type: cudf.core.dataframe.DataFrame, key: ('split-1-8a9f87f95c03ef6569ee65450ac3f911', 2)>, <Future: finished, type: cudf.core.series.Series, key: ('split-0-2d1dd011af482182072bc4cee67b1530', 2)>, <Future: finished, type: cudf.core.series.Series, key: ('split-1-2d1dd011af482182072bc4cee67b1530', 2)>, <Future: finished, type: cudf.core.series.Series, key: ('split-1-2d1dd011af482182072bc4cee67b1530', 1)>, <Future: finished, type: cudf.core.dataframe.DataFrame, key: ('split-1-8a9f87f95c03ef6569ee65450ac3f911', 0)>, <Future: finished, type: cudf.core.dataframe.DataFrame, key: ('split-0-8a9f87f95c03ef6569ee65450ac3f911', 1)>, <Future: finished, type: cudf.core.dataframe.DataFrame, key: ('split-1-8a9f87f95c03ef6569ee65450ac3f911', 3)>, <Future: finished, type: cudf.core.series.Series, key: ('split-0-2d1dd011af482182072bc4cee67b1530', 0)>, <Future: finished, type: cudf.core.series.Series, key: ('split-0-2d1dd011af482182072bc4cee67b1530', 1)>, <Future: finished, type: cudf.core.series.Series, key: ('split-1-2d1dd011af482182072bc4cee67b1530', 3)>, <Future: finished, type: cudf.core.series.Series, key: ('split-1-2d1dd011af482182072bc4cee67b1530', 0)>, <Future: finished, type: cudf.core.dataframe.DataFrame, key: ('split-0-8a9f87f95c03ef6569ee65450ac3f911', 3)>, <Future: finished, type: cudf.core.dataframe.DataFrame, key: ('split-1-8a9f87f95c03ef6569ee65450ac3f911', 1)>, <Future: finished, type: cudf.core.series.Series, key: ('split-0-2d1dd011af482182072bc4cee67b1530', 3)>, <Future: finished, type: cudf.core.dataframe.DataFrame, key: ('split-0-8a9f87f95c03ef6569ee65450ac3f911', 0)>}, not_done=set())"
      ]
     },
     "execution_count": 23,
     "metadata": {},
     "output_type": "execute_result"
    }
   ],
   "source": [
    "# split data into train and test sets\n",
    "y=ddf['target'].astype('float32')\n",
    "X=ddf[features_list].astype('float32')\n",
    "\n",
    "X_train, X_test, y_train, y_test=train_test_split(X, y, random_state=42)\n",
    "X_train, X_test, y_train, y_test=client.persist([X_train, X_test, y_train, y_test])\n",
    "wait([X_train, X_test, y_train, y_test])"
   ]
  },
  {
   "cell_type": "code",
   "execution_count": 28,
   "id": "28c685ce-9f07-40ba-b6ac-651e9b979c55",
   "metadata": {
    "scrolled": true,
    "tags": []
   },
   "outputs": [],
   "source": [
    "# create DaskDMatrix\n",
    "dtrain=xgboost.dask.DaskDMatrix(client, X_train, y_train)\n",
    "dtest=xgboost.dask.DaskDMatrix(client, X_test, y_test)"
   ]
  },
  {
   "cell_type": "code",
   "execution_count": 29,
   "id": "e44490d2-a3e5-4c8b-b1e9-6b39e8b896a0",
   "metadata": {
    "scrolled": true,
    "tags": []
   },
   "outputs": [
    {
     "name": "stderr",
     "output_type": "stream",
     "text": [
      "[18:40:40] task [xgboost.dask-0]:tcp://127.0.0.1:46457 got new rank 0\n",
      "[18:40:40] task [xgboost.dask-1]:tcp://127.0.0.1:37723 got new rank 1\n",
      "[18:40:40] task [xgboost.dask-2]:tcp://127.0.0.1:37887 got new rank 2\n",
      "[18:40:40] task [xgboost.dask-3]:tcp://127.0.0.1:37815 got new rank 3\n",
      "[18:40:40] WARNING: /var/lib/jenkins/workspace/rapidsai/conda/xgboost/xgboost-conda-build/CUDA/11.5/PYTHON/3.9/conda-bld-workspace/work/src/learner.cc:767: \n",
      "Parameters: { \"early_stopping_rounds\", \"n_estimators\" } are not used.\n",
      "\n",
      "[18:40:40] WARNING: /var/lib/jenkins/workspace/rapidsai/conda/xgboost/xgboost-conda-build/CUDA/11.5/PYTHON/3.9/conda-bld-workspace/work/src/learner.cc:767: \n",
      "Parameters: { \"early_stopping_rounds\", \"n_estimators\" } are not used.\n",
      "\n",
      "[18:40:40] WARNING: /var/lib/jenkins/workspace/rapidsai/conda/xgboost/xgboost-conda-build/CUDA/11.5/PYTHON/3.9/conda-bld-workspace/work/src/learner.cc:767: \n",
      "Parameters: { \"early_stopping_rounds\", \"n_estimators\" } are not used.\n",
      "\n",
      "[18:40:40] WARNING: /var/lib/jenkins/workspace/rapidsai/conda/xgboost/xgboost-conda-build/CUDA/11.5/PYTHON/3.9/conda-bld-workspace/work/src/learner.cc:767: \n",
      "Parameters: { \"early_stopping_rounds\", \"n_estimators\" } are not used.\n",
      "\n"
     ]
    },
    {
     "name": "stdout",
     "output_type": "stream",
     "text": [
      "[0]\ttrain-auc:0.60819\tvalid-auc:0.60660\n",
      "[1]\ttrain-auc:0.61149\tvalid-auc:0.60972\n",
      "[2]\ttrain-auc:0.61212\tvalid-auc:0.61023\n",
      "[3]\ttrain-auc:0.61321\tvalid-auc:0.61111\n",
      "[4]\ttrain-auc:0.61399\tvalid-auc:0.61186\n",
      "[5]\ttrain-auc:0.61474\tvalid-auc:0.61239\n",
      "[6]\ttrain-auc:0.61561\tvalid-auc:0.61318\n",
      "[7]\ttrain-auc:0.61620\tvalid-auc:0.61349\n",
      "[8]\ttrain-auc:0.61686\tvalid-auc:0.61395\n",
      "[9]\ttrain-auc:0.61771\tvalid-auc:0.61475\n",
      "[10]\ttrain-auc:0.61809\tvalid-auc:0.61490\n",
      "[11]\ttrain-auc:0.61860\tvalid-auc:0.61508\n",
      "[12]\ttrain-auc:0.61912\tvalid-auc:0.61549\n",
      "[13]\ttrain-auc:0.61957\tvalid-auc:0.61564\n",
      "[14]\ttrain-auc:0.61971\tvalid-auc:0.61569\n",
      "[15]\ttrain-auc:0.62034\tvalid-auc:0.61622\n",
      "[16]\ttrain-auc:0.62096\tvalid-auc:0.61674\n",
      "[17]\ttrain-auc:0.62129\tvalid-auc:0.61695\n",
      "[18]\ttrain-auc:0.62187\tvalid-auc:0.61740\n",
      "[19]\ttrain-auc:0.62258\tvalid-auc:0.61800\n",
      "[20]\ttrain-auc:0.62295\tvalid-auc:0.61819\n",
      "[21]\ttrain-auc:0.62344\tvalid-auc:0.61848\n",
      "[22]\ttrain-auc:0.62397\tvalid-auc:0.61898\n",
      "[23]\ttrain-auc:0.62444\tvalid-auc:0.61932\n",
      "[24]\ttrain-auc:0.62463\tvalid-auc:0.61942\n",
      "[25]\ttrain-auc:0.62502\tvalid-auc:0.61966\n",
      "[26]\ttrain-auc:0.62531\tvalid-auc:0.61979\n",
      "[27]\ttrain-auc:0.62567\tvalid-auc:0.61994\n",
      "[28]\ttrain-auc:0.62614\tvalid-auc:0.62020\n",
      "[29]\ttrain-auc:0.62667\tvalid-auc:0.62055\n",
      "[30]\ttrain-auc:0.62698\tvalid-auc:0.62069\n",
      "[31]\ttrain-auc:0.62739\tvalid-auc:0.62095\n",
      "[32]\ttrain-auc:0.62768\tvalid-auc:0.62111\n",
      "[33]\ttrain-auc:0.62785\tvalid-auc:0.62120\n",
      "[34]\ttrain-auc:0.62814\tvalid-auc:0.62133\n",
      "[35]\ttrain-auc:0.62842\tvalid-auc:0.62150\n",
      "[36]\ttrain-auc:0.62885\tvalid-auc:0.62173\n",
      "[37]\ttrain-auc:0.62925\tvalid-auc:0.62196\n",
      "[38]\ttrain-auc:0.62964\tvalid-auc:0.62222\n",
      "[39]\ttrain-auc:0.62982\tvalid-auc:0.62232\n",
      "[40]\ttrain-auc:0.63010\tvalid-auc:0.62253\n",
      "[41]\ttrain-auc:0.63026\tvalid-auc:0.62256\n",
      "[42]\ttrain-auc:0.63043\tvalid-auc:0.62265\n",
      "[43]\ttrain-auc:0.63081\tvalid-auc:0.62286\n",
      "[44]\ttrain-auc:0.63107\tvalid-auc:0.62300\n",
      "[45]\ttrain-auc:0.63151\tvalid-auc:0.62322\n",
      "[46]\ttrain-auc:0.63178\tvalid-auc:0.62334\n",
      "[47]\ttrain-auc:0.63207\tvalid-auc:0.62345\n",
      "[48]\ttrain-auc:0.63238\tvalid-auc:0.62358\n",
      "[49]\ttrain-auc:0.63276\tvalid-auc:0.62382\n",
      "[50]\ttrain-auc:0.63293\tvalid-auc:0.62385\n",
      "[51]\ttrain-auc:0.63329\tvalid-auc:0.62403\n",
      "[52]\ttrain-auc:0.63360\tvalid-auc:0.62426\n",
      "[53]\ttrain-auc:0.63373\tvalid-auc:0.62430\n",
      "[54]\ttrain-auc:0.63381\tvalid-auc:0.62429\n",
      "[55]\ttrain-auc:0.63404\tvalid-auc:0.62438\n",
      "[56]\ttrain-auc:0.63421\tvalid-auc:0.62451\n",
      "[57]\ttrain-auc:0.63446\tvalid-auc:0.62469\n",
      "[58]\ttrain-auc:0.63469\tvalid-auc:0.62477\n",
      "[59]\ttrain-auc:0.63475\tvalid-auc:0.62477\n",
      "[60]\ttrain-auc:0.63505\tvalid-auc:0.62497\n",
      "[61]\ttrain-auc:0.63525\tvalid-auc:0.62507\n",
      "[62]\ttrain-auc:0.63549\tvalid-auc:0.62518\n",
      "[63]\ttrain-auc:0.63571\tvalid-auc:0.62527\n",
      "[64]\ttrain-auc:0.63583\tvalid-auc:0.62532\n",
      "[65]\ttrain-auc:0.63592\tvalid-auc:0.62538\n",
      "[66]\ttrain-auc:0.63615\tvalid-auc:0.62540\n",
      "[67]\ttrain-auc:0.63634\tvalid-auc:0.62548\n",
      "[68]\ttrain-auc:0.63666\tvalid-auc:0.62562\n",
      "[69]\ttrain-auc:0.63678\tvalid-auc:0.62570\n",
      "[70]\ttrain-auc:0.63703\tvalid-auc:0.62581\n",
      "[71]\ttrain-auc:0.63731\tvalid-auc:0.62588\n",
      "[72]\ttrain-auc:0.63746\tvalid-auc:0.62592\n",
      "[73]\ttrain-auc:0.63768\tvalid-auc:0.62606\n",
      "[74]\ttrain-auc:0.63792\tvalid-auc:0.62617\n",
      "[75]\ttrain-auc:0.63803\tvalid-auc:0.62617\n",
      "[76]\ttrain-auc:0.63823\tvalid-auc:0.62626\n",
      "[77]\ttrain-auc:0.63846\tvalid-auc:0.62645\n",
      "[78]\ttrain-auc:0.63867\tvalid-auc:0.62656\n",
      "[79]\ttrain-auc:0.63899\tvalid-auc:0.62676\n",
      "[80]\ttrain-auc:0.63924\tvalid-auc:0.62681\n",
      "[81]\ttrain-auc:0.63935\tvalid-auc:0.62687\n",
      "[82]\ttrain-auc:0.63957\tvalid-auc:0.62693\n",
      "[83]\ttrain-auc:0.63982\tvalid-auc:0.62705\n",
      "[84]\ttrain-auc:0.64002\tvalid-auc:0.62706\n",
      "[85]\ttrain-auc:0.64010\tvalid-auc:0.62706\n",
      "[86]\ttrain-auc:0.64022\tvalid-auc:0.62708\n",
      "[87]\ttrain-auc:0.64032\tvalid-auc:0.62709\n",
      "[88]\ttrain-auc:0.64040\tvalid-auc:0.62712\n",
      "[89]\ttrain-auc:0.64051\tvalid-auc:0.62714\n",
      "[90]\ttrain-auc:0.64067\tvalid-auc:0.62720\n",
      "[91]\ttrain-auc:0.64089\tvalid-auc:0.62724\n",
      "[92]\ttrain-auc:0.64118\tvalid-auc:0.62736\n",
      "[93]\ttrain-auc:0.64142\tvalid-auc:0.62743\n",
      "[94]\ttrain-auc:0.64156\tvalid-auc:0.62747\n",
      "[95]\ttrain-auc:0.64176\tvalid-auc:0.62755\n",
      "[96]\ttrain-auc:0.64194\tvalid-auc:0.62761\n",
      "[97]\ttrain-auc:0.64216\tvalid-auc:0.62771\n",
      "[98]\ttrain-auc:0.64236\tvalid-auc:0.62780\n",
      "[99]\ttrain-auc:0.64259\tvalid-auc:0.62795\n",
      "[100]\ttrain-auc:0.64286\tvalid-auc:0.62811\n",
      "[101]\ttrain-auc:0.64303\tvalid-auc:0.62815\n",
      "[102]\ttrain-auc:0.64330\tvalid-auc:0.62826\n",
      "[103]\ttrain-auc:0.64340\tvalid-auc:0.62824\n",
      "[104]\ttrain-auc:0.64358\tvalid-auc:0.62829\n",
      "[105]\ttrain-auc:0.64376\tvalid-auc:0.62834\n",
      "[106]\ttrain-auc:0.64390\tvalid-auc:0.62839\n",
      "[107]\ttrain-auc:0.64408\tvalid-auc:0.62846\n",
      "[108]\ttrain-auc:0.64426\tvalid-auc:0.62851\n",
      "[109]\ttrain-auc:0.64446\tvalid-auc:0.62857\n",
      "[110]\ttrain-auc:0.64459\tvalid-auc:0.62861\n",
      "[111]\ttrain-auc:0.64484\tvalid-auc:0.62877\n",
      "[112]\ttrain-auc:0.64491\tvalid-auc:0.62878\n",
      "[113]\ttrain-auc:0.64503\tvalid-auc:0.62883\n",
      "[114]\ttrain-auc:0.64519\tvalid-auc:0.62894\n",
      "[115]\ttrain-auc:0.64534\tvalid-auc:0.62904\n",
      "[116]\ttrain-auc:0.64548\tvalid-auc:0.62910\n",
      "[117]\ttrain-auc:0.64569\tvalid-auc:0.62915\n",
      "[118]\ttrain-auc:0.64575\tvalid-auc:0.62916\n",
      "[119]\ttrain-auc:0.64596\tvalid-auc:0.62920\n",
      "[120]\ttrain-auc:0.64609\tvalid-auc:0.62929\n",
      "[121]\ttrain-auc:0.64631\tvalid-auc:0.62934\n",
      "[122]\ttrain-auc:0.64656\tvalid-auc:0.62944\n",
      "[123]\ttrain-auc:0.64678\tvalid-auc:0.62955\n",
      "[124]\ttrain-auc:0.64694\tvalid-auc:0.62960\n",
      "[125]\ttrain-auc:0.64708\tvalid-auc:0.62965\n",
      "[126]\ttrain-auc:0.64724\tvalid-auc:0.62967\n",
      "[127]\ttrain-auc:0.64741\tvalid-auc:0.62975\n",
      "[128]\ttrain-auc:0.64750\tvalid-auc:0.62977\n",
      "[129]\ttrain-auc:0.64769\tvalid-auc:0.62987\n",
      "[130]\ttrain-auc:0.64792\tvalid-auc:0.63005\n",
      "[131]\ttrain-auc:0.64815\tvalid-auc:0.63013\n",
      "[132]\ttrain-auc:0.64824\tvalid-auc:0.63013\n",
      "[133]\ttrain-auc:0.64845\tvalid-auc:0.63018\n",
      "[134]\ttrain-auc:0.64857\tvalid-auc:0.63020\n",
      "[135]\ttrain-auc:0.64876\tvalid-auc:0.63029\n",
      "[136]\ttrain-auc:0.64894\tvalid-auc:0.63042\n",
      "[137]\ttrain-auc:0.64907\tvalid-auc:0.63046\n",
      "[138]\ttrain-auc:0.64926\tvalid-auc:0.63054\n",
      "[139]\ttrain-auc:0.64950\tvalid-auc:0.63060\n",
      "[140]\ttrain-auc:0.64976\tvalid-auc:0.63077\n",
      "[141]\ttrain-auc:0.64994\tvalid-auc:0.63084\n",
      "[142]\ttrain-auc:0.65005\tvalid-auc:0.63086\n",
      "[143]\ttrain-auc:0.65023\tvalid-auc:0.63092\n",
      "[144]\ttrain-auc:0.65032\tvalid-auc:0.63097\n",
      "[145]\ttrain-auc:0.65045\tvalid-auc:0.63105\n",
      "[146]\ttrain-auc:0.65064\tvalid-auc:0.63109\n",
      "[147]\ttrain-auc:0.65075\tvalid-auc:0.63112\n",
      "[148]\ttrain-auc:0.65087\tvalid-auc:0.63122\n",
      "[149]\ttrain-auc:0.65105\tvalid-auc:0.63128\n",
      "[150]\ttrain-auc:0.65125\tvalid-auc:0.63135\n",
      "[151]\ttrain-auc:0.65137\tvalid-auc:0.63140\n",
      "[152]\ttrain-auc:0.65147\tvalid-auc:0.63143\n",
      "[153]\ttrain-auc:0.65158\tvalid-auc:0.63145\n",
      "[154]\ttrain-auc:0.65164\tvalid-auc:0.63144\n",
      "[155]\ttrain-auc:0.65174\tvalid-auc:0.63145\n",
      "[156]\ttrain-auc:0.65183\tvalid-auc:0.63148\n",
      "[157]\ttrain-auc:0.65190\tvalid-auc:0.63149\n",
      "[158]\ttrain-auc:0.65201\tvalid-auc:0.63151\n",
      "[159]\ttrain-auc:0.65206\tvalid-auc:0.63152\n",
      "[160]\ttrain-auc:0.65222\tvalid-auc:0.63155\n",
      "[161]\ttrain-auc:0.65236\tvalid-auc:0.63162\n",
      "[162]\ttrain-auc:0.65248\tvalid-auc:0.63163\n",
      "[163]\ttrain-auc:0.65257\tvalid-auc:0.63167\n",
      "[164]\ttrain-auc:0.65268\tvalid-auc:0.63169\n",
      "[165]\ttrain-auc:0.65285\tvalid-auc:0.63177\n",
      "[166]\ttrain-auc:0.65290\tvalid-auc:0.63176\n",
      "[167]\ttrain-auc:0.65301\tvalid-auc:0.63185\n",
      "[168]\ttrain-auc:0.65313\tvalid-auc:0.63189\n",
      "[169]\ttrain-auc:0.65320\tvalid-auc:0.63191\n",
      "[170]\ttrain-auc:0.65330\tvalid-auc:0.63194\n",
      "[171]\ttrain-auc:0.65344\tvalid-auc:0.63194\n",
      "[172]\ttrain-auc:0.65365\tvalid-auc:0.63199\n",
      "[173]\ttrain-auc:0.65376\tvalid-auc:0.63199\n",
      "[174]\ttrain-auc:0.65381\tvalid-auc:0.63200\n",
      "[175]\ttrain-auc:0.65389\tvalid-auc:0.63199\n",
      "[176]\ttrain-auc:0.65396\tvalid-auc:0.63199\n",
      "[177]\ttrain-auc:0.65411\tvalid-auc:0.63204\n",
      "[178]\ttrain-auc:0.65415\tvalid-auc:0.63206\n",
      "[179]\ttrain-auc:0.65425\tvalid-auc:0.63207\n",
      "[180]\ttrain-auc:0.65433\tvalid-auc:0.63211\n",
      "[181]\ttrain-auc:0.65446\tvalid-auc:0.63213\n",
      "[182]\ttrain-auc:0.65453\tvalid-auc:0.63215\n",
      "[183]\ttrain-auc:0.65469\tvalid-auc:0.63219\n",
      "[184]\ttrain-auc:0.65487\tvalid-auc:0.63225\n",
      "[185]\ttrain-auc:0.65501\tvalid-auc:0.63230\n",
      "[186]\ttrain-auc:0.65520\tvalid-auc:0.63237\n",
      "[187]\ttrain-auc:0.65531\tvalid-auc:0.63242\n",
      "[188]\ttrain-auc:0.65545\tvalid-auc:0.63246\n",
      "[189]\ttrain-auc:0.65552\tvalid-auc:0.63247\n",
      "[190]\ttrain-auc:0.65568\tvalid-auc:0.63259\n",
      "[191]\ttrain-auc:0.65575\tvalid-auc:0.63259\n",
      "[192]\ttrain-auc:0.65585\tvalid-auc:0.63263\n",
      "[193]\ttrain-auc:0.65598\tvalid-auc:0.63263\n",
      "[194]\ttrain-auc:0.65609\tvalid-auc:0.63266\n",
      "[195]\ttrain-auc:0.65623\tvalid-auc:0.63266\n",
      "[196]\ttrain-auc:0.65632\tvalid-auc:0.63275\n",
      "[197]\ttrain-auc:0.65642\tvalid-auc:0.63275\n",
      "[198]\ttrain-auc:0.65656\tvalid-auc:0.63280\n",
      "[199]\ttrain-auc:0.65672\tvalid-auc:0.63288\n",
      "[200]\ttrain-auc:0.65681\tvalid-auc:0.63292\n",
      "[201]\ttrain-auc:0.65694\tvalid-auc:0.63299\n",
      "[202]\ttrain-auc:0.65706\tvalid-auc:0.63302\n",
      "[203]\ttrain-auc:0.65714\tvalid-auc:0.63306\n",
      "[204]\ttrain-auc:0.65730\tvalid-auc:0.63308\n",
      "[205]\ttrain-auc:0.65734\tvalid-auc:0.63307\n",
      "[206]\ttrain-auc:0.65742\tvalid-auc:0.63309\n",
      "[207]\ttrain-auc:0.65753\tvalid-auc:0.63308\n",
      "[208]\ttrain-auc:0.65768\tvalid-auc:0.63318\n",
      "[209]\ttrain-auc:0.65782\tvalid-auc:0.63320\n",
      "[210]\ttrain-auc:0.65790\tvalid-auc:0.63325\n",
      "[211]\ttrain-auc:0.65805\tvalid-auc:0.63334\n",
      "[212]\ttrain-auc:0.65819\tvalid-auc:0.63337\n",
      "[213]\ttrain-auc:0.65833\tvalid-auc:0.63342\n",
      "[214]\ttrain-auc:0.65841\tvalid-auc:0.63341\n",
      "[215]\ttrain-auc:0.65854\tvalid-auc:0.63339\n",
      "[216]\ttrain-auc:0.65871\tvalid-auc:0.63345\n",
      "[217]\ttrain-auc:0.65881\tvalid-auc:0.63348\n",
      "[218]\ttrain-auc:0.65899\tvalid-auc:0.63355\n",
      "[219]\ttrain-auc:0.65913\tvalid-auc:0.63360\n",
      "[220]\ttrain-auc:0.65919\tvalid-auc:0.63362\n",
      "[221]\ttrain-auc:0.65926\tvalid-auc:0.63362\n",
      "[222]\ttrain-auc:0.65935\tvalid-auc:0.63363\n",
      "[223]\ttrain-auc:0.65952\tvalid-auc:0.63372\n",
      "[224]\ttrain-auc:0.65967\tvalid-auc:0.63379\n",
      "[225]\ttrain-auc:0.65982\tvalid-auc:0.63387\n",
      "[226]\ttrain-auc:0.65987\tvalid-auc:0.63389\n",
      "[227]\ttrain-auc:0.65992\tvalid-auc:0.63388\n",
      "[228]\ttrain-auc:0.66005\tvalid-auc:0.63392\n",
      "[229]\ttrain-auc:0.66015\tvalid-auc:0.63393\n",
      "[230]\ttrain-auc:0.66025\tvalid-auc:0.63393\n",
      "[231]\ttrain-auc:0.66040\tvalid-auc:0.63400\n",
      "[232]\ttrain-auc:0.66052\tvalid-auc:0.63401\n",
      "[233]\ttrain-auc:0.66063\tvalid-auc:0.63403\n",
      "[234]\ttrain-auc:0.66072\tvalid-auc:0.63404\n",
      "[235]\ttrain-auc:0.66083\tvalid-auc:0.63408\n",
      "[236]\ttrain-auc:0.66092\tvalid-auc:0.63413\n",
      "[237]\ttrain-auc:0.66104\tvalid-auc:0.63418\n",
      "[238]\ttrain-auc:0.66121\tvalid-auc:0.63424\n",
      "[239]\ttrain-auc:0.66134\tvalid-auc:0.63428\n",
      "[240]\ttrain-auc:0.66145\tvalid-auc:0.63434\n",
      "[241]\ttrain-auc:0.66158\tvalid-auc:0.63438\n",
      "[242]\ttrain-auc:0.66165\tvalid-auc:0.63441\n",
      "[243]\ttrain-auc:0.66183\tvalid-auc:0.63451\n",
      "[244]\ttrain-auc:0.66195\tvalid-auc:0.63455\n",
      "[245]\ttrain-auc:0.66212\tvalid-auc:0.63464\n",
      "[246]\ttrain-auc:0.66228\tvalid-auc:0.63474\n",
      "[247]\ttrain-auc:0.66235\tvalid-auc:0.63476\n",
      "[248]\ttrain-auc:0.66247\tvalid-auc:0.63480\n",
      "[249]\ttrain-auc:0.66267\tvalid-auc:0.63482\n",
      "[250]\ttrain-auc:0.66275\tvalid-auc:0.63487\n",
      "[251]\ttrain-auc:0.66285\tvalid-auc:0.63489\n",
      "[252]\ttrain-auc:0.66301\tvalid-auc:0.63494\n",
      "[253]\ttrain-auc:0.66315\tvalid-auc:0.63501\n",
      "[254]\ttrain-auc:0.66328\tvalid-auc:0.63503\n",
      "[255]\ttrain-auc:0.66339\tvalid-auc:0.63504\n",
      "[256]\ttrain-auc:0.66348\tvalid-auc:0.63506\n",
      "[257]\ttrain-auc:0.66356\tvalid-auc:0.63505\n",
      "[258]\ttrain-auc:0.66369\tvalid-auc:0.63507\n",
      "[259]\ttrain-auc:0.66380\tvalid-auc:0.63509\n",
      "[260]\ttrain-auc:0.66394\tvalid-auc:0.63510\n",
      "[261]\ttrain-auc:0.66403\tvalid-auc:0.63512\n",
      "[262]\ttrain-auc:0.66420\tvalid-auc:0.63515\n",
      "[263]\ttrain-auc:0.66428\tvalid-auc:0.63518\n",
      "[264]\ttrain-auc:0.66433\tvalid-auc:0.63517\n",
      "[265]\ttrain-auc:0.66442\tvalid-auc:0.63516\n",
      "[266]\ttrain-auc:0.66448\tvalid-auc:0.63521\n",
      "[267]\ttrain-auc:0.66457\tvalid-auc:0.63527\n",
      "[268]\ttrain-auc:0.66463\tvalid-auc:0.63530\n",
      "[269]\ttrain-auc:0.66470\tvalid-auc:0.63535\n",
      "[270]\ttrain-auc:0.66478\tvalid-auc:0.63541\n",
      "[271]\ttrain-auc:0.66487\tvalid-auc:0.63540\n",
      "[272]\ttrain-auc:0.66504\tvalid-auc:0.63545\n",
      "[273]\ttrain-auc:0.66508\tvalid-auc:0.63546\n",
      "[274]\ttrain-auc:0.66517\tvalid-auc:0.63550\n",
      "[275]\ttrain-auc:0.66527\tvalid-auc:0.63554\n",
      "[276]\ttrain-auc:0.66537\tvalid-auc:0.63556\n",
      "[277]\ttrain-auc:0.66546\tvalid-auc:0.63560\n",
      "[278]\ttrain-auc:0.66554\tvalid-auc:0.63563\n",
      "[279]\ttrain-auc:0.66571\tvalid-auc:0.63576\n",
      "[280]\ttrain-auc:0.66583\tvalid-auc:0.63581\n",
      "[281]\ttrain-auc:0.66590\tvalid-auc:0.63582\n",
      "[282]\ttrain-auc:0.66603\tvalid-auc:0.63588\n",
      "[283]\ttrain-auc:0.66618\tvalid-auc:0.63597\n",
      "[284]\ttrain-auc:0.66629\tvalid-auc:0.63600\n",
      "[285]\ttrain-auc:0.66639\tvalid-auc:0.63600\n",
      "[286]\ttrain-auc:0.66646\tvalid-auc:0.63605\n",
      "[287]\ttrain-auc:0.66656\tvalid-auc:0.63607\n",
      "[288]\ttrain-auc:0.66668\tvalid-auc:0.63610\n",
      "[289]\ttrain-auc:0.66673\tvalid-auc:0.63610\n",
      "[290]\ttrain-auc:0.66678\tvalid-auc:0.63610\n",
      "[291]\ttrain-auc:0.66684\tvalid-auc:0.63610\n",
      "[292]\ttrain-auc:0.66696\tvalid-auc:0.63612\n",
      "[293]\ttrain-auc:0.66700\tvalid-auc:0.63615\n",
      "[294]\ttrain-auc:0.66716\tvalid-auc:0.63621\n",
      "[295]\ttrain-auc:0.66731\tvalid-auc:0.63631\n",
      "[296]\ttrain-auc:0.66746\tvalid-auc:0.63638\n",
      "[297]\ttrain-auc:0.66755\tvalid-auc:0.63641\n",
      "[298]\ttrain-auc:0.66770\tvalid-auc:0.63645\n",
      "[299]\ttrain-auc:0.66779\tvalid-auc:0.63647\n",
      "[300]\ttrain-auc:0.66787\tvalid-auc:0.63648\n",
      "[301]\ttrain-auc:0.66795\tvalid-auc:0.63653\n",
      "[302]\ttrain-auc:0.66804\tvalid-auc:0.63655\n",
      "[303]\ttrain-auc:0.66813\tvalid-auc:0.63659\n",
      "[304]\ttrain-auc:0.66821\tvalid-auc:0.63662\n",
      "[305]\ttrain-auc:0.66834\tvalid-auc:0.63665\n",
      "[306]\ttrain-auc:0.66846\tvalid-auc:0.63671\n",
      "[307]\ttrain-auc:0.66858\tvalid-auc:0.63673\n",
      "[308]\ttrain-auc:0.66866\tvalid-auc:0.63672\n",
      "[309]\ttrain-auc:0.66873\tvalid-auc:0.63675\n",
      "[310]\ttrain-auc:0.66884\tvalid-auc:0.63679\n",
      "[311]\ttrain-auc:0.66895\tvalid-auc:0.63680\n",
      "[312]\ttrain-auc:0.66905\tvalid-auc:0.63681\n",
      "[313]\ttrain-auc:0.66911\tvalid-auc:0.63679\n",
      "[314]\ttrain-auc:0.66916\tvalid-auc:0.63679\n",
      "[315]\ttrain-auc:0.66931\tvalid-auc:0.63684\n",
      "[316]\ttrain-auc:0.66937\tvalid-auc:0.63686\n",
      "[317]\ttrain-auc:0.66943\tvalid-auc:0.63687\n",
      "[318]\ttrain-auc:0.66954\tvalid-auc:0.63688\n",
      "[319]\ttrain-auc:0.66964\tvalid-auc:0.63692\n",
      "[320]\ttrain-auc:0.66969\tvalid-auc:0.63692\n",
      "[321]\ttrain-auc:0.66981\tvalid-auc:0.63695\n",
      "[322]\ttrain-auc:0.66992\tvalid-auc:0.63696\n",
      "[323]\ttrain-auc:0.67001\tvalid-auc:0.63694\n",
      "[324]\ttrain-auc:0.67010\tvalid-auc:0.63696\n",
      "[325]\ttrain-auc:0.67016\tvalid-auc:0.63695\n",
      "[326]\ttrain-auc:0.67025\tvalid-auc:0.63696\n",
      "[327]\ttrain-auc:0.67038\tvalid-auc:0.63698\n",
      "[328]\ttrain-auc:0.67048\tvalid-auc:0.63697\n",
      "[329]\ttrain-auc:0.67060\tvalid-auc:0.63700\n",
      "[330]\ttrain-auc:0.67074\tvalid-auc:0.63705\n",
      "[331]\ttrain-auc:0.67080\tvalid-auc:0.63705\n",
      "[332]\ttrain-auc:0.67092\tvalid-auc:0.63709\n",
      "[333]\ttrain-auc:0.67097\tvalid-auc:0.63710\n",
      "[334]\ttrain-auc:0.67106\tvalid-auc:0.63709\n",
      "[335]\ttrain-auc:0.67113\tvalid-auc:0.63711\n",
      "[336]\ttrain-auc:0.67124\tvalid-auc:0.63718\n",
      "[337]\ttrain-auc:0.67128\tvalid-auc:0.63715\n",
      "[338]\ttrain-auc:0.67135\tvalid-auc:0.63715\n",
      "[339]\ttrain-auc:0.67142\tvalid-auc:0.63717\n",
      "[340]\ttrain-auc:0.67152\tvalid-auc:0.63721\n",
      "[341]\ttrain-auc:0.67156\tvalid-auc:0.63721\n",
      "[342]\ttrain-auc:0.67167\tvalid-auc:0.63721\n",
      "[343]\ttrain-auc:0.67179\tvalid-auc:0.63729\n",
      "[344]\ttrain-auc:0.67188\tvalid-auc:0.63731\n",
      "[345]\ttrain-auc:0.67195\tvalid-auc:0.63732\n",
      "[346]\ttrain-auc:0.67205\tvalid-auc:0.63735\n",
      "[347]\ttrain-auc:0.67218\tvalid-auc:0.63739\n",
      "[348]\ttrain-auc:0.67226\tvalid-auc:0.63737\n",
      "[349]\ttrain-auc:0.67237\tvalid-auc:0.63739\n"
     ]
    }
   ],
   "source": [
    "# retrain optimized model\n",
    "xgb_params.update(best_params)\n",
    "\n",
    "# train the model\n",
    "xgb_dask_clf=xgboost.dask.train(client, \n",
    "                     xgb_params, \n",
    "                     dtrain=dtrain,\n",
    "                     evals=[(dtrain, 'train'), (dtest, 'valid')],\n",
    "                     num_boost_round=350,\n",
    "                     early_stopping_rounds=10\n",
    ")"
   ]
  },
  {
   "cell_type": "code",
   "execution_count": 30,
   "id": "0888f85a-4d78-4650-92d5-330c18c2f152",
   "metadata": {
    "scrolled": true,
    "tags": []
   },
   "outputs": [
    {
     "name": "stdout",
     "output_type": "stream",
     "text": [
      "Accuracy score for test set: 61.67%\n",
      "Throughput is: 1321210.04 per seconds. \n"
     ]
    },
    {
     "name": "stderr",
     "output_type": "stream",
     "text": [
      "/opt/conda/envs/rapids/lib/python3.9/site-packages/cudf/core/single_column_frame.py:345: FutureWarning: Binary operations between host objects such as <class 'numpy.ndarray'> and <class 'cudf.core.series.Series'> are deprecated and will be removed in a future release. Please convert it to a cudf object before performing the operation.\n",
      "  warnings.warn(\n",
      "/opt/conda/envs/rapids/lib/python3.9/site-packages/cudf/core/single_column_frame.py:345: FutureWarning: Binary operations between host objects such as <class 'numpy.ndarray'> and <class 'cudf.core.series.Series'> are deprecated and will be removed in a future release. Please convert it to a cudf object before performing the operation.\n",
      "  warnings.warn(\n",
      "/opt/conda/envs/rapids/lib/python3.9/site-packages/cudf/core/single_column_frame.py:345: FutureWarning: Binary operations between host objects such as <class 'numpy.ndarray'> and <class 'cudf.core.series.Series'> are deprecated and will be removed in a future release. Please convert it to a cudf object before performing the operation.\n",
      "  warnings.warn(\n",
      "/opt/conda/envs/rapids/lib/python3.9/site-packages/cudf/core/single_column_frame.py:345: FutureWarning: Binary operations between host objects such as <class 'numpy.ndarray'> and <class 'cudf.core.series.Series'> are deprecated and will be removed in a future release. Please convert it to a cudf object before performing the operation.\n",
      "  warnings.warn(\n"
     ]
    }
   ],
   "source": [
    "# predict\n",
    "start=time.time()\n",
    "prediction_test=xgboost.dask.predict(client, xgb_dask_clf, dtest)\n",
    "elapsed_time=time.time()-start\n",
    "\n",
    "print(f'Accuracy score for test set: {round(float(accuracy_score(y_test, prediction_test>0.5))*100, 2)}%')\n",
    "\n",
    "throughput=round(len(X_test)/elapsed_time, 2)\n",
    "print(f'Throughput is: {throughput} per seconds. ')"
   ]
  },
  {
   "cell_type": "markdown",
   "id": "d4e64bc6-809c-4cf8-ac8d-3bd5b35c9507",
   "metadata": {},
   "source": [
    "<p><img src='images/tip.png' width=720></p>\n",
    "\n",
    "It is recommended to use a grid-search method to find the optimal hyperparameters of a model that results in the most accurate predictions. To avoid overfitting, we can increase training data sample size that introduces more patterns, reduce the number of features to reduce complexity, or introduce data regularization. To avoid underfitting, we can introduce more complexity by adding more features, although this approach may require more data to fit. "
   ]
  },
  {
   "cell_type": "markdown",
   "id": "0847595d-9993-4e59-a03b-9ae40315afa5",
   "metadata": {},
   "source": [
    "<a href=\"https://www.nvidia.com/dli\"> <img src=\"images/DLI_Header.png\" alt=\"Header\" style=\"width: 400px;\"/> </a>"
   ]
  }
 ],
 "metadata": {
  "kernelspec": {
   "display_name": "Python 3 (ipykernel)",
   "language": "python",
   "name": "python3"
  },
  "language_info": {
   "codemirror_mode": {
    "name": "ipython",
    "version": 3
   },
   "file_extension": ".py",
   "mimetype": "text/x-python",
   "name": "python",
   "nbconvert_exporter": "python",
   "pygments_lexer": "ipython3",
   "version": "3.9.15"
  }
 },
 "nbformat": 4,
 "nbformat_minor": 5
}
